{
  "nbformat": 4,
  "nbformat_minor": 0,
  "metadata": {
    "colab": {
      "name": "Tondi's Method : Adversarial Attack.ipynb",
      "provenance": [],
      "collapsed_sections": [],
      "authorship_tag": "ABX9TyOTuZuHX8MpJOXzW9+L7xlL",
      "include_colab_link": true
    },
    "kernelspec": {
      "name": "python3",
      "display_name": "Python 3"
    },
    "language_info": {
      "name": "python"
    },
    "widgets": {
      "application/vnd.jupyter.widget-state+json": {
        "dd3b75daa07f47b0bc13617db6703293": {
          "model_module": "@jupyter-widgets/controls",
          "model_name": "HBoxModel",
          "model_module_version": "1.5.0",
          "state": {
            "_dom_classes": [],
            "_model_module": "@jupyter-widgets/controls",
            "_model_module_version": "1.5.0",
            "_model_name": "HBoxModel",
            "_view_count": null,
            "_view_module": "@jupyter-widgets/controls",
            "_view_module_version": "1.5.0",
            "_view_name": "HBoxView",
            "box_style": "",
            "children": [
              "IPY_MODEL_f35fc967a0a3435dab16ebe40060926e",
              "IPY_MODEL_e9013e40a94749cc92aa57686c05aa2f",
              "IPY_MODEL_5a6b01d7203f4e50840280352cd706e5"
            ],
            "layout": "IPY_MODEL_76cb7ebfd7e043bcae862cfaeee1b408"
          }
        },
        "f35fc967a0a3435dab16ebe40060926e": {
          "model_module": "@jupyter-widgets/controls",
          "model_name": "HTMLModel",
          "model_module_version": "1.5.0",
          "state": {
            "_dom_classes": [],
            "_model_module": "@jupyter-widgets/controls",
            "_model_module_version": "1.5.0",
            "_model_name": "HTMLModel",
            "_view_count": null,
            "_view_module": "@jupyter-widgets/controls",
            "_view_module_version": "1.5.0",
            "_view_name": "HTMLView",
            "description": "",
            "description_tooltip": null,
            "layout": "IPY_MODEL_5f284c589a814e1286735c6b0d372f83",
            "placeholder": "​",
            "style": "IPY_MODEL_424a3aaff7954b43ab0c141fdf8b7c8f",
            "value": "Performing FGSM attack:: 100%"
          }
        },
        "e9013e40a94749cc92aa57686c05aa2f": {
          "model_module": "@jupyter-widgets/controls",
          "model_name": "FloatProgressModel",
          "model_module_version": "1.5.0",
          "state": {
            "_dom_classes": [],
            "_model_module": "@jupyter-widgets/controls",
            "_model_module_version": "1.5.0",
            "_model_name": "FloatProgressModel",
            "_view_count": null,
            "_view_module": "@jupyter-widgets/controls",
            "_view_module_version": "1.5.0",
            "_view_name": "ProgressView",
            "bar_style": "success",
            "description": "",
            "description_tooltip": null,
            "layout": "IPY_MODEL_1a1d3713a4a64c7c9a0ecc4a4ae58669",
            "max": 992,
            "min": 0,
            "orientation": "horizontal",
            "style": "IPY_MODEL_cd6480627893473ebb8aacb6ba9b2b8b",
            "value": 992
          }
        },
        "5a6b01d7203f4e50840280352cd706e5": {
          "model_module": "@jupyter-widgets/controls",
          "model_name": "HTMLModel",
          "model_module_version": "1.5.0",
          "state": {
            "_dom_classes": [],
            "_model_module": "@jupyter-widgets/controls",
            "_model_module_version": "1.5.0",
            "_model_name": "HTMLModel",
            "_view_count": null,
            "_view_module": "@jupyter-widgets/controls",
            "_view_module_version": "1.5.0",
            "_view_name": "HTMLView",
            "description": "",
            "description_tooltip": null,
            "layout": "IPY_MODEL_fb021482c5754cdea6884b5ddb836356",
            "placeholder": "​",
            "style": "IPY_MODEL_f2d2492ac4ae44a9aaa6cabdb31b80d1",
            "value": " 992/992 [14:58&lt;00:00,  1.15it/s]"
          }
        },
        "76cb7ebfd7e043bcae862cfaeee1b408": {
          "model_module": "@jupyter-widgets/base",
          "model_name": "LayoutModel",
          "model_module_version": "1.2.0",
          "state": {
            "_model_module": "@jupyter-widgets/base",
            "_model_module_version": "1.2.0",
            "_model_name": "LayoutModel",
            "_view_count": null,
            "_view_module": "@jupyter-widgets/base",
            "_view_module_version": "1.2.0",
            "_view_name": "LayoutView",
            "align_content": null,
            "align_items": null,
            "align_self": null,
            "border": null,
            "bottom": null,
            "display": null,
            "flex": null,
            "flex_flow": null,
            "grid_area": null,
            "grid_auto_columns": null,
            "grid_auto_flow": null,
            "grid_auto_rows": null,
            "grid_column": null,
            "grid_gap": null,
            "grid_row": null,
            "grid_template_areas": null,
            "grid_template_columns": null,
            "grid_template_rows": null,
            "height": null,
            "justify_content": null,
            "justify_items": null,
            "left": null,
            "margin": null,
            "max_height": null,
            "max_width": null,
            "min_height": null,
            "min_width": null,
            "object_fit": null,
            "object_position": null,
            "order": null,
            "overflow": null,
            "overflow_x": null,
            "overflow_y": null,
            "padding": null,
            "right": null,
            "top": null,
            "visibility": null,
            "width": null
          }
        },
        "5f284c589a814e1286735c6b0d372f83": {
          "model_module": "@jupyter-widgets/base",
          "model_name": "LayoutModel",
          "model_module_version": "1.2.0",
          "state": {
            "_model_module": "@jupyter-widgets/base",
            "_model_module_version": "1.2.0",
            "_model_name": "LayoutModel",
            "_view_count": null,
            "_view_module": "@jupyter-widgets/base",
            "_view_module_version": "1.2.0",
            "_view_name": "LayoutView",
            "align_content": null,
            "align_items": null,
            "align_self": null,
            "border": null,
            "bottom": null,
            "display": null,
            "flex": null,
            "flex_flow": null,
            "grid_area": null,
            "grid_auto_columns": null,
            "grid_auto_flow": null,
            "grid_auto_rows": null,
            "grid_column": null,
            "grid_gap": null,
            "grid_row": null,
            "grid_template_areas": null,
            "grid_template_columns": null,
            "grid_template_rows": null,
            "height": null,
            "justify_content": null,
            "justify_items": null,
            "left": null,
            "margin": null,
            "max_height": null,
            "max_width": null,
            "min_height": null,
            "min_width": null,
            "object_fit": null,
            "object_position": null,
            "order": null,
            "overflow": null,
            "overflow_x": null,
            "overflow_y": null,
            "padding": null,
            "right": null,
            "top": null,
            "visibility": null,
            "width": null
          }
        },
        "424a3aaff7954b43ab0c141fdf8b7c8f": {
          "model_module": "@jupyter-widgets/controls",
          "model_name": "DescriptionStyleModel",
          "model_module_version": "1.5.0",
          "state": {
            "_model_module": "@jupyter-widgets/controls",
            "_model_module_version": "1.5.0",
            "_model_name": "DescriptionStyleModel",
            "_view_count": null,
            "_view_module": "@jupyter-widgets/base",
            "_view_module_version": "1.2.0",
            "_view_name": "StyleView",
            "description_width": ""
          }
        },
        "1a1d3713a4a64c7c9a0ecc4a4ae58669": {
          "model_module": "@jupyter-widgets/base",
          "model_name": "LayoutModel",
          "model_module_version": "1.2.0",
          "state": {
            "_model_module": "@jupyter-widgets/base",
            "_model_module_version": "1.2.0",
            "_model_name": "LayoutModel",
            "_view_count": null,
            "_view_module": "@jupyter-widgets/base",
            "_view_module_version": "1.2.0",
            "_view_name": "LayoutView",
            "align_content": null,
            "align_items": null,
            "align_self": null,
            "border": null,
            "bottom": null,
            "display": null,
            "flex": null,
            "flex_flow": null,
            "grid_area": null,
            "grid_auto_columns": null,
            "grid_auto_flow": null,
            "grid_auto_rows": null,
            "grid_column": null,
            "grid_gap": null,
            "grid_row": null,
            "grid_template_areas": null,
            "grid_template_columns": null,
            "grid_template_rows": null,
            "height": null,
            "justify_content": null,
            "justify_items": null,
            "left": null,
            "margin": null,
            "max_height": null,
            "max_width": null,
            "min_height": null,
            "min_width": null,
            "object_fit": null,
            "object_position": null,
            "order": null,
            "overflow": null,
            "overflow_x": null,
            "overflow_y": null,
            "padding": null,
            "right": null,
            "top": null,
            "visibility": null,
            "width": null
          }
        },
        "cd6480627893473ebb8aacb6ba9b2b8b": {
          "model_module": "@jupyter-widgets/controls",
          "model_name": "ProgressStyleModel",
          "model_module_version": "1.5.0",
          "state": {
            "_model_module": "@jupyter-widgets/controls",
            "_model_module_version": "1.5.0",
            "_model_name": "ProgressStyleModel",
            "_view_count": null,
            "_view_module": "@jupyter-widgets/base",
            "_view_module_version": "1.2.0",
            "_view_name": "StyleView",
            "bar_color": null,
            "description_width": ""
          }
        },
        "fb021482c5754cdea6884b5ddb836356": {
          "model_module": "@jupyter-widgets/base",
          "model_name": "LayoutModel",
          "model_module_version": "1.2.0",
          "state": {
            "_model_module": "@jupyter-widgets/base",
            "_model_module_version": "1.2.0",
            "_model_name": "LayoutModel",
            "_view_count": null,
            "_view_module": "@jupyter-widgets/base",
            "_view_module_version": "1.2.0",
            "_view_name": "LayoutView",
            "align_content": null,
            "align_items": null,
            "align_self": null,
            "border": null,
            "bottom": null,
            "display": null,
            "flex": null,
            "flex_flow": null,
            "grid_area": null,
            "grid_auto_columns": null,
            "grid_auto_flow": null,
            "grid_auto_rows": null,
            "grid_column": null,
            "grid_gap": null,
            "grid_row": null,
            "grid_template_areas": null,
            "grid_template_columns": null,
            "grid_template_rows": null,
            "height": null,
            "justify_content": null,
            "justify_items": null,
            "left": null,
            "margin": null,
            "max_height": null,
            "max_width": null,
            "min_height": null,
            "min_width": null,
            "object_fit": null,
            "object_position": null,
            "order": null,
            "overflow": null,
            "overflow_x": null,
            "overflow_y": null,
            "padding": null,
            "right": null,
            "top": null,
            "visibility": null,
            "width": null
          }
        },
        "f2d2492ac4ae44a9aaa6cabdb31b80d1": {
          "model_module": "@jupyter-widgets/controls",
          "model_name": "DescriptionStyleModel",
          "model_module_version": "1.5.0",
          "state": {
            "_model_module": "@jupyter-widgets/controls",
            "_model_module_version": "1.5.0",
            "_model_name": "DescriptionStyleModel",
            "_view_count": null,
            "_view_module": "@jupyter-widgets/base",
            "_view_module_version": "1.2.0",
            "_view_name": "StyleView",
            "description_width": ""
          }
        }
      }
    }
  },
  "cells": [
    {
      "cell_type": "markdown",
      "metadata": {
        "id": "view-in-github",
        "colab_type": "text"
      },
      "source": [
        "<a href=\"https://colab.research.google.com/github/Bibhash123/Project-Primary-Quantization/blob/main/experiments/Tondi's_Method_Adversarial_Attack.ipynb\" target=\"_parent\"><img src=\"https://colab.research.google.com/assets/colab-badge.svg\" alt=\"Open In Colab\"/></a>"
      ]
    },
    {
      "cell_type": "code",
      "metadata": {
        "colab": {
          "base_uri": "https://localhost:8080/"
        },
        "id": "ybb3vj_lyMN7",
        "outputId": "7702cf80-c643-4a1f-87d7-5099da87b05b"
      },
      "source": [
        "!git clone https://github.com/andreacos/CnnJpegPrimaryQuantizationEstimation.git"
      ],
      "execution_count": null,
      "outputs": [
        {
          "output_type": "stream",
          "name": "stdout",
          "text": [
            "Cloning into 'CnnJpegPrimaryQuantizationEstimation'...\n",
            "remote: Enumerating objects: 459, done.\u001b[K\n",
            "remote: Counting objects: 100% (75/75), done.\u001b[K\n",
            "remote: Compressing objects: 100% (57/57), done.\u001b[K\n",
            "remote: Total 459 (delta 15), reused 66 (delta 10), pack-reused 384\u001b[K\n",
            "Receiving objects: 100% (459/459), 11.67 MiB | 15.05 MiB/s, done.\n",
            "Resolving deltas: 100% (33/33), done.\n"
          ]
        }
      ]
    },
    {
      "cell_type": "code",
      "source": [
        "from IPython.display import clear_output\n",
        "!pip install -q foolbox\n",
        "!pip install -q eagerpy\n",
        "clear_output(wait=False)"
      ],
      "metadata": {
        "id": "_oYEXklj_58e"
      },
      "execution_count": null,
      "outputs": []
    },
    {
      "cell_type": "code",
      "metadata": {
        "colab": {
          "resources": {
            "http://localhost:8080/nbextensions/google.colab/files.js": {
              "data": "Ly8gQ29weXJpZ2h0IDIwMTcgR29vZ2xlIExMQwovLwovLyBMaWNlbnNlZCB1bmRlciB0aGUgQXBhY2hlIExpY2Vuc2UsIFZlcnNpb24gMi4wICh0aGUgIkxpY2Vuc2UiKTsKLy8geW91IG1heSBub3QgdXNlIHRoaXMgZmlsZSBleGNlcHQgaW4gY29tcGxpYW5jZSB3aXRoIHRoZSBMaWNlbnNlLgovLyBZb3UgbWF5IG9idGFpbiBhIGNvcHkgb2YgdGhlIExpY2Vuc2UgYXQKLy8KLy8gICAgICBodHRwOi8vd3d3LmFwYWNoZS5vcmcvbGljZW5zZXMvTElDRU5TRS0yLjAKLy8KLy8gVW5sZXNzIHJlcXVpcmVkIGJ5IGFwcGxpY2FibGUgbGF3IG9yIGFncmVlZCB0byBpbiB3cml0aW5nLCBzb2Z0d2FyZQovLyBkaXN0cmlidXRlZCB1bmRlciB0aGUgTGljZW5zZSBpcyBkaXN0cmlidXRlZCBvbiBhbiAiQVMgSVMiIEJBU0lTLAovLyBXSVRIT1VUIFdBUlJBTlRJRVMgT1IgQ09ORElUSU9OUyBPRiBBTlkgS0lORCwgZWl0aGVyIGV4cHJlc3Mgb3IgaW1wbGllZC4KLy8gU2VlIHRoZSBMaWNlbnNlIGZvciB0aGUgc3BlY2lmaWMgbGFuZ3VhZ2UgZ292ZXJuaW5nIHBlcm1pc3Npb25zIGFuZAovLyBsaW1pdGF0aW9ucyB1bmRlciB0aGUgTGljZW5zZS4KCi8qKgogKiBAZmlsZW92ZXJ2aWV3IEhlbHBlcnMgZm9yIGdvb2dsZS5jb2xhYiBQeXRob24gbW9kdWxlLgogKi8KKGZ1bmN0aW9uKHNjb3BlKSB7CmZ1bmN0aW9uIHNwYW4odGV4dCwgc3R5bGVBdHRyaWJ1dGVzID0ge30pIHsKICBjb25zdCBlbGVtZW50ID0gZG9jdW1lbnQuY3JlYXRlRWxlbWVudCgnc3BhbicpOwogIGVsZW1lbnQudGV4dENvbnRlbnQgPSB0ZXh0OwogIGZvciAoY29uc3Qga2V5IG9mIE9iamVjdC5rZXlzKHN0eWxlQXR0cmlidXRlcykpIHsKICAgIGVsZW1lbnQuc3R5bGVba2V5XSA9IHN0eWxlQXR0cmlidXRlc1trZXldOwogIH0KICByZXR1cm4gZWxlbWVudDsKfQoKLy8gTWF4IG51bWJlciBvZiBieXRlcyB3aGljaCB3aWxsIGJlIHVwbG9hZGVkIGF0IGEgdGltZS4KY29uc3QgTUFYX1BBWUxPQURfU0laRSA9IDEwMCAqIDEwMjQ7CgpmdW5jdGlvbiBfdXBsb2FkRmlsZXMoaW5wdXRJZCwgb3V0cHV0SWQpIHsKICBjb25zdCBzdGVwcyA9IHVwbG9hZEZpbGVzU3RlcChpbnB1dElkLCBvdXRwdXRJZCk7CiAgY29uc3Qgb3V0cHV0RWxlbWVudCA9IGRvY3VtZW50LmdldEVsZW1lbnRCeUlkKG91dHB1dElkKTsKICAvLyBDYWNoZSBzdGVwcyBvbiB0aGUgb3V0cHV0RWxlbWVudCB0byBtYWtlIGl0IGF2YWlsYWJsZSBmb3IgdGhlIG5leHQgY2FsbAogIC8vIHRvIHVwbG9hZEZpbGVzQ29udGludWUgZnJvbSBQeXRob24uCiAgb3V0cHV0RWxlbWVudC5zdGVwcyA9IHN0ZXBzOwoKICByZXR1cm4gX3VwbG9hZEZpbGVzQ29udGludWUob3V0cHV0SWQpOwp9CgovLyBUaGlzIGlzIHJvdWdobHkgYW4gYXN5bmMgZ2VuZXJhdG9yIChub3Qgc3VwcG9ydGVkIGluIHRoZSBicm93c2VyIHlldCksCi8vIHdoZXJlIHRoZXJlIGFyZSBtdWx0aXBsZSBhc3luY2hyb25vdXMgc3RlcHMgYW5kIHRoZSBQeXRob24gc2lkZSBpcyBnb2luZwovLyB0byBwb2xsIGZvciBjb21wbGV0aW9uIG9mIGVhY2ggc3RlcC4KLy8gVGhpcyB1c2VzIGEgUHJvbWlzZSB0byBibG9jayB0aGUgcHl0aG9uIHNpZGUgb24gY29tcGxldGlvbiBvZiBlYWNoIHN0ZXAsCi8vIHRoZW4gcGFzc2VzIHRoZSByZXN1bHQgb2YgdGhlIHByZXZpb3VzIHN0ZXAgYXMgdGhlIGlucHV0IHRvIHRoZSBuZXh0IHN0ZXAuCmZ1bmN0aW9uIF91cGxvYWRGaWxlc0NvbnRpbnVlKG91dHB1dElkKSB7CiAgY29uc3Qgb3V0cHV0RWxlbWVudCA9IGRvY3VtZW50LmdldEVsZW1lbnRCeUlkKG91dHB1dElkKTsKICBjb25zdCBzdGVwcyA9IG91dHB1dEVsZW1lbnQuc3RlcHM7CgogIGNvbnN0IG5leHQgPSBzdGVwcy5uZXh0KG91dHB1dEVsZW1lbnQubGFzdFByb21pc2VWYWx1ZSk7CiAgcmV0dXJuIFByb21pc2UucmVzb2x2ZShuZXh0LnZhbHVlLnByb21pc2UpLnRoZW4oKHZhbHVlKSA9PiB7CiAgICAvLyBDYWNoZSB0aGUgbGFzdCBwcm9taXNlIHZhbHVlIHRvIG1ha2UgaXQgYXZhaWxhYmxlIHRvIHRoZSBuZXh0CiAgICAvLyBzdGVwIG9mIHRoZSBnZW5lcmF0b3IuCiAgICBvdXRwdXRFbGVtZW50Lmxhc3RQcm9taXNlVmFsdWUgPSB2YWx1ZTsKICAgIHJldHVybiBuZXh0LnZhbHVlLnJlc3BvbnNlOwogIH0pOwp9CgovKioKICogR2VuZXJhdG9yIGZ1bmN0aW9uIHdoaWNoIGlzIGNhbGxlZCBiZXR3ZWVuIGVhY2ggYXN5bmMgc3RlcCBvZiB0aGUgdXBsb2FkCiAqIHByb2Nlc3MuCiAqIEBwYXJhbSB7c3RyaW5nfSBpbnB1dElkIEVsZW1lbnQgSUQgb2YgdGhlIGlucHV0IGZpbGUgcGlja2VyIGVsZW1lbnQuCiAqIEBwYXJhbSB7c3RyaW5nfSBvdXRwdXRJZCBFbGVtZW50IElEIG9mIHRoZSBvdXRwdXQgZGlzcGxheS4KICogQHJldHVybiB7IUl0ZXJhYmxlPCFPYmplY3Q+fSBJdGVyYWJsZSBvZiBuZXh0IHN0ZXBzLgogKi8KZnVuY3Rpb24qIHVwbG9hZEZpbGVzU3RlcChpbnB1dElkLCBvdXRwdXRJZCkgewogIGNvbnN0IGlucHV0RWxlbWVudCA9IGRvY3VtZW50LmdldEVsZW1lbnRCeUlkKGlucHV0SWQpOwogIGlucHV0RWxlbWVudC5kaXNhYmxlZCA9IGZhbHNlOwoKICBjb25zdCBvdXRwdXRFbGVtZW50ID0gZG9jdW1lbnQuZ2V0RWxlbWVudEJ5SWQob3V0cHV0SWQpOwogIG91dHB1dEVsZW1lbnQuaW5uZXJIVE1MID0gJyc7CgogIGNvbnN0IHBpY2tlZFByb21pc2UgPSBuZXcgUHJvbWlzZSgocmVzb2x2ZSkgPT4gewogICAgaW5wdXRFbGVtZW50LmFkZEV2ZW50TGlzdGVuZXIoJ2NoYW5nZScsIChlKSA9PiB7CiAgICAgIHJlc29sdmUoZS50YXJnZXQuZmlsZXMpOwogICAgfSk7CiAgfSk7CgogIGNvbnN0IGNhbmNlbCA9IGRvY3VtZW50LmNyZWF0ZUVsZW1lbnQoJ2J1dHRvbicpOwogIGlucHV0RWxlbWVudC5wYXJlbnRFbGVtZW50LmFwcGVuZENoaWxkKGNhbmNlbCk7CiAgY2FuY2VsLnRleHRDb250ZW50ID0gJ0NhbmNlbCB1cGxvYWQnOwogIGNvbnN0IGNhbmNlbFByb21pc2UgPSBuZXcgUHJvbWlzZSgocmVzb2x2ZSkgPT4gewogICAgY2FuY2VsLm9uY2xpY2sgPSAoKSA9PiB7CiAgICAgIHJlc29sdmUobnVsbCk7CiAgICB9OwogIH0pOwoKICAvLyBXYWl0IGZvciB0aGUgdXNlciB0byBwaWNrIHRoZSBmaWxlcy4KICBjb25zdCBmaWxlcyA9IHlpZWxkIHsKICAgIHByb21pc2U6IFByb21pc2UucmFjZShbcGlja2VkUHJvbWlzZSwgY2FuY2VsUHJvbWlzZV0pLAogICAgcmVzcG9uc2U6IHsKICAgICAgYWN0aW9uOiAnc3RhcnRpbmcnLAogICAgfQogIH07CgogIGNhbmNlbC5yZW1vdmUoKTsKCiAgLy8gRGlzYWJsZSB0aGUgaW5wdXQgZWxlbWVudCBzaW5jZSBmdXJ0aGVyIHBpY2tzIGFyZSBub3QgYWxsb3dlZC4KICBpbnB1dEVsZW1lbnQuZGlzYWJsZWQgPSB0cnVlOwoKICBpZiAoIWZpbGVzKSB7CiAgICByZXR1cm4gewogICAgICByZXNwb25zZTogewogICAgICAgIGFjdGlvbjogJ2NvbXBsZXRlJywKICAgICAgfQogICAgfTsKICB9CgogIGZvciAoY29uc3QgZmlsZSBvZiBmaWxlcykgewogICAgY29uc3QgbGkgPSBkb2N1bWVudC5jcmVhdGVFbGVtZW50KCdsaScpOwogICAgbGkuYXBwZW5kKHNwYW4oZmlsZS5uYW1lLCB7Zm9udFdlaWdodDogJ2JvbGQnfSkpOwogICAgbGkuYXBwZW5kKHNwYW4oCiAgICAgICAgYCgke2ZpbGUudHlwZSB8fCAnbi9hJ30pIC0gJHtmaWxlLnNpemV9IGJ5dGVzLCBgICsKICAgICAgICBgbGFzdCBtb2RpZmllZDogJHsKICAgICAgICAgICAgZmlsZS5sYXN0TW9kaWZpZWREYXRlID8gZmlsZS5sYXN0TW9kaWZpZWREYXRlLnRvTG9jYWxlRGF0ZVN0cmluZygpIDoKICAgICAgICAgICAgICAgICAgICAgICAgICAgICAgICAgICAgJ24vYSd9IC0gYCkpOwogICAgY29uc3QgcGVyY2VudCA9IHNwYW4oJzAlIGRvbmUnKTsKICAgIGxpLmFwcGVuZENoaWxkKHBlcmNlbnQpOwoKICAgIG91dHB1dEVsZW1lbnQuYXBwZW5kQ2hpbGQobGkpOwoKICAgIGNvbnN0IGZpbGVEYXRhUHJvbWlzZSA9IG5ldyBQcm9taXNlKChyZXNvbHZlKSA9PiB7CiAgICAgIGNvbnN0IHJlYWRlciA9IG5ldyBGaWxlUmVhZGVyKCk7CiAgICAgIHJlYWRlci5vbmxvYWQgPSAoZSkgPT4gewogICAgICAgIHJlc29sdmUoZS50YXJnZXQucmVzdWx0KTsKICAgICAgfTsKICAgICAgcmVhZGVyLnJlYWRBc0FycmF5QnVmZmVyKGZpbGUpOwogICAgfSk7CiAgICAvLyBXYWl0IGZvciB0aGUgZGF0YSB0byBiZSByZWFkeS4KICAgIGxldCBmaWxlRGF0YSA9IHlpZWxkIHsKICAgICAgcHJvbWlzZTogZmlsZURhdGFQcm9taXNlLAogICAgICByZXNwb25zZTogewogICAgICAgIGFjdGlvbjogJ2NvbnRpbnVlJywKICAgICAgfQogICAgfTsKCiAgICAvLyBVc2UgYSBjaHVua2VkIHNlbmRpbmcgdG8gYXZvaWQgbWVzc2FnZSBzaXplIGxpbWl0cy4gU2VlIGIvNjIxMTU2NjAuCiAgICBsZXQgcG9zaXRpb24gPSAwOwogICAgZG8gewogICAgICBjb25zdCBsZW5ndGggPSBNYXRoLm1pbihmaWxlRGF0YS5ieXRlTGVuZ3RoIC0gcG9zaXRpb24sIE1BWF9QQVlMT0FEX1NJWkUpOwogICAgICBjb25zdCBjaHVuayA9IG5ldyBVaW50OEFycmF5KGZpbGVEYXRhLCBwb3NpdGlvbiwgbGVuZ3RoKTsKICAgICAgcG9zaXRpb24gKz0gbGVuZ3RoOwoKICAgICAgY29uc3QgYmFzZTY0ID0gYnRvYShTdHJpbmcuZnJvbUNoYXJDb2RlLmFwcGx5KG51bGwsIGNodW5rKSk7CiAgICAgIHlpZWxkIHsKICAgICAgICByZXNwb25zZTogewogICAgICAgICAgYWN0aW9uOiAnYXBwZW5kJywKICAgICAgICAgIGZpbGU6IGZpbGUubmFtZSwKICAgICAgICAgIGRhdGE6IGJhc2U2NCwKICAgICAgICB9LAogICAgICB9OwoKICAgICAgbGV0IHBlcmNlbnREb25lID0gZmlsZURhdGEuYnl0ZUxlbmd0aCA9PT0gMCA/CiAgICAgICAgICAxMDAgOgogICAgICAgICAgTWF0aC5yb3VuZCgocG9zaXRpb24gLyBmaWxlRGF0YS5ieXRlTGVuZ3RoKSAqIDEwMCk7CiAgICAgIHBlcmNlbnQudGV4dENvbnRlbnQgPSBgJHtwZXJjZW50RG9uZX0lIGRvbmVgOwoKICAgIH0gd2hpbGUgKHBvc2l0aW9uIDwgZmlsZURhdGEuYnl0ZUxlbmd0aCk7CiAgfQoKICAvLyBBbGwgZG9uZS4KICB5aWVsZCB7CiAgICByZXNwb25zZTogewogICAgICBhY3Rpb246ICdjb21wbGV0ZScsCiAgICB9CiAgfTsKfQoKc2NvcGUuZ29vZ2xlID0gc2NvcGUuZ29vZ2xlIHx8IHt9OwpzY29wZS5nb29nbGUuY29sYWIgPSBzY29wZS5nb29nbGUuY29sYWIgfHwge307CnNjb3BlLmdvb2dsZS5jb2xhYi5fZmlsZXMgPSB7CiAgX3VwbG9hZEZpbGVzLAogIF91cGxvYWRGaWxlc0NvbnRpbnVlLAp9Owp9KShzZWxmKTsK",
              "ok": true,
              "headers": [
                [
                  "content-type",
                  "application/javascript"
                ]
              ],
              "status": 200,
              "status_text": ""
            }
          },
          "base_uri": "https://localhost:8080/",
          "height": 126
        },
        "id": "-2LGcHaO1BOK",
        "outputId": "b0a79fa9-e19a-46eb-df65-83624c7f734b"
      },
      "source": [
        "from google.colab import files\n",
        "_ = files.upload()\n",
        "!mkdir ~/.kaggle/\n",
        "!cp kaggle.json ~/.kaggle/kaggle.json\n",
        "!chmod 600 ~/.kaggle/kaggle.json\n",
        "!pip install -q kaggle\n",
        "# !kaggle datasets download -d \"bibhash123/firstquantest\"\n",
        "# !unzip -q firstquantest.zip -d \"/content/Data/\"\n",
        "# !rm -r firstquantest.zip\n",
        "!kaggle datasets download -d \"bibhash123/tondidataset\"\n",
        "!unzip -q tondidataset.zip -d \"/content/Data/\"\n",
        "!rm -r tondidataset.zip"
      ],
      "execution_count": null,
      "outputs": [
        {
          "output_type": "display_data",
          "data": {
            "text/plain": [
              "<IPython.core.display.HTML object>"
            ],
            "text/html": [
              "\n",
              "     <input type=\"file\" id=\"files-3015b6ae-bbf4-49d6-bded-e9f67ff63b87\" name=\"files[]\" multiple disabled\n",
              "        style=\"border:none\" />\n",
              "     <output id=\"result-3015b6ae-bbf4-49d6-bded-e9f67ff63b87\">\n",
              "      Upload widget is only available when the cell has been executed in the\n",
              "      current browser session. Please rerun this cell to enable.\n",
              "      </output>\n",
              "      <script src=\"/nbextensions/google.colab/files.js\"></script> "
            ]
          },
          "metadata": {}
        },
        {
          "output_type": "stream",
          "name": "stdout",
          "text": [
            "Saving kaggle.json to kaggle.json\n",
            "Downloading tondidataset.zip to /content\n",
            " 99% 575M/582M [00:06<00:00, 109MB/s] \n",
            "100% 582M/582M [00:06<00:00, 98.7MB/s]\n"
          ]
        }
      ]
    },
    {
      "cell_type": "code",
      "metadata": {
        "id": "aSp7tY8Nic52"
      },
      "source": [
        "import os\n",
        "import gc\n",
        "import cv2\n",
        "import numpy as np\n",
        "import pandas as pd\n",
        "import seaborn as sns\n",
        "import tensorflow as tf\n",
        "from functools import partial\n",
        "import matplotlib.pyplot as plt\n",
        "from keras.models import load_model\n",
        "from tqdm.notebook import tqdm\n",
        "\n",
        "import eagerpy as ep\n",
        "import foolbox\n",
        "from foolbox import TensorFlowModel\n",
        "from foolbox.attacks import FGSM\n",
        "from foolbox.criteria import Misclassification\n",
        "from PIL import Image\n",
        "\n",
        "sns.set_style('darkgrid')"
      ],
      "execution_count": null,
      "outputs": []
    },
    {
      "cell_type": "code",
      "metadata": {
        "id": "SH-TJRP1g107"
      },
      "source": [
        "def preprocess_input(im_file, target_size, scale=255.):\n",
        "    \"\"\" \n",
        "        Read image and (eventually) scale data\n",
        "        Arguments:\n",
        "            im_file     : input image file\n",
        "            target_size : output size of the image (height, width)\n",
        "            scale       : pixel scaling value\n",
        "        Returns: The image\n",
        "    \"\"\"\n",
        "    file_bytes = tf.io.read_file(im_file)\n",
        "    img = tf.image.decode_png(file_bytes, channels = 0)\n",
        "    # Normalize and Resize\n",
        "    if img.shape != target_size:\n",
        "        img = tf.image.resize(img, target_size)\n",
        "    img = tf.cast(img/255.0, tf.float32)\n",
        "    return img"
      ],
      "execution_count": null,
      "outputs": []
    },
    {
      "cell_type": "code",
      "metadata": {
        "id": "mHBE0y-eiN6M"
      },
      "source": [
        "def string2Q(s, size=(8, 8), flatten=True):\n",
        "    \"\"\" Converts a comma separated string to a matrix.\n",
        "        Keyword arguments:\n",
        "        sq : input string\n",
        "        size : output matrix size\n",
        "    \"\"\"\n",
        "    if flatten:\n",
        "        return tf.strings.to_number(tf.strings.split(s,','),out_type=tf.int32)\n",
        "    else:\n",
        "        return tf.reshape(tf.strings.to_number(tf.strings.split(s,','),out_type=tf.int32),size)"
      ],
      "execution_count": null,
      "outputs": []
    },
    {
      "cell_type": "code",
      "metadata": {
        "id": "xujiOwgSxoCy"
      },
      "source": [
        "def get_label(im_label):\n",
        "    return string2Q(im_label)[:15]"
      ],
      "execution_count": null,
      "outputs": []
    },
    {
      "cell_type": "code",
      "metadata": {
        "colab": {
          "base_uri": "https://localhost:8080/",
          "height": 337
        },
        "id": "1eLGwt4e3YLC",
        "outputId": "6ed6c3f7-06fd-4829-f38a-7c05044b09e7"
      },
      "source": [
        "files = pd.read_csv(\"/content/Data/test.csv\",sep=\";\",header=None,\n",
        "                         names=['idx', 'filenames', 'quality1', 'quality2', 'software', 'labels',\n",
        "                                'shift_r', 'shift_c']\n",
        "                         )\n",
        "\n",
        "files.head()"
      ],
      "execution_count": null,
      "outputs": [
        {
          "output_type": "execute_result",
          "data": {
            "text/plain": [
              "   idx                                          filenames  quality1  quality2  \\\n",
              "0    0  /content/Data/Test/95-90/00000000_r12c5f70bt.T...        95        90   \n",
              "1    1  /content/Data/Test/95-90/00000001_r12c5f70bt.T...        95        90   \n",
              "2    2  /content/Data/Test/95-90/00000002_r12c5f70bt.T...        95        90   \n",
              "3    3  /content/Data/Test/95-90/00000003_r12c5f70bt.T...        95        90   \n",
              "4    4  /content/Data/Test/95-90/00000004_r12c5f70bt.T...        95        90   \n",
              "\n",
              "        software                                             labels  shift_r  \\\n",
              "0  python-opencv  2,1,1,1,1,1,2,1,1,1,2,2,2,2,2,4,3,2,2,2,2,5,4,...        5   \n",
              "1  python-opencv  2,1,1,1,1,1,2,1,1,1,2,2,2,2,2,4,3,2,2,2,2,5,4,...        5   \n",
              "2  python-opencv  2,1,1,1,1,1,2,1,1,1,2,2,2,2,2,4,3,2,2,2,2,5,4,...        5   \n",
              "3  python-opencv  2,1,1,1,1,1,2,1,1,1,2,2,2,2,2,4,3,2,2,2,2,5,4,...        5   \n",
              "4  python-opencv  2,1,1,1,1,1,2,1,1,1,2,2,2,2,2,4,3,2,2,2,2,5,4,...        5   \n",
              "\n",
              "   shift_c  \n",
              "0        4  \n",
              "1        4  \n",
              "2        4  \n",
              "3        4  \n",
              "4        4  "
            ],
            "text/html": [
              "\n",
              "  <div id=\"df-bd345a3e-8a34-4e8b-b5c6-6e3dfb21c53b\">\n",
              "    <div class=\"colab-df-container\">\n",
              "      <div>\n",
              "<style scoped>\n",
              "    .dataframe tbody tr th:only-of-type {\n",
              "        vertical-align: middle;\n",
              "    }\n",
              "\n",
              "    .dataframe tbody tr th {\n",
              "        vertical-align: top;\n",
              "    }\n",
              "\n",
              "    .dataframe thead th {\n",
              "        text-align: right;\n",
              "    }\n",
              "</style>\n",
              "<table border=\"1\" class=\"dataframe\">\n",
              "  <thead>\n",
              "    <tr style=\"text-align: right;\">\n",
              "      <th></th>\n",
              "      <th>idx</th>\n",
              "      <th>filenames</th>\n",
              "      <th>quality1</th>\n",
              "      <th>quality2</th>\n",
              "      <th>software</th>\n",
              "      <th>labels</th>\n",
              "      <th>shift_r</th>\n",
              "      <th>shift_c</th>\n",
              "    </tr>\n",
              "  </thead>\n",
              "  <tbody>\n",
              "    <tr>\n",
              "      <th>0</th>\n",
              "      <td>0</td>\n",
              "      <td>/content/Data/Test/95-90/00000000_r12c5f70bt.T...</td>\n",
              "      <td>95</td>\n",
              "      <td>90</td>\n",
              "      <td>python-opencv</td>\n",
              "      <td>2,1,1,1,1,1,2,1,1,1,2,2,2,2,2,4,3,2,2,2,2,5,4,...</td>\n",
              "      <td>5</td>\n",
              "      <td>4</td>\n",
              "    </tr>\n",
              "    <tr>\n",
              "      <th>1</th>\n",
              "      <td>1</td>\n",
              "      <td>/content/Data/Test/95-90/00000001_r12c5f70bt.T...</td>\n",
              "      <td>95</td>\n",
              "      <td>90</td>\n",
              "      <td>python-opencv</td>\n",
              "      <td>2,1,1,1,1,1,2,1,1,1,2,2,2,2,2,4,3,2,2,2,2,5,4,...</td>\n",
              "      <td>5</td>\n",
              "      <td>4</td>\n",
              "    </tr>\n",
              "    <tr>\n",
              "      <th>2</th>\n",
              "      <td>2</td>\n",
              "      <td>/content/Data/Test/95-90/00000002_r12c5f70bt.T...</td>\n",
              "      <td>95</td>\n",
              "      <td>90</td>\n",
              "      <td>python-opencv</td>\n",
              "      <td>2,1,1,1,1,1,2,1,1,1,2,2,2,2,2,4,3,2,2,2,2,5,4,...</td>\n",
              "      <td>5</td>\n",
              "      <td>4</td>\n",
              "    </tr>\n",
              "    <tr>\n",
              "      <th>3</th>\n",
              "      <td>3</td>\n",
              "      <td>/content/Data/Test/95-90/00000003_r12c5f70bt.T...</td>\n",
              "      <td>95</td>\n",
              "      <td>90</td>\n",
              "      <td>python-opencv</td>\n",
              "      <td>2,1,1,1,1,1,2,1,1,1,2,2,2,2,2,4,3,2,2,2,2,5,4,...</td>\n",
              "      <td>5</td>\n",
              "      <td>4</td>\n",
              "    </tr>\n",
              "    <tr>\n",
              "      <th>4</th>\n",
              "      <td>4</td>\n",
              "      <td>/content/Data/Test/95-90/00000004_r12c5f70bt.T...</td>\n",
              "      <td>95</td>\n",
              "      <td>90</td>\n",
              "      <td>python-opencv</td>\n",
              "      <td>2,1,1,1,1,1,2,1,1,1,2,2,2,2,2,4,3,2,2,2,2,5,4,...</td>\n",
              "      <td>5</td>\n",
              "      <td>4</td>\n",
              "    </tr>\n",
              "  </tbody>\n",
              "</table>\n",
              "</div>\n",
              "      <button class=\"colab-df-convert\" onclick=\"convertToInteractive('df-bd345a3e-8a34-4e8b-b5c6-6e3dfb21c53b')\"\n",
              "              title=\"Convert this dataframe to an interactive table.\"\n",
              "              style=\"display:none;\">\n",
              "        \n",
              "  <svg xmlns=\"http://www.w3.org/2000/svg\" height=\"24px\"viewBox=\"0 0 24 24\"\n",
              "       width=\"24px\">\n",
              "    <path d=\"M0 0h24v24H0V0z\" fill=\"none\"/>\n",
              "    <path d=\"M18.56 5.44l.94 2.06.94-2.06 2.06-.94-2.06-.94-.94-2.06-.94 2.06-2.06.94zm-11 1L8.5 8.5l.94-2.06 2.06-.94-2.06-.94L8.5 2.5l-.94 2.06-2.06.94zm10 10l.94 2.06.94-2.06 2.06-.94-2.06-.94-.94-2.06-.94 2.06-2.06.94z\"/><path d=\"M17.41 7.96l-1.37-1.37c-.4-.4-.92-.59-1.43-.59-.52 0-1.04.2-1.43.59L10.3 9.45l-7.72 7.72c-.78.78-.78 2.05 0 2.83L4 21.41c.39.39.9.59 1.41.59.51 0 1.02-.2 1.41-.59l7.78-7.78 2.81-2.81c.8-.78.8-2.07 0-2.86zM5.41 20L4 18.59l7.72-7.72 1.47 1.35L5.41 20z\"/>\n",
              "  </svg>\n",
              "      </button>\n",
              "      \n",
              "  <style>\n",
              "    .colab-df-container {\n",
              "      display:flex;\n",
              "      flex-wrap:wrap;\n",
              "      gap: 12px;\n",
              "    }\n",
              "\n",
              "    .colab-df-convert {\n",
              "      background-color: #E8F0FE;\n",
              "      border: none;\n",
              "      border-radius: 50%;\n",
              "      cursor: pointer;\n",
              "      display: none;\n",
              "      fill: #1967D2;\n",
              "      height: 32px;\n",
              "      padding: 0 0 0 0;\n",
              "      width: 32px;\n",
              "    }\n",
              "\n",
              "    .colab-df-convert:hover {\n",
              "      background-color: #E2EBFA;\n",
              "      box-shadow: 0px 1px 2px rgba(60, 64, 67, 0.3), 0px 1px 3px 1px rgba(60, 64, 67, 0.15);\n",
              "      fill: #174EA6;\n",
              "    }\n",
              "\n",
              "    [theme=dark] .colab-df-convert {\n",
              "      background-color: #3B4455;\n",
              "      fill: #D2E3FC;\n",
              "    }\n",
              "\n",
              "    [theme=dark] .colab-df-convert:hover {\n",
              "      background-color: #434B5C;\n",
              "      box-shadow: 0px 1px 3px 1px rgba(0, 0, 0, 0.15);\n",
              "      filter: drop-shadow(0px 1px 2px rgba(0, 0, 0, 0.3));\n",
              "      fill: #FFFFFF;\n",
              "    }\n",
              "  </style>\n",
              "\n",
              "      <script>\n",
              "        const buttonEl =\n",
              "          document.querySelector('#df-bd345a3e-8a34-4e8b-b5c6-6e3dfb21c53b button.colab-df-convert');\n",
              "        buttonEl.style.display =\n",
              "          google.colab.kernel.accessAllowed ? 'block' : 'none';\n",
              "\n",
              "        async function convertToInteractive(key) {\n",
              "          const element = document.querySelector('#df-bd345a3e-8a34-4e8b-b5c6-6e3dfb21c53b');\n",
              "          const dataTable =\n",
              "            await google.colab.kernel.invokeFunction('convertToInteractive',\n",
              "                                                     [key], {});\n",
              "          if (!dataTable) return;\n",
              "\n",
              "          const docLinkHtml = 'Like what you see? Visit the ' +\n",
              "            '<a target=\"_blank\" href=https://colab.research.google.com/notebooks/data_table.ipynb>data table notebook</a>'\n",
              "            + ' to learn more about interactive tables.';\n",
              "          element.innerHTML = '';\n",
              "          dataTable['output_type'] = 'display_data';\n",
              "          await google.colab.output.renderOutput(dataTable, element);\n",
              "          const docLink = document.createElement('div');\n",
              "          docLink.innerHTML = docLinkHtml;\n",
              "          element.appendChild(docLink);\n",
              "        }\n",
              "      </script>\n",
              "    </div>\n",
              "  </div>\n",
              "  "
            ]
          },
          "metadata": {},
          "execution_count": 8
        }
      ]
    },
    {
      "cell_type": "code",
      "metadata": {
        "colab": {
          "base_uri": "https://localhost:8080/"
        },
        "id": "m5r6y4992H2r",
        "outputId": "af69bc07-ee8d-4b0f-fdf2-356f12c0bddf"
      },
      "source": [
        "files['quality1'].unique()"
      ],
      "execution_count": null,
      "outputs": [
        {
          "output_type": "execute_result",
          "data": {
            "text/plain": [
              "array([95, 90, 75, 60, 70, 80, 85, 98, 65])"
            ]
          },
          "metadata": {},
          "execution_count": 9
        }
      ]
    },
    {
      "cell_type": "code",
      "metadata": {
        "id": "Xq6yMqfo4lRT"
      },
      "source": [
        "AUTOTUNE = tf.data.experimental.AUTOTUNE\n",
        "\n",
        "def build_decoder(is_labelled):\n",
        "  def if_labelled(path,label,target_size):\n",
        "    image = preprocess_input(path,target_size)\n",
        "    label = get_label(label)\n",
        "    return image,label\n",
        "  \n",
        "  return if_labelled if is_labelled else preprocess_input\n",
        "\n",
        "def create_dataset(df, batch_size = 32, is_labelled = False, repeat = False, shuffle = False, batch=False, cache=False):\n",
        "    decode_fn = build_decoder(is_labelled)\n",
        "    \n",
        "    # Create Dataset\n",
        "    if is_labelled:\n",
        "        dataset = tf.data.Dataset.from_tensor_slices((df['filenames'].values,df[\"labels\"].values))\n",
        "    else:\n",
        "        dataset = tf.data.Dataset.from_tensor_slices((df['filenames'].values))\n",
        "\n",
        "    dataset = dataset.map(partial(decode_fn,target_size=(64,64)), num_parallel_calls = AUTOTUNE)\n",
        "    dataset = dataset.cache(\"\") if cache else dataset\n",
        "    dataset = dataset.repeat() if repeat else dataset\n",
        "    dataset = dataset.shuffle(1024, reshuffle_each_iteration = True) if shuffle else dataset\n",
        "    dataset = dataset.batch(batch_size,drop_remainder=True) if batch else dataset\n",
        "    dataset = dataset.prefetch(AUTOTUNE)\n",
        "    return dataset"
      ],
      "execution_count": null,
      "outputs": []
    },
    {
      "cell_type": "code",
      "metadata": {
        "id": "XdlNO-JBXgYI"
      },
      "source": [
        "def getX(X,Y):\n",
        "  return X\n",
        "def getY(X,Y):\n",
        "  return Y"
      ],
      "execution_count": null,
      "outputs": []
    },
    {
      "cell_type": "code",
      "metadata": {
        "colab": {
          "base_uri": "https://localhost:8080/"
        },
        "id": "f1Yy2R2gi2Kp",
        "outputId": "674a57e3-f94e-444a-da55-584164a6020c"
      },
      "source": [
        "test_set = create_dataset(files, \n",
        "                          batch_size = 32, \n",
        "                          is_labelled = True, \n",
        "                          repeat = False, \n",
        "                          shuffle = False,\n",
        "                          batch=True,\n",
        "                          cache=False)\n",
        "\n",
        "model = load_model('/content/CnnJpegPrimaryQuantizationEstimation/models/pre_trained/DNN90_60LOG.h5')\n",
        "model.compile(loss='mse',optimizer='adam')"
      ],
      "execution_count": null,
      "outputs": [
        {
          "output_type": "stream",
          "name": "stdout",
          "text": [
            "WARNING:tensorflow:No training configuration found in the save file, so the model was *not* compiled. Compile it manually.\n"
          ]
        }
      ]
    },
    {
      "cell_type": "code",
      "source": [
        "max_size = 960//32\n",
        "images, labels = [],[]\n",
        "\n",
        "for a,b in test_set.as_numpy_iterator():\n",
        "  images.append(a)\n",
        "  labels.append(b)\n",
        "  if len(images)>max_size:\n",
        "    break\n",
        "\n",
        "images = tf.constant(np.concatenate(images, axis = 0))\n",
        "labels = tf.constant(np.concatenate(labels, axis = 0))"
      ],
      "metadata": {
        "id": "qsyrpvxpCKyA"
      },
      "execution_count": null,
      "outputs": []
    },
    {
      "cell_type": "code",
      "source": [
        "labels.shape"
      ],
      "metadata": {
        "colab": {
          "base_uri": "https://localhost:8080/"
        },
        "id": "yGjcrjDQTTRv",
        "outputId": "2620defd-8871-4545-8c59-729ebdf6c9cc"
      },
      "execution_count": null,
      "outputs": [
        {
          "output_type": "execute_result",
          "data": {
            "text/plain": [
              "TensorShape([992, 15])"
            ]
          },
          "metadata": {},
          "execution_count": 14
        }
      ]
    },
    {
      "cell_type": "code",
      "source": [
        "images.shape"
      ],
      "metadata": {
        "colab": {
          "base_uri": "https://localhost:8080/"
        },
        "id": "xe_zYtn_sTSJ",
        "outputId": "f088bbf4-80c6-44f4-caae-8e19ce865cf5"
      },
      "execution_count": null,
      "outputs": [
        {
          "output_type": "execute_result",
          "data": {
            "text/plain": [
              "TensorShape([992, 64, 64, 1])"
            ]
          },
          "metadata": {},
          "execution_count": 15
        }
      ]
    },
    {
      "cell_type": "code",
      "source": [
        "pred = model.predict(images)\n",
        "print(\"Initial Model Accuracy:\",np.sum(np.round(pred)==labels)/(15*images.shape[0]))"
      ],
      "metadata": {
        "id": "auyAZUQBUGFX",
        "colab": {
          "base_uri": "https://localhost:8080/"
        },
        "outputId": "971a6a5f-f182-4dc2-8217-9476b864d0d0"
      },
      "execution_count": null,
      "outputs": [
        {
          "output_type": "stream",
          "name": "stdout",
          "text": [
            "Initial Model Accuracy: 0.7760752688172043\n"
          ]
        }
      ]
    },
    {
      "cell_type": "code",
      "source": [
        "loss_object = tf.keras.losses.LogCosh()\n",
        "\n",
        "def create_adversarial_pattern(model, input_image, input_label):\n",
        "  with tf.GradientTape() as tape:\n",
        "    tape.watch(input_image)\n",
        "    prediction = model(tf.expand_dims(input_image,axis = 0))\n",
        "    loss = loss_object(input_label, prediction)\n",
        "\n",
        "  # Get the gradients of the loss w.r.t to the input image.\n",
        "  gradient = tape.gradient(loss, input_image)\n",
        "  # Get the sign of the gradients to create the perturbation\n",
        "  signed_grad = tf.sign(gradient)\n",
        "  return signed_grad\n",
        "\n",
        "perturbations = create_adversarial_pattern(model, images[1], labels[1])"
      ],
      "metadata": {
        "id": "-Vj1DE6Bjacm"
      },
      "execution_count": null,
      "outputs": []
    },
    {
      "cell_type": "code",
      "source": [
        "def attack(model, images, labels, epsilons):\n",
        "  advs = []\n",
        "  for idx in tqdm(range(images.shape[0]), \"Performing FGSM attack:\"):\n",
        "    perturbations = create_adversarial_pattern(model, images[idx], labels[idx])\n",
        "    temp = []\n",
        "    for eps in epsilons:\n",
        "      temp.append(images[idx][:,:,0]+eps*perturbations[:,:,0])\n",
        "    advs.append(np.stack(temp,axis=0))\n",
        "  return np.stack(advs,axis = 1)"
      ],
      "metadata": {
        "id": "ud98OBqsHjkE"
      },
      "execution_count": null,
      "outputs": []
    },
    {
      "cell_type": "code",
      "source": [
        "epsilon = np.linspace(0.0, 0.01, num=20)\n",
        "advs = attack(model, images, labels, epsilon)"
      ],
      "metadata": {
        "colab": {
          "base_uri": "https://localhost:8080/",
          "height": 49,
          "referenced_widgets": [
            "dd3b75daa07f47b0bc13617db6703293",
            "f35fc967a0a3435dab16ebe40060926e",
            "e9013e40a94749cc92aa57686c05aa2f",
            "5a6b01d7203f4e50840280352cd706e5",
            "76cb7ebfd7e043bcae862cfaeee1b408",
            "5f284c589a814e1286735c6b0d372f83",
            "424a3aaff7954b43ab0c141fdf8b7c8f",
            "1a1d3713a4a64c7c9a0ecc4a4ae58669",
            "cd6480627893473ebb8aacb6ba9b2b8b",
            "fb021482c5754cdea6884b5ddb836356",
            "f2d2492ac4ae44a9aaa6cabdb31b80d1"
          ]
        },
        "id": "vAAww-x0HjEa",
        "outputId": "5bd6c179-5d51-41bc-c23b-8af1756001b3"
      },
      "execution_count": null,
      "outputs": [
        {
          "output_type": "display_data",
          "data": {
            "text/plain": [
              "Performing FGSM attack::   0%|          | 0/992 [00:00<?, ?it/s]"
            ],
            "application/vnd.jupyter.widget-view+json": {
              "version_major": 2,
              "version_minor": 0,
              "model_id": "dd3b75daa07f47b0bc13617db6703293"
            }
          },
          "metadata": {}
        }
      ]
    },
    {
      "cell_type": "code",
      "source": [
        "advs.shape"
      ],
      "metadata": {
        "colab": {
          "base_uri": "https://localhost:8080/"
        },
        "id": "JUzQzky-cVEB",
        "outputId": "5b9eae2e-20cf-4340-a13e-dc95ca102d70"
      },
      "execution_count": null,
      "outputs": [
        {
          "output_type": "execute_result",
          "data": {
            "text/plain": [
              "(20, 992, 64, 64)"
            ]
          },
          "metadata": {},
          "execution_count": 20
        }
      ]
    },
    {
      "cell_type": "code",
      "source": [
        "epsilons, accuracy = [],[]\n",
        "for eps, advs_ in tqdm(zip(np.linspace(0.0, 0.01, num=20), advs)):\n",
        "  pred = model.predict(advs_)\n",
        "  acc2 = np.sum(np.round(pred)==labels)/(15*images.shape[0])\n",
        "  epsilons.append(eps)\n",
        "  accuracy.append(acc2)\n",
        "  print(f\"  Epsilon ≤ {eps:.6f}: {acc2 * 100:4.1f} %\")\n",
        "  if acc2 == 0:\n",
        "      break\n",
        "plt.figure()\n",
        "plt.plot(epsilons,accuracy)\n",
        "plt.grid()\n",
        "plt.xlim(0,0.01)\n",
        "plt.ylim(0,1)\n",
        "plt.xlabel(\"<=Epsilon\")\n",
        "plt.ylabel(\"Accuracy\")\n",
        "plt.show()"
      ],
      "metadata": {
        "colab": {
          "base_uri": "https://localhost:8080/",
          "height": 630
        },
        "id": "EICcvDwRfEc1",
        "outputId": "12634a45-e392-4ceb-9a4d-d58eae37f05c"
      },
      "execution_count": null,
      "outputs": [
        {
          "output_type": "stream",
          "name": "stdout",
          "text": [
            "  Epsilon ≤ 0.000000: 77.6 %\n",
            "  Epsilon ≤ 0.000526: 37.0 %\n",
            "  Epsilon ≤ 0.001053: 25.5 %\n",
            "  Epsilon ≤ 0.001579: 32.3 %\n",
            "  Epsilon ≤ 0.002105: 27.6 %\n",
            "  Epsilon ≤ 0.002632: 24.1 %\n",
            "  Epsilon ≤ 0.003158: 22.2 %\n",
            "  Epsilon ≤ 0.003684: 21.4 %\n",
            "  Epsilon ≤ 0.004211: 21.8 %\n",
            "  Epsilon ≤ 0.004737: 23.0 %\n",
            "  Epsilon ≤ 0.005263: 22.1 %\n",
            "  Epsilon ≤ 0.005789: 20.6 %\n",
            "  Epsilon ≤ 0.006316: 15.3 %\n",
            "  Epsilon ≤ 0.006842: 15.4 %\n",
            "  Epsilon ≤ 0.007368: 15.8 %\n",
            "  Epsilon ≤ 0.007895: 14.9 %\n",
            "  Epsilon ≤ 0.008421: 14.7 %\n",
            "  Epsilon ≤ 0.008947: 13.8 %\n",
            "  Epsilon ≤ 0.009474: 13.2 %\n",
            "  Epsilon ≤ 0.010000: 13.1 %\n"
          ]
        },
        {
          "output_type": "display_data",
          "data": {
            "text/plain": [
              "<Figure size 432x288 with 1 Axes>"
            ],
            "image/png": "[encoded data removed]"
          },
          "metadata": {}
        }
      ]
    },
    {
      "cell_type": "code",
      "source": [
        "!kaggle datasets download -d \"bibhash123/primary-quant-scripts\"\n",
        "!unzip primary-quant-scripts.zip -d \"/content/models\"\n",
        "!rm -r primary-quant-scripts.zip"
      ],
      "metadata": {
        "colab": {
          "base_uri": "https://localhost:8080/"
        },
        "id": "5s0Dy1QuqmzU",
        "outputId": "3a3447ac-d6e8-4216-9159-4187348c3025"
      },
      "execution_count": null,
      "outputs": [
        {
          "output_type": "stream",
          "name": "stdout",
          "text": [
            "Downloading primary-quant-scripts.zip to /content\n",
            "\r  0% 0.00/5.44M [00:00<?, ?B/s]\n",
            "\r100% 5.44M/5.44M [00:00<00:00, 58.2MB/s]\n",
            "Archive:  primary-quant-scripts.zip\n",
            "  inflating: /content/models/model.hdf5  \n",
            "  inflating: /content/models/model_a.hdf5  \n",
            "  inflating: /content/models/model_two.hdf5  \n",
            "  inflating: /content/models/predict.py  \n",
            "  inflating: /content/models/predict_a.py  \n"
          ]
        }
      ]
    },
    {
      "cell_type": "code",
      "source": [
        "import tensorflow as tf\n",
        "import tensorflow.keras.layers as L\n",
        "import tensorflow.keras.backend as K\n",
        "from tensorflow.keras.activations import softmax\n",
        "\n",
        "class CrossAttention(L.Layer):\n",
        "    def __init__(self,input_dim, hidden_dim, output_dim):\n",
        "        super(CrossAttention,self).__init__()\n",
        "        self.w_k = self.add_weight(name='key', shape = (input_dim,hidden_dim), initializer=\"random_normal\", trainable=True)\n",
        "        self.w_q = self.add_weight(name='query', shape = (input_dim,hidden_dim), initializer=\"random_normal\", trainable=True)\n",
        "        self.w_v = self.add_weight(name='value', shape = (input_dim,output_dim), initializer=\"random_normal\", trainable=True)\n",
        "\n",
        "    def call(self,X1,X2):\n",
        "        dims = 5\n",
        "        key = tf.expand_dims(tf.matmul(X1,self.w_k),axis=1)\n",
        "        query = K.concatenate([tf.expand_dims(tf.matmul(X2[:,i,:],self.w_q),axis=2) for i in range(dims)],axis=2)\n",
        "        value = K.concatenate([tf.expand_dims(tf.matmul(X2[:,i,:],self.w_v),axis=2) for i in range(dims)],axis=2)\n",
        "        score = tf.matmul(tf.nn.softmax(tf.matmul(key,query),axis=-1),tf.transpose(value,perm=[0,2,1]))\n",
        "        return score[:,0,:]\n",
        "\n",
        "class cfg:\n",
        "    q_factors = [(60, 90), (65, 90), (70, 90), (75, 90), (80, 90), (85, 90), \n",
        "                               (90, 90), (95, 90), (98, 90)]\n",
        "    test_csv = \"/content/Data/test.csv\"\n",
        "    scaling_factor_data = 255.0\n",
        "    max_no_Q_coefs = 15\n",
        "    result_dir = '/content/results/'\n",
        "    block_size = (64, 64) \n",
        "    rgb = True\n",
        "    coeffs_low = [13,9,10,11,10,8,13,11,10,11,14,14,13,15,19,32,21,19,18,18,19,39,28,30,23,32,46,41,49,48,46,41,45,44,51,58,74,62,51,54,70,55,44,45,64,87,65,70,76,78,82,83,82,50,62,90,97,90,80,96,74,81,82,79]\n",
        "    max_vals = coeffs_low[:15]\n",
        "    num_outputs = np.sum(max_vals)\n",
        "    batch_size = 32\n",
        "\n",
        "def custom_softmax_activation(max_vals):\n",
        "\n",
        "    \"\"\"\n",
        "    Params:\n",
        "    =======================================\n",
        "    max_vals: qm values for i from 1 to 15\n",
        "    \"\"\"\n",
        "    bins = np.concatenate(([0], np.cumsum(max_vals))).astype(np.int16)\n",
        "    def custom_softmax(x):\n",
        "        stack_list = [softmax(x[:, int(bins[i]):int(bins[i + 1])]) for i in range(0, len(bins)-1)]\n",
        "        return tf.concat(stack_list, axis=-1)\n",
        "\n",
        "    return custom_softmax\n"
      ],
      "metadata": {
        "id": "wT0UcYuWsG-B"
      },
      "execution_count": null,
      "outputs": []
    },
    {
      "cell_type": "code",
      "source": [
        "from densenet import DenseNet\n",
        "\n",
        "K.clear_session()\n",
        "with tf.device('/GPU:0'):\n",
        "    err_model,_ = DenseNet(input_shape = (64,64,1), nb_classes = 15, depth=24)\n",
        "    err_model = tf.keras.Model(inputs=err_model.input, outputs = err_model.layers[-2].output)\n",
        "    img_model,_ = DenseNet(input_shape = (64,64,1), nb_classes = 15, depth=24)\n",
        "    img_model = tf.keras.Model(inputs=img_model.input, outputs = img_model.layers[-2].output)\n",
        "\n",
        "    inp1 = L.Input(shape=(64,64,1))\n",
        "    inp2 = L.Input(shape=(5,64,64,1))\n",
        "    h1 = img_model(inp1)\n",
        "    h2 = L.TimeDistributed(err_model)(inp2)\n",
        "    h2 = L.TimeDistributed(L.Flatten())(h2)\n",
        "    h2 = L.TimeDistributed(L.Dense(128,activation='relu'))(h2)\n",
        "    h1 = L.Flatten()(h1)\n",
        "    h1 = L.Dense(128,activation='relu')(h1)\n",
        "    \n",
        "    h = CrossAttention(128,128,128)(h1,h2)\n",
        "    h = L.Dense(cfg.num_outputs,activation= custom_softmax_activation(cfg.max_vals))(h)\n",
        "    model = tf.keras.Model(inputs = [inp1,inp2],\n",
        "                         outputs = h)\n",
        "\n",
        "    opt = tf.keras.optimizers.Adam(learning_rate = 1e-4)\n",
        "    model.compile(loss = \"mse\", optimizer = opt, metrics=  ['accuracy'])\n",
        "    model.summary()\n",
        "    model.load_weights('/content/models/model_a.hdf5')"
      ],
      "metadata": {
        "colab": {
          "base_uri": "https://localhost:8080/"
        },
        "id": "9q181Y--sS_D",
        "outputId": "ba2a8c26-a8d2-497e-8016-43911c6d57d9"
      },
      "execution_count": null,
      "outputs": [
        {
          "output_type": "stream",
          "name": "stdout",
          "text": [
            "Creating DenseNet\n",
            "#############################################\n",
            "Dense blocks: 3\n",
            "Layers per dense block: [6, 6, 6]\n",
            "#############################################\n",
            "Creating DenseNet\n",
            "#############################################\n",
            "Dense blocks: 3\n",
            "Layers per dense block: [6, 6, 6]\n",
            "#############################################\n",
            "Model: \"model_2\"\n",
            "__________________________________________________________________________________________________\n",
            " Layer (type)                   Output Shape         Param #     Connected to                     \n",
            "==================================================================================================\n",
            " input_3 (InputLayer)           [(None, 64, 64, 1)]  0           []                               \n",
            "                                                                                                  \n",
            " input_4 (InputLayer)           [(None, 5, 64, 64,   0           []                               \n",
            "                                1)]                                                               \n",
            "                                                                                                  \n",
            " model_1 (Functional)           (None, 240)          293688      ['input_3[0][0]']                \n",
            "                                                                                                  \n",
            " time_distributed (TimeDistribu  (None, 5, 240)      293688      ['input_4[0][0]']                \n",
            " ted)                                                                                             \n",
            "                                                                                                  \n",
            " flatten_1 (Flatten)            (None, 240)          0           ['model_1[0][0]']                \n",
            "                                                                                                  \n",
            " time_distributed_1 (TimeDistri  (None, 5, 240)      0           ['time_distributed[0][0]']       \n",
            " buted)                                                                                           \n",
            "                                                                                                  \n",
            " dense_3 (Dense)                (None, 128)          30848       ['flatten_1[0][0]']              \n",
            "                                                                                                  \n",
            " time_distributed_2 (TimeDistri  (None, 5, 128)      30848       ['time_distributed_1[0][0]']     \n",
            " buted)                                                                                           \n",
            "                                                                                                  \n",
            " cross_attention (CrossAttentio  (None, 128)         49152       ['dense_3[0][0]',                \n",
            " n)                                                               'time_distributed_2[0][0]']     \n",
            "                                                                                                  \n",
            " dense_4 (Dense)                (None, 181)          23349       ['cross_attention[0][0]']        \n",
            "                                                                                                  \n",
            "==================================================================================================\n",
            "Total params: 721,573\n",
            "Trainable params: 710,485\n",
            "Non-trainable params: 11,088\n",
            "__________________________________________________________________________________________________\n"
          ]
        }
      ]
    },
    {
      "cell_type": "code",
      "source": [
        "tf.keras.utils.plot_model(model,to_file = \"model.png\", rankdir = \"LR\")"
      ],
      "metadata": {
        "colab": {
          "base_uri": "https://localhost:8080/",
          "height": 138
        },
        "id": "lc_xRnfI0W4p",
        "outputId": "29c68c9c-a362-40b0-ae13-4dd4240f2e86"
      },
      "execution_count": null,
      "outputs": [
        {
          "output_type": "execute_result",
          "data": {
            "text/plain": [
              "<IPython.core.display.Image object>"
            ],
            "image/png": "[encoded data removed]"
          },
          "metadata": {},
          "execution_count": 31
        }
      ]
    },
    {
      "cell_type": "code",
      "source": [
        "def convert_coeffs(pred):\n",
        "    preds = []\n",
        "    bins = np.concatenate(([0], np.cumsum(cfg.max_vals))).astype(np.int)\n",
        "    for i in range(0, len(bins) - 1):\n",
        "        y_true_to_coeff = tf.argmax(pred[bins[i]:bins[i+1]]) + 1\n",
        "        preds.append(y_true_to_coeff)\n",
        "    preds = np.array(preds)\n",
        "    return preds"
      ],
      "metadata": {
        "id": "vYOfdV5Es-kX"
      },
      "execution_count": null,
      "outputs": []
    },
    {
      "cell_type": "code",
      "source": [
        "pred = convert_coeffs(model.predict(images))\n",
        "print(\"Initial Model Accuracy:\",np.sum(np.round(pred)==labels)/(15*images.shape[0]))"
      ],
      "metadata": {
        "id": "0sFy7j0MseNy"
      },
      "execution_count": null,
      "outputs": []
    },
    {
      "cell_type": "code",
      "source": [
        "epsilons, accuracy = [],[]\n",
        "for eps, advs_ in zip(np.linspace(0.0, 0.01, num=20), advs):\n",
        "  pred = model.predict(advs_)\n",
        "  acc2 = np.sum(np.round(pred)==labels)/(15*images.shape[0])\n",
        "  epsilons.append(eps)\n",
        "  accuracy.append(acc2)\n",
        "  print(f\"  Epsilon ≤ {eps:.6f}: {acc2 * 100:4.1f} %\")\n",
        "  if acc2 == 0:\n",
        "      break\n",
        "\n",
        "prev_acc = np.array([77.6 ,37.0 ,25.5 ,32.3, 27.6, 24.1, 22.2, 21.4, 21.8, 23.0, 22.1,\n",
        "  20.6 , 15.3 ,15.4 , 15.8 , 14.9 , 14.7 , 13.8 , 13.2 , 13.1])/100\n",
        "plt.figure()\n",
        "plt.plot(epsilons,accuracy, label = \"Proposed\")\n",
        "plt.plot(epsilons,prev_acc, label = \"Niu et al.\")\n",
        "plt.grid()\n",
        "plt.xlim(0,0.01)\n",
        "plt.ylim(0,1)\n",
        "plt.xlabel(\"<=Epsilon\")\n",
        "plt.ylabel(\"Accuracy\")\n",
        "plt.legend()\n",
        "plt.savefig(\"attack.pdf\")\n",
        "plt.show()"
      ],
      "metadata": {
        "colab": {
          "base_uri": "https://localhost:8080/",
          "height": 630
        },
        "id": "1xCVxqo1xgUk",
        "outputId": "644bf05a-9bae-40ae-ef31-3306f17f4674"
      },
      "execution_count": null,
      "outputs": [
        {
          "output_type": "stream",
          "name": "stdout",
          "text": [
            "  Epsilon ≤ 0.000000: 67.6 %\n",
            "  Epsilon ≤ 0.000526: 57.0 %\n",
            "  Epsilon ≤ 0.001053: 55.5 %\n",
            "  Epsilon ≤ 0.001579: 56.3 %\n",
            "  Epsilon ≤ 0.002105: 53.6 %\n",
            "  Epsilon ≤ 0.002632: 51.1 %\n",
            "  Epsilon ≤ 0.003158: 48.2 %\n",
            "  Epsilon ≤ 0.003684: 46.4 %\n",
            "  Epsilon ≤ 0.004211: 43.8 %\n",
            "  Epsilon ≤ 0.004737: 38.0 %\n",
            "  Epsilon ≤ 0.005263: 37.1 %\n",
            "  Epsilon ≤ 0.005789: 35.6 %\n",
            "  Epsilon ≤ 0.006316: 36.3 %\n",
            "  Epsilon ≤ 0.006842: 27.4 %\n",
            "  Epsilon ≤ 0.007368: 25.8 %\n",
            "  Epsilon ≤ 0.007895: 23.9 %\n",
            "  Epsilon ≤ 0.008421: 21.7 %\n",
            "  Epsilon ≤ 0.008947: 19.8 %\n",
            "  Epsilon ≤ 0.009474: 19.2 %\n",
            "  Epsilon ≤ 0.010000: 18.1 %\n"
          ]
        },
        {
          "output_type": "display_data",
          "data": {
            "text/plain": [
              "<Figure size 432x288 with 1 Axes>"
            ],
            "image/png": "[encoded data removed]"
          },
          "metadata": {}
        }
      ]
    },
    {
      "cell_type": "code",
      "metadata": {
        "id": "GDPWFQ9MESJC"
      },
      "source": [
        ""
      ],
      "execution_count": null,
      "outputs": []
    }
  ]
}