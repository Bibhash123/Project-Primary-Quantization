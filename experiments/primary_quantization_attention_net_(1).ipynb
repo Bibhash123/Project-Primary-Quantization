{
  "cells": [
    {
      "cell_type": "markdown",
      "metadata": {
        "id": "view-in-github",
        "colab_type": "text"
      },
      "source": [
        "<a href=\"https://colab.research.google.com/github/Bibhash123/Project-Primary-Quantization/blob/main/experiments/primary_quantization_attention_net_(1).ipynb\" target=\"_parent\"><img src=\"https://colab.research.google.com/assets/colab-badge.svg\" alt=\"Open In Colab\"/></a>"
      ]
    },
    {
      "cell_type": "code",
      "execution_count": null,
      "id": "e386427e",
      "metadata": {
        "_cell_guid": "b1076dfc-b9ad-4769-8c92-a6c4dae69d19",
        "_uuid": "8f2839f25d086af736a60e9eeb907d3b93b6e0e5",
        "execution": {
          "iopub.execute_input": "2022-04-05T18:13:03.346916Z",
          "iopub.status.busy": "2022-04-05T18:13:03.345972Z",
          "iopub.status.idle": "2022-04-05T18:13:03.354729Z",
          "shell.execute_reply": "2022-04-05T18:13:03.354081Z",
          "shell.execute_reply.started": "2022-04-03T20:32:21.970358Z"
        },
        "papermill": {
          "duration": 0.038138,
          "end_time": "2022-04-05T18:13:03.354934",
          "exception": false,
          "start_time": "2022-04-05T18:13:03.316796",
          "status": "completed"
        },
        "tags": [],
        "id": "e386427e"
      },
      "outputs": [],
      "source": [
        "COLAB = False\n",
        "if COLAB:\n",
        "    DATA_DIR = \"/content/Data\"\n",
        "else:\n",
        "    DATA_DIR = \"../input/tondidataset/\""
      ]
    },
    {
      "cell_type": "code",
      "execution_count": null,
      "id": "1fb8b097",
      "metadata": {
        "execution": {
          "iopub.execute_input": "2022-04-05T18:13:03.411742Z",
          "iopub.status.busy": "2022-04-05T18:13:03.410743Z",
          "iopub.status.idle": "2022-04-05T18:13:03.413557Z",
          "shell.execute_reply": "2022-04-05T18:13:03.414042Z",
          "shell.execute_reply.started": "2022-04-03T20:32:22.009211Z"
        },
        "papermill": {
          "duration": 0.038363,
          "end_time": "2022-04-05T18:13:03.414271",
          "exception": false,
          "start_time": "2022-04-05T18:13:03.375908",
          "status": "completed"
        },
        "tags": [],
        "id": "1fb8b097"
      },
      "outputs": [],
      "source": [
        "if COLAB:\n",
        "    from google.colab import files\n",
        "    _ = files.upload()\n",
        "    !mkdir ~/.kaggle/\n",
        "    !cp kaggle.json ~/.kaggle/kaggle.json\n",
        "    !chmod 600 ~/.kaggle/kaggle.json\n",
        "    !pip install -q kaggle\n",
        "    !kaggle datasets download -d \"bibhash123/tondidataset\"\n",
        "    !unzip -q tondidataset.zip -d \"/content/Data/\"\n",
        "    !rm -r tondidataset.zip"
      ]
    },
    {
      "cell_type": "code",
      "execution_count": null,
      "id": "33cd7853",
      "metadata": {
        "execution": {
          "iopub.execute_input": "2022-04-05T18:13:03.456211Z",
          "iopub.status.busy": "2022-04-05T18:13:03.455338Z",
          "iopub.status.idle": "2022-04-05T18:13:10.118048Z",
          "shell.execute_reply": "2022-04-05T18:13:10.117470Z",
          "shell.execute_reply.started": "2022-04-03T20:32:22.034775Z"
        },
        "papermill": {
          "duration": 6.686646,
          "end_time": "2022-04-05T18:13:10.118222",
          "exception": false,
          "start_time": "2022-04-05T18:13:03.431576",
          "status": "completed"
        },
        "tags": [],
        "id": "33cd7853"
      },
      "outputs": [],
      "source": [
        "import os\n",
        "import gc\n",
        "import random\n",
        "import numpy as np\n",
        "import pandas as pd\n",
        "import matplotlib.pyplot as plt\n",
        "import tensorflow as tf\n",
        "import tensorflow.keras.layers as L\n",
        "import tensorflow.keras.backend as K\n",
        "from tensorflow.keras.activations import softmax\n",
        "from tensorflow.keras.losses import categorical_crossentropy, mean_squared_error\n",
        "from sklearn.model_selection import train_test_split\n",
        "from tqdm.notebook import tqdm\n",
        "from functools import partial"
      ]
    },
    {
      "cell_type": "code",
      "execution_count": null,
      "id": "1497c4ab",
      "metadata": {
        "execution": {
          "iopub.execute_input": "2022-04-05T18:13:10.160567Z",
          "iopub.status.busy": "2022-04-05T18:13:10.159853Z",
          "iopub.status.idle": "2022-04-05T18:13:10.819409Z",
          "shell.execute_reply": "2022-04-05T18:13:10.818668Z",
          "shell.execute_reply.started": "2022-04-03T20:32:27.677955Z"
        },
        "papermill": {
          "duration": 0.68367,
          "end_time": "2022-04-05T18:13:10.819594",
          "exception": false,
          "start_time": "2022-04-05T18:13:10.135924",
          "status": "completed"
        },
        "tags": [],
        "id": "1497c4ab"
      },
      "outputs": [],
      "source": [
        "train_files = pd.read_csv(os.path.join(DATA_DIR, \"mini_train.csv\"),sep=\";\",header=None,\n",
        "                         names=['idx', 'filenames', 'quality1', 'quality2', 'software', 'labels',\n",
        "                                'shift_r', 'shift_c','base_image']\n",
        "                         )\n",
        "trn,val = train_test_split(train_files,test_size=0.1)"
      ]
    },
    {
      "cell_type": "code",
      "execution_count": null,
      "id": "b1f99137",
      "metadata": {
        "execution": {
          "iopub.execute_input": "2022-04-05T18:13:10.860581Z",
          "iopub.status.busy": "2022-04-05T18:13:10.859671Z",
          "iopub.status.idle": "2022-04-05T18:13:10.863774Z",
          "shell.execute_reply": "2022-04-05T18:13:10.864280Z",
          "shell.execute_reply.started": "2022-04-03T20:32:28.228793Z"
        },
        "papermill": {
          "duration": 0.027299,
          "end_time": "2022-04-05T18:13:10.864469",
          "exception": false,
          "start_time": "2022-04-05T18:13:10.837170",
          "status": "completed"
        },
        "tags": [],
        "id": "b1f99137",
        "outputId": "a6b942a5-9a9b-4649-8118-5928983a21a5"
      },
      "outputs": [
        {
          "name": "stdout",
          "output_type": "stream",
          "text": [
            "Train Shape:  (97200, 9)\n",
            "Validation Shape:  (10800, 9)\n"
          ]
        }
      ],
      "source": [
        "print(\"Train Shape: \", trn.shape)\n",
        "print(\"Validation Shape: \", val.shape)"
      ]
    },
    {
      "cell_type": "code",
      "execution_count": null,
      "id": "75dde756",
      "metadata": {
        "execution": {
          "iopub.execute_input": "2022-04-05T18:13:10.905427Z",
          "iopub.status.busy": "2022-04-05T18:13:10.904341Z",
          "iopub.status.idle": "2022-04-05T18:13:10.914008Z",
          "shell.execute_reply": "2022-04-05T18:13:10.913439Z",
          "shell.execute_reply.started": "2022-04-03T20:32:28.23704Z"
        },
        "papermill": {
          "duration": 0.030951,
          "end_time": "2022-04-05T18:13:10.914161",
          "exception": false,
          "start_time": "2022-04-05T18:13:10.883210",
          "status": "completed"
        },
        "tags": [],
        "id": "75dde756"
      },
      "outputs": [],
      "source": [
        "class cfg:\n",
        "    def __init__(self):\n",
        "        pass\n",
        "    \n",
        "    coeffs_low = [13,9,10,11,10,8,13,11,10,11,14,14,13,15,19,32,21,19,18,18,19,39,28,30,23,32,46,41,49,48,46,41,45,44,51,58,74,62,51,54,70,55,44,45,64,87,65,70,76,78,82,83,82,50,62,90,97,90,80,96,74,81,82,79]\n",
        "    max_vals = coeffs_low[:15]\n",
        "    num_outputs = np.sum(max_vals)"
      ]
    },
    {
      "cell_type": "code",
      "execution_count": null,
      "id": "b8816990",
      "metadata": {
        "execution": {
          "iopub.execute_input": "2022-04-05T18:13:10.963687Z",
          "iopub.status.busy": "2022-04-05T18:13:10.962919Z",
          "iopub.status.idle": "2022-04-05T18:13:10.967605Z",
          "shell.execute_reply": "2022-04-05T18:13:10.966844Z",
          "shell.execute_reply.started": "2022-04-03T20:32:28.246467Z"
        },
        "papermill": {
          "duration": 0.034923,
          "end_time": "2022-04-05T18:13:10.967794",
          "exception": false,
          "start_time": "2022-04-05T18:13:10.932871",
          "status": "completed"
        },
        "tags": [],
        "id": "b8816990"
      },
      "outputs": [],
      "source": [
        "def preprocess_input(im_file, target_size, scale=255.):\n",
        "    \"\"\" \n",
        "        Read image and (eventually) scale data\n",
        "        Arguments:\n",
        "            im_file     : input image file\n",
        "            target_size : output size of the image (height, width)\n",
        "            scale       : pixel scaling value\n",
        "        Returns: The image\n",
        "    \"\"\"\n",
        "    file_bytes = tf.io.read_file(im_file)\n",
        "    img = tf.image.decode_png(file_bytes, channels = 0)\n",
        "    # Normalize and Resize\n",
        "    if img.shape != target_size:\n",
        "        img = tf.image.resize(img, target_size)\n",
        "    img = tf.cast(img/scale, tf.float32)\n",
        "    return img\n",
        "  \n",
        "def string2Q(s, size=(8, 8), flatten=True):\n",
        "    \"\"\" Converts a comma separated string to a matrix.\n",
        "        Keyword arguments:\n",
        "        sq : input string\n",
        "        size : output matrix size\n",
        "    \"\"\"\n",
        "    if flatten:\n",
        "        return tf.strings.to_number(tf.strings.split(s,','),out_type=tf.int32)\n",
        "    else:\n",
        "        return tf.reshape(tf.strings.to_number(tf.strings.split(s,','),out_type=tf.int32),size)\n",
        "        \n",
        "def get_label(im_label):\n",
        "    labs = string2Q(im_label)[:15]\n",
        "    labels = []\n",
        "    for i in range(15):\n",
        "        t = tf.one_hot([labs[i]-1],cfg.max_vals[i])\n",
        "        labels.append(t)\n",
        "    return tf.reshape(K.concatenate(labels,axis=-1),[-1])\n",
        "\n",
        "def getQFRange(qf1):\n",
        "    return K.stack([qf1-5,qf1,qf1+5],axis=0)"
      ]
    },
    {
      "cell_type": "code",
      "execution_count": null,
      "id": "2354e811",
      "metadata": {
        "execution": {
          "iopub.execute_input": "2022-04-05T18:13:11.022460Z",
          "iopub.status.busy": "2022-04-05T18:13:11.020099Z",
          "iopub.status.idle": "2022-04-05T18:13:11.023233Z",
          "shell.execute_reply": "2022-04-05T18:13:11.023818Z",
          "shell.execute_reply.started": "2022-04-03T20:32:28.260026Z"
        },
        "papermill": {
          "duration": 0.038152,
          "end_time": "2022-04-05T18:13:11.023972",
          "exception": false,
          "start_time": "2022-04-05T18:13:10.985820",
          "status": "completed"
        },
        "tags": [],
        "id": "2354e811"
      },
      "outputs": [],
      "source": [
        "AUTOTUNE = tf.data.experimental.AUTOTUNE\n",
        "\n",
        "def build_decoder(is_labelled):\n",
        "    def if_labelled(path,label, target_size):\n",
        "        image = preprocess_input(path,target_size)\n",
        "        out_img = K.concatenate([tf.expand_dims(tf.image.adjust_jpeg_quality(image,qf),axis=0) for qf in [60,70,80,90,98]],axis=0)\n",
        "        label = get_label(label)\n",
        "        # qf = getQFRange(qf1)\n",
        "        return (image, out_img), label\n",
        "  \n",
        "    def not_labelled(path,target_size):\n",
        "        image = preprocess_input(path,target_size)\n",
        "        out_img = K.concatenate([tf.expand_dims(tf.image.adjust_jpeg_quality(image,qf),axis=0) for qf in [60,70,80,90,98]],axis=0)\n",
        "        return (image, out_img)    \n",
        "\n",
        "    return if_labelled if is_labelled else not_labelled\n",
        "\n",
        "\n",
        "def create_dataset(df, batch_size = 32, is_labelled = False, repeat = False, shuffle = False, batch=False, cache=False):\n",
        "    decode_fn = build_decoder(is_labelled)\n",
        "    df['filenames'] = df['filenames'].apply(lambda x: \"/\".join(x.split('/')[-3:]))\n",
        "    df['filenames'] = df['filenames'].apply(lambda x: os.path.join(DATA_DIR,x))\n",
        "    \n",
        "    # Create Dataset\n",
        "    if is_labelled:\n",
        "        dataset = tf.data.Dataset.from_tensor_slices((df['filenames'].values,df[\"labels\"].values))\n",
        "    else:\n",
        "        dataset = tf.data.Dataset.from_tensor_slices((df['filenames'].values))\n",
        "\n",
        "    dataset = dataset.map(partial(decode_fn,target_size=(64,64)), num_parallel_calls = AUTOTUNE)\n",
        "    dataset = dataset.cache(\"\") if cache else dataset\n",
        "    dataset = dataset.repeat() if repeat else dataset\n",
        "    dataset = dataset.shuffle(1024, reshuffle_each_iteration = True) if shuffle else dataset\n",
        "    dataset = dataset.batch(batch_size,drop_remainder=True) if batch else dataset\n",
        "    dataset = dataset.prefetch(AUTOTUNE)\n",
        "    return dataset\n",
        "\n",
        "def getX(X,Y):\n",
        "    return X\n",
        "def getY(X,Y):\n",
        "    return Y"
      ]
    },
    {
      "cell_type": "code",
      "execution_count": null,
      "id": "a896e590",
      "metadata": {
        "execution": {
          "iopub.execute_input": "2022-04-05T18:13:11.076685Z",
          "iopub.status.busy": "2022-04-05T18:13:11.075634Z",
          "iopub.status.idle": "2022-04-05T18:13:11.077770Z",
          "shell.execute_reply": "2022-04-05T18:13:11.078370Z",
          "shell.execute_reply.started": "2022-04-03T20:32:28.276573Z"
        },
        "papermill": {
          "duration": 0.036692,
          "end_time": "2022-04-05T18:13:11.078531",
          "exception": false,
          "start_time": "2022-04-05T18:13:11.041839",
          "status": "completed"
        },
        "tags": [],
        "id": "a896e590"
      },
      "outputs": [],
      "source": [
        "def custom_softmax_activation(max_vals):\n",
        "\n",
        "    \"\"\"\n",
        "    Params:\n",
        "    =======================================\n",
        "    max_vals: qm values for i from 1 to 15\n",
        "    \"\"\"\n",
        "    bins = np.concatenate(([0], np.cumsum(max_vals))).astype(np.int16)\n",
        "    def custom_softmax(x):\n",
        "        stack_list = [softmax(x[:, int(bins[i]):int(bins[i + 1])]) for i in range(0, len(bins)-1)]\n",
        "        return tf.concat(stack_list, axis=-1)\n",
        "\n",
        "    return custom_softmax\n",
        "\n",
        "def custom_mse_wrapper(max_vals):\n",
        "\n",
        "    \"\"\"\n",
        "    Keras custom \"piece-wise\" MSE metric\n",
        "    :param max_vals: bins for piecewise computation\n",
        "    :return: custom mse function\n",
        "    \"\"\"\n",
        "    bins = np.concatenate(([0], np.cumsum(max_vals))).astype(np.int)\n",
        "    def custom_mse(y_true, y_pred):\n",
        "\n",
        "        mse_val = tf.constant(0, dtype=tf.float64)\n",
        "\n",
        "        for i in range(0, len(bins) - 1):\n",
        "\n",
        "            y_true_to_coeff = tf.argmax(y_true[:, bins[i]:bins[i+1]], 1) + 1\n",
        "            y_pred_to_coeff = tf.argmax(y_pred[:, bins[i]:bins[i+1]], 1) + 1\n",
        "\n",
        "            mse_val = tf.add(mse_val,\n",
        "                             tf.reduce_sum(tf.square(y_true_to_coeff - y_pred_to_coeff)) / cfg.batch_size)\n",
        "        return mse_val\n",
        "\n",
        "    return custom_mse\n",
        "\n",
        "\n",
        "# Trick to pass parameters to custom losses\n",
        "def custom_categorical(max_vals):\n",
        "    bins = np.concatenate(([0], np.cumsum(max_vals))).astype(np.int16)\n",
        "    def custom_categorical_crossentropy(y_true, y_pred):\n",
        "\n",
        "        \"\"\" Keras custom loss for QF Estimation with the new labeling strategy.\n",
        "        Now the label is a categorical array with values [0, 1]. The length of the\n",
        "        array is equal to the sum of values in max_vals, that is the maximum value\n",
        "        each coefficient can assume. Index == value is set to 1. E.g., for 2 coefficients\n",
        "        [6, 7] where max_length is [11, 12]:\n",
        "            y_true = [0 0 0 0 0 1 0 0 0 0 0, 0 0 0 0 0 0 1 0 0 0 0 0]\n",
        "        Categorical crossentropy is computed on each individual sub-label rather than on full y_true.\n",
        "        Each \"chunk\" of loss is added to total loss\n",
        "        Example:\n",
        "        loss(y_true[:, 0:11], y_pred[:, 0:11]) + loss(y_true[:, 11:], y_pred[:, 11:])\n",
        "        :param y_true: Tensorflow/Theano tensor of predicted labels\n",
        "        :param y_pred: Tensorflow/Theano tensor of true labels\n",
        "        :return: Custom loss\n",
        "        \"\"\"\n",
        "\n",
        "        loss = categorical_crossentropy(y_true[:, int(bins[0]):int(bins[1])],\n",
        "                                        y_pred[:, int(bins[0]):int(bins[1])])\n",
        "        for i in range(1, len(bins) - 1):\n",
        "            loss = tf.add(loss, categorical_crossentropy(y_true[:, int(bins[i]):int(bins[i + 1])],\n",
        "                                                         y_pred[:, int(bins[i]):int(bins[i + 1])]))\n",
        "        return loss\n",
        "\n",
        "    return custom_categorical_crossentropy"
      ]
    },
    {
      "cell_type": "code",
      "execution_count": null,
      "id": "d87b141d",
      "metadata": {
        "execution": {
          "iopub.execute_input": "2022-04-05T18:13:11.125537Z",
          "iopub.status.busy": "2022-04-05T18:13:11.117702Z",
          "iopub.status.idle": "2022-04-05T18:13:15.295216Z",
          "shell.execute_reply": "2022-04-05T18:13:15.294638Z",
          "shell.execute_reply.started": "2022-04-03T20:32:28.295626Z"
        },
        "papermill": {
          "duration": 4.198473,
          "end_time": "2022-04-05T18:13:15.295412",
          "exception": false,
          "start_time": "2022-04-05T18:13:11.096939",
          "status": "completed"
        },
        "tags": [],
        "id": "d87b141d",
        "outputId": "656e773a-bd6d-4a5d-89d1-a85770b51912"
      },
      "outputs": [
        {
          "name": "stderr",
          "output_type": "stream",
          "text": [
            "/opt/conda/lib/python3.7/site-packages/ipykernel_launcher.py:21: SettingWithCopyWarning: \n",
            "A value is trying to be set on a copy of a slice from a DataFrame.\n",
            "Try using .loc[row_indexer,col_indexer] = value instead\n",
            "\n",
            "See the caveats in the documentation: https://pandas.pydata.org/pandas-docs/stable/user_guide/indexing.html#returning-a-view-versus-a-copy\n",
            "/opt/conda/lib/python3.7/site-packages/ipykernel_launcher.py:22: SettingWithCopyWarning: \n",
            "A value is trying to be set on a copy of a slice from a DataFrame.\n",
            "Try using .loc[row_indexer,col_indexer] = value instead\n",
            "\n",
            "See the caveats in the documentation: https://pandas.pydata.org/pandas-docs/stable/user_guide/indexing.html#returning-a-view-versus-a-copy\n",
            "2022-04-05 18:13:11.486128: I tensorflow/stream_executor/cuda/cuda_gpu_executor.cc:937] successful NUMA node read from SysFS had negative value (-1), but there must be at least one NUMA node, so returning NUMA node zero\n",
            "2022-04-05 18:13:11.628720: I tensorflow/stream_executor/cuda/cuda_gpu_executor.cc:937] successful NUMA node read from SysFS had negative value (-1), but there must be at least one NUMA node, so returning NUMA node zero\n",
            "2022-04-05 18:13:11.629894: I tensorflow/stream_executor/cuda/cuda_gpu_executor.cc:937] successful NUMA node read from SysFS had negative value (-1), but there must be at least one NUMA node, so returning NUMA node zero\n",
            "2022-04-05 18:13:11.633741: I tensorflow/core/platform/cpu_feature_guard.cc:142] This TensorFlow binary is optimized with oneAPI Deep Neural Network Library (oneDNN) to use the following CPU instructions in performance-critical operations:  AVX2 FMA\n",
            "To enable them in other operations, rebuild TensorFlow with the appropriate compiler flags.\n",
            "2022-04-05 18:13:11.634742: I tensorflow/stream_executor/cuda/cuda_gpu_executor.cc:937] successful NUMA node read from SysFS had negative value (-1), but there must be at least one NUMA node, so returning NUMA node zero\n",
            "2022-04-05 18:13:11.635904: I tensorflow/stream_executor/cuda/cuda_gpu_executor.cc:937] successful NUMA node read from SysFS had negative value (-1), but there must be at least one NUMA node, so returning NUMA node zero\n",
            "2022-04-05 18:13:11.637102: I tensorflow/stream_executor/cuda/cuda_gpu_executor.cc:937] successful NUMA node read from SysFS had negative value (-1), but there must be at least one NUMA node, so returning NUMA node zero\n",
            "2022-04-05 18:13:13.992980: I tensorflow/stream_executor/cuda/cuda_gpu_executor.cc:937] successful NUMA node read from SysFS had negative value (-1), but there must be at least one NUMA node, so returning NUMA node zero\n",
            "2022-04-05 18:13:13.994463: I tensorflow/stream_executor/cuda/cuda_gpu_executor.cc:937] successful NUMA node read from SysFS had negative value (-1), but there must be at least one NUMA node, so returning NUMA node zero\n",
            "2022-04-05 18:13:13.995826: I tensorflow/stream_executor/cuda/cuda_gpu_executor.cc:937] successful NUMA node read from SysFS had negative value (-1), but there must be at least one NUMA node, so returning NUMA node zero\n",
            "2022-04-05 18:13:13.996900: I tensorflow/core/common_runtime/gpu/gpu_device.cc:1510] Created device /job:localhost/replica:0/task:0/device:GPU:0 with 15403 MB memory:  -> device: 0, name: Tesla P100-PCIE-16GB, pci bus id: 0000:00:04.0, compute capability: 6.0\n"
          ]
        }
      ],
      "source": [
        "train_set = create_dataset(trn, batch_size = 32, is_labelled = True, repeat = True, \n",
        "                          shuffle = True, batch=True,cache=False)\n",
        "val_set = create_dataset(val, batch_size = 32, is_labelled = True, repeat = False, \n",
        "                          shuffle = False, batch=True,cache=False)\n",
        "Y_val = val_set.map(getY)"
      ]
    },
    {
      "cell_type": "code",
      "execution_count": null,
      "id": "72060452",
      "metadata": {
        "execution": {
          "iopub.execute_input": "2022-04-05T18:13:15.346671Z",
          "iopub.status.busy": "2022-04-05T18:13:15.345683Z",
          "iopub.status.idle": "2022-04-05T18:13:15.349905Z",
          "shell.execute_reply": "2022-04-05T18:13:15.350446Z",
          "shell.execute_reply.started": "2022-04-03T20:32:31.714304Z"
        },
        "papermill": {
          "duration": 0.034731,
          "end_time": "2022-04-05T18:13:15.350608",
          "exception": false,
          "start_time": "2022-04-05T18:13:15.315877",
          "status": "completed"
        },
        "tags": [],
        "id": "72060452",
        "outputId": "fe6f18e5-97e0-416d-d2ba-175cb4660f9a"
      },
      "outputs": [
        {
          "data": {
            "text/plain": [
              "<TakeDataset shapes: (((32, 64, 64, None), (32, 5, None, None, None)), (32, 181)), types: ((tf.float32, tf.float32), tf.float32)>"
            ]
          },
          "execution_count": 11,
          "metadata": {},
          "output_type": "execute_result"
        }
      ],
      "source": [
        "train_set.take(1)"
      ]
    },
    {
      "cell_type": "code",
      "execution_count": null,
      "id": "c01396ca",
      "metadata": {
        "execution": {
          "iopub.execute_input": "2022-04-05T18:13:15.404584Z",
          "iopub.status.busy": "2022-04-05T18:13:15.403610Z",
          "iopub.status.idle": "2022-04-05T18:13:15.407443Z",
          "shell.execute_reply": "2022-04-05T18:13:15.406844Z",
          "shell.execute_reply.started": "2022-04-03T20:32:31.728763Z"
        },
        "papermill": {
          "duration": 0.036864,
          "end_time": "2022-04-05T18:13:15.407580",
          "exception": false,
          "start_time": "2022-04-05T18:13:15.370716",
          "status": "completed"
        },
        "tags": [],
        "id": "c01396ca"
      },
      "outputs": [],
      "source": [
        "class CrossAttention(L.Layer):\n",
        "    def __init__(self,input_dim, hidden_dim, output_dim):\n",
        "        super(CrossAttention,self).__init__()\n",
        "        self.w_k = self.add_weight(name='key', shape = (input_dim,hidden_dim), initializer=\"random_normal\", trainable=True)\n",
        "        self.w_q = self.add_weight(name='query', shape = (input_dim,hidden_dim), initializer=\"random_normal\", trainable=True)\n",
        "        self.w_v = self.add_weight(name='value', shape = (input_dim,output_dim), initializer=\"random_normal\", trainable=True)\n",
        "\n",
        "    def call(self,X1,X2):\n",
        "        dims = 5\n",
        "        key = tf.expand_dims(tf.matmul(X1,self.w_k),axis=1)\n",
        "        query = K.concatenate([tf.expand_dims(tf.matmul(X2[:,i,:],self.w_q),axis=2) for i in range(dims)],axis=2)\n",
        "        value = K.concatenate([tf.expand_dims(tf.matmul(X2[:,i,:],self.w_v),axis=2) for i in range(dims)],axis=2)\n",
        "        score = tf.matmul(tf.nn.softmax(tf.matmul(key,query),axis=-1),tf.transpose(value,perm=[0,2,1]))\n",
        "        return score[:,0,:]"
      ]
    },
    {
      "cell_type": "code",
      "execution_count": null,
      "id": "a4d5e8c5",
      "metadata": {
        "execution": {
          "iopub.execute_input": "2022-04-05T18:13:15.461776Z",
          "iopub.status.busy": "2022-04-05T18:13:15.449877Z",
          "iopub.status.idle": "2022-04-05T18:13:16.915617Z",
          "shell.execute_reply": "2022-04-05T18:13:16.915020Z",
          "shell.execute_reply.started": "2022-04-03T20:32:31.744401Z"
        },
        "papermill": {
          "duration": 1.488206,
          "end_time": "2022-04-05T18:13:16.915781",
          "exception": false,
          "start_time": "2022-04-05T18:13:15.427575",
          "status": "completed"
        },
        "tags": [],
        "id": "a4d5e8c5",
        "outputId": "f0006157-2d3c-4a8c-d344-52d6c5ff760f"
      },
      "outputs": [
        {
          "name": "stdout",
          "output_type": "stream",
          "text": [
            "Creating DenseNet\n",
            "#############################################\n",
            "Dense blocks: 3\n",
            "Layers per dense block: [4, 4, 4]\n",
            "#############################################\n",
            "Creating DenseNet\n",
            "#############################################\n",
            "Dense blocks: 3\n",
            "Layers per dense block: [4, 4, 4]\n",
            "#############################################\n",
            "Model: \"model_2\"\n",
            "__________________________________________________________________________________________________\n",
            "Layer (type)                    Output Shape         Param #     Connected to                     \n",
            "==================================================================================================\n",
            "input_3 (InputLayer)            [(None, 64, 64, 1)]  0                                            \n",
            "__________________________________________________________________________________________________\n",
            "input_4 (InputLayer)            [(None, 5, 64, 64, 1 0                                            \n",
            "__________________________________________________________________________________________________\n",
            "model_1 (Functional)            (None, 168)          142200      input_3[0][0]                    \n",
            "__________________________________________________________________________________________________\n",
            "time_distributed (TimeDistribut (None, 5, 168)       142200      input_4[0][0]                    \n",
            "__________________________________________________________________________________________________\n",
            "flatten_1 (Flatten)             (None, 168)          0           model_1[0][0]                    \n",
            "__________________________________________________________________________________________________\n",
            "time_distributed_1 (TimeDistrib (None, 5, 168)       0           time_distributed[0][0]           \n",
            "__________________________________________________________________________________________________\n",
            "dense_3 (Dense)                 (None, 128)          21632       flatten_1[0][0]                  \n",
            "__________________________________________________________________________________________________\n",
            "time_distributed_2 (TimeDistrib (None, 5, 128)       21632       time_distributed_1[0][0]         \n",
            "__________________________________________________________________________________________________\n",
            "cross_attention (CrossAttention (None, 128)          49152       dense_3[0][0]                    \n",
            "                                                                 time_distributed_2[0][0]         \n",
            "__________________________________________________________________________________________________\n",
            "dense_4 (Dense)                 (None, 181)          23349       cross_attention[0][0]            \n",
            "==================================================================================================\n",
            "Total params: 400,165\n",
            "Trainable params: 394,405\n",
            "Non-trainable params: 5,760\n",
            "__________________________________________________________________________________________________\n"
          ]
        }
      ],
      "source": [
        "from densenet import DenseNet, ConvConst\n",
        "K.clear_session()\n",
        "with tf.device('/GPU:0'):\n",
        "    err_model,_ = DenseNet(input_shape = (64,64,1), nb_classes = 15, depth=18)\n",
        "    err_model = tf.keras.Model(inputs=err_model.input, outputs = err_model.layers[-2].output)\n",
        "#     err_model = tf.keras.applications.resnet50.ResNet50(include_top=False, weights=None, input_shape=(64,64,1))\n",
        "    img_model,_ = DenseNet(input_shape = (64,64,1), nb_classes = 15, depth=18)\n",
        "    img_model = tf.keras.Model(inputs=img_model.input, outputs = img_model.layers[-2].output)\n",
        "#     img_model = tf.keras.applications.efficientnet.EfficientNetB0(include_top=False, weights=None, input_shape=(64,64,1))\n",
        "\n",
        "    inp1 = L.Input(shape=(64,64,1))\n",
        "    inp2 = L.Input(shape=(5,64,64,1))\n",
        "    h1 = img_model(inp1)\n",
        "    h2 = L.TimeDistributed(err_model)(inp2)\n",
        "    h2 = L.TimeDistributed(L.Flatten())(h2)\n",
        "    h2 = L.TimeDistributed(L.Dense(128,activation='relu'))(h2)\n",
        "    h1 = L.Flatten()(h1)\n",
        "    h1 = L.Dense(128,activation='relu')(h1)\n",
        "    \n",
        "    h = CrossAttention(128,128,128)(h1,h2)\n",
        "    h = L.Dense(cfg.num_outputs,activation= custom_softmax_activation(cfg.max_vals))(h)\n",
        "    model = tf.keras.Model(inputs = [inp1,inp2],\n",
        "                         outputs = h)\n",
        "#     schedule = tf.keras.optimizers.schedules.ExponentialDecay(1e-4,\n",
        "#                                                               decay_steps=3037,\n",
        "#                                                               decay_rate=0.96,\n",
        "#                                                               staircase=True)\n",
        "    opt = tf.keras.optimizers.Adam(learning_rate = 1e-4)\n",
        "    model.compile(loss = custom_categorical(cfg.max_vals), optimizer = opt, metrics=  ['accuracy'])\n",
        "    model.summary()"
      ]
    },
    {
      "cell_type": "code",
      "execution_count": null,
      "id": "eb62482a",
      "metadata": {
        "execution": {
          "iopub.execute_input": "2022-04-05T18:13:16.964442Z",
          "iopub.status.busy": "2022-04-05T18:13:16.963724Z",
          "iopub.status.idle": "2022-04-05T18:13:16.968627Z",
          "shell.execute_reply": "2022-04-05T18:13:16.967969Z",
          "shell.execute_reply.started": "2022-04-03T20:32:33.059826Z"
        },
        "papermill": {
          "duration": 0.031677,
          "end_time": "2022-04-05T18:13:16.968823",
          "exception": false,
          "start_time": "2022-04-05T18:13:16.937146",
          "status": "completed"
        },
        "tags": [],
        "id": "eb62482a"
      },
      "outputs": [],
      "source": [
        "class Logger(tf.keras.callbacks.Callback):\n",
        "    def on_epoch_begin(self,epoch,logs={}):\n",
        "        print(\" Learning Rate: {}\".format(self.model.optimizer._decayed_lr(tf.float32).numpy()))"
      ]
    },
    {
      "cell_type": "code",
      "execution_count": null,
      "id": "d7297948",
      "metadata": {
        "execution": {
          "iopub.execute_input": "2022-04-05T18:13:17.024907Z",
          "iopub.status.busy": "2022-04-05T18:13:17.023791Z",
          "iopub.status.idle": "2022-04-05T18:13:17.027242Z",
          "shell.execute_reply": "2022-04-05T18:13:17.026559Z",
          "shell.execute_reply.started": "2022-04-03T20:32:33.06701Z"
        },
        "papermill": {
          "duration": 0.037411,
          "end_time": "2022-04-05T18:13:17.027415",
          "exception": false,
          "start_time": "2022-04-05T18:13:16.990004",
          "status": "completed"
        },
        "tags": [],
        "id": "d7297948"
      },
      "outputs": [],
      "source": [
        "class ConstWeight(tf.keras.callbacks.Callback):\n",
        "    def on_batch_end(self,epoch,logs={}):\n",
        "        weights = self.model.layers[2].layers[0].get_weights()\n",
        "        weights[0][2,2,0,:] = np.zeros((12,))\n",
        "        for i in range(weights[0].shape[-1]):\n",
        "            t = weights[0][:,:,0,i]\n",
        "            nom = -1*np.sum(t)\n",
        "            weights[0][:,:,:,i] = weights[0][:,:,:,i]/nom\n",
        "        weights[0][2,2,0,:] = np.ones((12,))  \n",
        "        self.model.layers[2].layers[0].set_weights(weights)\n",
        "\n",
        "        weights = self.model.layers[3].model.layers[0].get_weights()\n",
        "        weights[0][2,2,0,:] = np.zeros((12,))\n",
        "        for i in range(weights[0].shape[-1]):\n",
        "            t = weights[0][:,:,0,i]\n",
        "            nom = -1*np.sum(t)\n",
        "            weights[0][:,:,:,i] = weights[0][:,:,:,i]/nom\n",
        "        weights[0][2,2,0,:] = np.ones((12,))  \n",
        "        self.model.layers[3].model.layers[0].set_weights(weights)"
      ]
    },
    {
      "cell_type": "code",
      "execution_count": null,
      "id": "04fd803c",
      "metadata": {
        "execution": {
          "iopub.execute_input": "2022-04-05T18:13:17.082315Z",
          "iopub.status.busy": "2022-04-05T18:13:17.081228Z",
          "iopub.status.idle": "2022-04-06T00:30:02.490353Z",
          "shell.execute_reply": "2022-04-06T00:30:02.489801Z",
          "shell.execute_reply.started": "2022-04-03T20:32:33.081004Z"
        },
        "papermill": {
          "duration": 22605.441886,
          "end_time": "2022-04-06T00:30:02.490571",
          "exception": false,
          "start_time": "2022-04-05T18:13:17.048685",
          "status": "completed"
        },
        "tags": [],
        "id": "04fd803c",
        "outputId": "01abf668-410a-407a-ee4e-e678209c415b"
      },
      "outputs": [
        {
          "name": "stdout",
          "output_type": "stream",
          "text": [
            "Epoch 1/60\n"
          ]
        },
        {
          "name": "stderr",
          "output_type": "stream",
          "text": [
            "2022-04-05 18:13:24.651987: I tensorflow/compiler/mlir/mlir_graph_optimization_pass.cc:185] None of the MLIR Optimization Passes are enabled (registered 2)\n",
            "2022-04-05 18:13:34.205183: I tensorflow/stream_executor/cuda/cuda_dnn.cc:369] Loaded cuDNN version 8005\n"
          ]
        },
        {
          "name": "stdout",
          "output_type": "stream",
          "text": [
            "3037/3037 [==============================] - 617s 195ms/step - loss: 32.2185 - accuracy: 0.0000e+00 - val_loss: 31.9359 - val_accuracy: 0.0000e+00\n",
            "Epoch 2/60\n",
            "3037/3037 [==============================] - 519s 171ms/step - loss: 30.5416 - accuracy: 0.0023 - val_loss: 30.7367 - val_accuracy: 0.0032\n",
            "Epoch 3/60\n",
            "3037/3037 [==============================] - 519s 171ms/step - loss: 28.0725 - accuracy: 0.0048 - val_loss: 31.9391 - val_accuracy: 0.0191\n",
            "Epoch 4/60\n",
            "3037/3037 [==============================] - 519s 171ms/step - loss: 26.6756 - accuracy: 0.0074 - val_loss: 29.7580 - val_accuracy: 0.0096\n",
            "Epoch 5/60\n",
            "3037/3037 [==============================] - 521s 172ms/step - loss: 25.6867 - accuracy: 0.0097 - val_loss: 29.8900 - val_accuracy: 0.0176\n",
            "Epoch 6/60\n",
            "3037/3037 [==============================] - 529s 174ms/step - loss: 24.8278 - accuracy: 0.0111 - val_loss: 25.2304 - val_accuracy: 0.0114\n",
            "Epoch 7/60\n",
            "3037/3037 [==============================] - 520s 171ms/step - loss: 24.0685 - accuracy: 0.0107 - val_loss: 26.6837 - val_accuracy: 0.0102\n",
            "Epoch 8/60\n",
            "3037/3037 [==============================] - 528s 174ms/step - loss: 23.3371 - accuracy: 0.0102 - val_loss: 24.5160 - val_accuracy: 0.0085\n",
            "Epoch 9/60\n",
            "3037/3037 [==============================] - 518s 171ms/step - loss: 22.5119 - accuracy: 0.0113 - val_loss: 24.0666 - val_accuracy: 0.0103\n",
            "Epoch 10/60\n",
            "3037/3037 [==============================] - 522s 172ms/step - loss: 21.7724 - accuracy: 0.0151 - val_loss: 23.2481 - val_accuracy: 0.0083\n",
            "Epoch 11/60\n",
            "3037/3037 [==============================] - 523s 172ms/step - loss: 20.9824 - accuracy: 0.0172 - val_loss: 23.4654 - val_accuracy: 0.0175\n",
            "Epoch 12/60\n",
            "3037/3037 [==============================] - 521s 172ms/step - loss: 20.3811 - accuracy: 0.0156 - val_loss: 20.9616 - val_accuracy: 0.0175\n",
            "Epoch 13/60\n",
            "3037/3037 [==============================] - 522s 172ms/step - loss: 19.8584 - accuracy: 0.0169 - val_loss: 20.2960 - val_accuracy: 0.0101\n",
            "Epoch 14/60\n",
            "3037/3037 [==============================] - 521s 172ms/step - loss: 19.4272 - accuracy: 0.0164 - val_loss: 19.9872 - val_accuracy: 0.0148\n",
            "Epoch 15/60\n",
            "3037/3037 [==============================] - 527s 174ms/step - loss: 18.9313 - accuracy: 0.0180 - val_loss: 20.6207 - val_accuracy: 0.0202\n",
            "Epoch 16/60\n",
            "3037/3037 [==============================] - 526s 173ms/step - loss: 18.6105 - accuracy: 0.0197 - val_loss: 19.7030 - val_accuracy: 0.0121\n",
            "Epoch 17/60\n",
            "3037/3037 [==============================] - 522s 172ms/step - loss: 18.2460 - accuracy: 0.0203 - val_loss: 19.7840 - val_accuracy: 0.0152\n",
            "Epoch 18/60\n",
            "3037/3037 [==============================] - 528s 174ms/step - loss: 17.9098 - accuracy: 0.0210 - val_loss: 19.2130 - val_accuracy: 0.0154\n",
            "Epoch 19/60\n",
            "3037/3037 [==============================] - 527s 173ms/step - loss: 17.6635 - accuracy: 0.0199 - val_loss: 18.6907 - val_accuracy: 0.0195\n",
            "Epoch 20/60\n",
            "3037/3037 [==============================] - 529s 174ms/step - loss: 17.3442 - accuracy: 0.0209 - val_loss: 19.5694 - val_accuracy: 0.0119\n",
            "Epoch 21/60\n",
            "3037/3037 [==============================] - 529s 174ms/step - loss: 17.1433 - accuracy: 0.0204 - val_loss: 18.5513 - val_accuracy: 0.0172\n",
            "Epoch 22/60\n",
            "3037/3037 [==============================] - 519s 171ms/step - loss: 16.8978 - accuracy: 0.0213 - val_loss: 18.0238 - val_accuracy: 0.0144\n",
            "Epoch 23/60\n",
            "3037/3037 [==============================] - 530s 174ms/step - loss: 16.7039 - accuracy: 0.0211 - val_loss: 18.4202 - val_accuracy: 0.0239\n",
            "Epoch 24/60\n",
            "3037/3037 [==============================] - 528s 174ms/step - loss: 16.5034 - accuracy: 0.0226 - val_loss: 18.2818 - val_accuracy: 0.0191\n",
            "Epoch 25/60\n",
            "3037/3037 [==============================] - 521s 172ms/step - loss: 16.2737 - accuracy: 0.0231 - val_loss: 19.4422 - val_accuracy: 0.0225\n",
            "Epoch 26/60\n",
            "3037/3037 [==============================] - 518s 171ms/step - loss: 16.1540 - accuracy: 0.0236 - val_loss: 18.9690 - val_accuracy: 0.0207\n",
            "Epoch 27/60\n",
            "3037/3037 [==============================] - 517s 170ms/step - loss: 16.0181 - accuracy: 0.0238 - val_loss: 18.0307 - val_accuracy: 0.0261\n",
            "Epoch 28/60\n",
            "3037/3037 [==============================] - 518s 171ms/step - loss: 15.8256 - accuracy: 0.0237 - val_loss: 17.7933 - val_accuracy: 0.0205\n",
            "Epoch 29/60\n",
            "3037/3037 [==============================] - 518s 171ms/step - loss: 15.6735 - accuracy: 0.0235 - val_loss: 16.3024 - val_accuracy: 0.0191\n",
            "Epoch 30/60\n",
            "3037/3037 [==============================] - 518s 171ms/step - loss: 15.5290 - accuracy: 0.0235 - val_loss: 17.1583 - val_accuracy: 0.0245\n",
            "Epoch 31/60\n",
            "3037/3037 [==============================] - 526s 173ms/step - loss: 15.3954 - accuracy: 0.0235 - val_loss: 17.1398 - val_accuracy: 0.0229\n",
            "Epoch 32/60\n",
            "3037/3037 [==============================] - 526s 173ms/step - loss: 15.2491 - accuracy: 0.0246 - val_loss: 16.1960 - val_accuracy: 0.0237\n",
            "Epoch 33/60\n",
            "3037/3037 [==============================] - 527s 174ms/step - loss: 15.1095 - accuracy: 0.0249 - val_loss: 16.9339 - val_accuracy: 0.0244\n",
            "Epoch 34/60\n",
            "3037/3037 [==============================] - 525s 173ms/step - loss: 15.0358 - accuracy: 0.0251 - val_loss: 16.8335 - val_accuracy: 0.0236\n",
            "Epoch 35/60\n",
            "3037/3037 [==============================] - 523s 172ms/step - loss: 14.9022 - accuracy: 0.0271 - val_loss: 17.4710 - val_accuracy: 0.0218\n",
            "Epoch 36/60\n",
            "3037/3037 [==============================] - 523s 172ms/step - loss: 14.7736 - accuracy: 0.0247 - val_loss: 16.0557 - val_accuracy: 0.0225\n",
            "Epoch 37/60\n",
            "3037/3037 [==============================] - 525s 173ms/step - loss: 14.6563 - accuracy: 0.0263 - val_loss: 17.0217 - val_accuracy: 0.0213\n",
            "Epoch 38/60\n",
            "3037/3037 [==============================] - 518s 171ms/step - loss: 14.5243 - accuracy: 0.0277 - val_loss: 17.9894 - val_accuracy: 0.0250\n",
            "Epoch 39/60\n",
            "3037/3037 [==============================] - 524s 173ms/step - loss: 14.4532 - accuracy: 0.0266 - val_loss: 16.9704 - val_accuracy: 0.0213\n",
            "Epoch 40/60\n",
            "3037/3037 [==============================] - 514s 169ms/step - loss: 14.3598 - accuracy: 0.0259 - val_loss: 18.5586 - val_accuracy: 0.0210\n",
            "Epoch 41/60\n",
            "3037/3037 [==============================] - 510s 168ms/step - loss: 14.1826 - accuracy: 0.0276 - val_loss: 19.3910 - val_accuracy: 0.0185\n",
            "Epoch 42/60\n",
            "3037/3037 [==============================] - 511s 168ms/step - loss: 14.0970 - accuracy: 0.0288 - val_loss: 18.2114 - val_accuracy: 0.0210\n",
            "Epoch 43/60\n",
            "3037/3037 [==============================] - 513s 169ms/step - loss: 13.9601 - accuracy: 0.0276 - val_loss: 17.4734 - val_accuracy: 0.0178\n",
            "[INFO] Obtaining Predictions\n"
          ]
        }
      ],
      "source": [
        "ckpt = tf.keras.callbacks.ModelCheckpoint('model.hdf5', monitor = 'val_loss', mode='min',\n",
        "                                          save_best_only = True, save_weights_only = True)\n",
        "es = tf.keras.callbacks.EarlyStopping(patience = 7, monitor = 'val_loss', mode='min',\n",
        "                                      restore_best_weights=True)\n",
        "logger = Logger()\n",
        "# const = ConstWeight()\n",
        "try:\n",
        "    # model.load_weights('last_trained.hdf5')\n",
        "    model.fit(train_set,\n",
        "            epochs = 60,\n",
        "            steps_per_epoch = (trn.shape[0]//32),\n",
        "            validation_data = val_set,\n",
        "            callbacks = [ckpt,es],\n",
        "            initial_epoch=0\n",
        "            )\n",
        "except KeyboardInterrupt:\n",
        "    print(\"\\n[INFO] Interrupted Training\")\n",
        "    model.save_weights('last_trained.hdf5')\n",
        "print('[INFO] Obtaining Predictions')\n",
        "model.load_weights('model.hdf5')\n",
        "\n",
        "preds = []\n",
        "pred = model.predict(val_set)\n",
        "bins = np.concatenate(([0], np.cumsum(cfg.max_vals))).astype(np.int)\n",
        "for i in range(0, len(bins) - 1):\n",
        "    y_true_to_coeff = tf.argmax(pred[:, bins[i]:bins[i+1]], 1) + 1\n",
        "    preds.append(y_true_to_coeff)\n",
        "preds = np.stack(preds,axis=1)"
      ]
    },
    {
      "cell_type": "code",
      "execution_count": null,
      "id": "8372f012",
      "metadata": {
        "execution": {
          "iopub.execute_input": "2022-04-06T00:31:35.601266Z",
          "iopub.status.busy": "2022-04-06T00:31:35.600589Z",
          "iopub.status.idle": "2022-04-06T00:31:46.025951Z",
          "shell.execute_reply": "2022-04-06T00:31:46.025336Z",
          "shell.execute_reply.started": "2022-04-03T20:48:06.655431Z"
        },
        "papermill": {
          "duration": 56.825008,
          "end_time": "2022-04-06T00:31:46.026111",
          "exception": false,
          "start_time": "2022-04-06T00:30:49.201103",
          "status": "completed"
        },
        "tags": [],
        "id": "8372f012"
      },
      "outputs": [],
      "source": [
        "y = np.array(list(Y_val.unbatch().as_numpy_iterator()))\n",
        "y_true = []\n",
        "for i in range(0, len(bins) - 1):\n",
        "    y_true.append(tf.argmax(y[:, bins[i]:bins[i+1]], 1) + 1)\n",
        "y_true = np.stack(y_true,axis=1)"
      ]
    },
    {
      "cell_type": "code",
      "execution_count": null,
      "id": "b0f9af92",
      "metadata": {
        "execution": {
          "iopub.execute_input": "2022-04-06T00:33:18.035918Z",
          "iopub.status.busy": "2022-04-06T00:33:18.033801Z",
          "iopub.status.idle": "2022-04-06T00:33:18.039866Z",
          "shell.execute_reply": "2022-04-06T00:33:18.040416Z",
          "shell.execute_reply.started": "2022-04-03T20:50:52.506185Z"
        },
        "papermill": {
          "duration": 46.190335,
          "end_time": "2022-04-06T00:33:18.040587",
          "exception": false,
          "start_time": "2022-04-06T00:32:31.850252",
          "status": "completed"
        },
        "tags": [],
        "id": "b0f9af92"
      },
      "outputs": [],
      "source": [
        "print(\"Shape Y: \",y_true.shape)\n",
        "print(\"Accuracy = {:.4f}\".format(np.sum(np.round(preds)==y_true)/(15*y_true.shape[0])))\n",
        "print(\"MSE = {:.4f}\".format(np.sum(np.square(y_true - preds)) / (y_true.shape[0]*15)))"
      ]
    },
    {
      "cell_type": "code",
      "execution_count": null,
      "id": "f10f186f",
      "metadata": {
        "papermill": {
          "duration": 46.497728,
          "end_time": "2022-04-06T00:34:50.440009",
          "exception": false,
          "start_time": "2022-04-06T00:34:03.942281",
          "status": "completed"
        },
        "tags": [],
        "id": "f10f186f"
      },
      "outputs": [],
      "source": [
        ""
      ]
    }
  ],
  "metadata": {
    "kernelspec": {
      "display_name": "Python 3",
      "language": "python",
      "name": "python3"
    },
    "language_info": {
      "codemirror_mode": {
        "name": "ipython",
        "version": 3
      },
      "file_extension": ".py",
      "mimetype": "text/x-python",
      "name": "python",
      "nbconvert_exporter": "python",
      "pygments_lexer": "ipython3",
      "version": "3.7.12"
    },
    "papermill": {
      "default_parameters": {},
      "duration": 22966.43927,
      "end_time": "2022-04-06T00:35:39.202512",
      "environment_variables": {},
      "exception": null,
      "input_path": "__notebook__.ipynb",
      "output_path": "__notebook__.ipynb",
      "parameters": {},
      "start_time": "2022-04-05T18:12:52.763242",
      "version": "2.3.3"
    },
    "colab": {
      "name": "primary-quantization-attention-net (1).ipynb",
      "provenance": [],
      "include_colab_link": true
    }
  },
  "nbformat": 4,
  "nbformat_minor": 5
}