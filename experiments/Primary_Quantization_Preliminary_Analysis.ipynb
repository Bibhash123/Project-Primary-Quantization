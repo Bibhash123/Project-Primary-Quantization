{
  "nbformat": 4,
  "nbformat_minor": 0,
  "metadata": {
    "colab": {
      "name": "Primary Quantization-Preliminary Analysis.ipynb",
      "provenance": [],
      "collapsed_sections": [],
      "authorship_tag": "ABX9TyPnzSOggvFoFccsBlrIf6iW",
      "include_colab_link": true
    },
    "kernelspec": {
      "name": "python3",
      "display_name": "Python 3"
    },
    "language_info": {
      "name": "python"
    },
    "accelerator": "GPU"
  },
  "cells": [
    {
      "cell_type": "markdown",
      "metadata": {
        "id": "view-in-github",
        "colab_type": "text"
      },
      "source": [
        "<a href=\"https://colab.research.google.com/github/Bibhash123/Project-Primary-Quantization/blob/main/experiments/Primary_Quantization_Preliminary_Analysis.ipynb\" target=\"_parent\"><img src=\"https://colab.research.google.com/assets/colab-badge.svg\" alt=\"Open In Colab\"/></a>"
      ]
    },
    {
      "cell_type": "code",
      "execution_count": null,
      "metadata": {
        "id": "-uC_q-OFmMWs",
        "colab": {
          "resources": {
            "http://localhost:8080/nbextensions/google.colab/files.js": {
              "data": "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",
              "ok": true,
              "headers": [
                [
                  "content-type",
                  "application/javascript"
                ]
              ],
              "status": 200,
              "status_text": ""
            }
          },
          "base_uri": "https://localhost:8080/",
          "height": 125
        },
        "outputId": "7355dbd7-1fc4-49c0-ccee-f58608fb7dba"
      },
      "outputs": [
        {
          "output_type": "display_data",
          "data": {
            "text/html": [
              "\n",
              "     <input type=\"file\" id=\"files-369811c3-6060-4cca-8589-17dffca50169\" name=\"files[]\" multiple disabled\n",
              "        style=\"border:none\" />\n",
              "     <output id=\"result-369811c3-6060-4cca-8589-17dffca50169\">\n",
              "      Upload widget is only available when the cell has been executed in the\n",
              "      current browser session. Please rerun this cell to enable.\n",
              "      </output>\n",
              "      <script src=\"/nbextensions/google.colab/files.js\"></script> "
            ],
            "text/plain": [
              "<IPython.core.display.HTML object>"
            ]
          },
          "metadata": {}
        },
        {
          "output_type": "stream",
          "name": "stdout",
          "text": [
            "Saving kaggle.json to kaggle.json\n",
            "Downloading tondidataset.zip to /content\n",
            " 97% 562M/581M [00:17<00:00, 47.2MB/s]\n",
            "100% 581M/581M [00:17<00:00, 34.6MB/s]\n"
          ]
        }
      ],
      "source": [
        "from google.colab import files\n",
        "_ = files.upload()\n",
        "!mkdir ~/.kaggle/\n",
        "!cp kaggle.json ~/.kaggle/kaggle.json\n",
        "!chmod 600 ~/.kaggle/kaggle.json\n",
        "!pip install -q kaggle\n",
        "!kaggle datasets download -d \"bibhash123/tondidataset\"\n",
        "!unzip -q tondidataset.zip -d \"/content/Data/\"\n",
        "!rm -r tondidataset.zip"
      ]
    },
    {
      "cell_type": "code",
      "source": [
        "import os\n",
        "import gc\n",
        "import random\n",
        "import numpy as np\n",
        "import pandas as pd\n",
        "import tensorflow as tf\n",
        "from functools import partial\n",
        "import matplotlib.pyplot as plt\n",
        "import tensorflow.keras.layers as L\n",
        "import tensorflow.keras.backend as K\n",
        "from sklearn.model_selection import train_test_split"
      ],
      "metadata": {
        "id": "4JL5HyXwmXcM"
      },
      "execution_count": null,
      "outputs": []
    },
    {
      "cell_type": "code",
      "source": [
        "def seedAll(seed):\n",
        "  np.random.seed(seed)\n",
        "  random.seed(seed)\n",
        "  tf.random.set_seed(seed)\n",
        "  os.environ[\"PYTHONHASHSEED\"] = str(seed)\n",
        "\n",
        "seedAll(42)"
      ],
      "metadata": {
        "id": "1MITPI1vmyk8"
      },
      "execution_count": null,
      "outputs": []
    },
    {
      "cell_type": "code",
      "source": [
        "train_files = pd.read_csv(\"/content/Data/train.csv\",sep=\";\",header=None,\n",
        "                         names=['idx', 'filenames', 'quality1', 'quality2', 'software', 'labels',\n",
        "                                'shift_r', 'shift_c']\n",
        "                         )\n",
        "\n",
        "trn,val = train_test_split(train_files,test_size=0.1)"
      ],
      "metadata": {
        "id": "KAQ_5Ppmm-XG"
      },
      "execution_count": null,
      "outputs": []
    },
    {
      "cell_type": "code",
      "source": [
        "def preprocess_input(im_file, target_size, scale=255.):\n",
        "    \"\"\" \n",
        "        Read image and (eventually) scale data\n",
        "        Arguments:\n",
        "            im_file     : input image file\n",
        "            target_size : output size of the image (height, width)\n",
        "            scale       : pixel scaling value\n",
        "        Returns: The image\n",
        "    \"\"\"\n",
        "    file_bytes = tf.io.read_file(im_file)\n",
        "    img = tf.image.decode_png(file_bytes, channels = 0)\n",
        "    # Normalize and Resize\n",
        "    if img.shape != target_size:\n",
        "        img = tf.image.resize(img, target_size)\n",
        "    img = tf.cast(img/scale, tf.float32)\n",
        "    return img\n",
        "  \n",
        "def string2Q(s, size=(8, 8), flatten=True):\n",
        "    \"\"\" Converts a comma separated string to a matrix.\n",
        "        Keyword arguments:\n",
        "        sq : input string\n",
        "        size : output matrix size\n",
        "    \"\"\"\n",
        "    if flatten:\n",
        "        return tf.strings.to_number(tf.strings.split(s,','),out_type=tf.int32)\n",
        "    else:\n",
        "        return tf.reshape(tf.strings.to_number(tf.strings.split(s,','),out_type=tf.int32),size)\n",
        "        \n",
        "def get_label(im_label):\n",
        "    return string2Q(im_label)[:15]"
      ],
      "metadata": {
        "id": "C4h54NapnKFy"
      },
      "execution_count": null,
      "outputs": []
    },
    {
      "cell_type": "code",
      "source": [
        "AUTOTUNE = tf.data.experimental.AUTOTUNE\n",
        "\n",
        "def build_decoder(is_labelled):\n",
        "  def if_labelled(path,label,target_size):\n",
        "    image = preprocess_input(path,target_size)\n",
        "    label = get_label(label)\n",
        "    return image,label\n",
        "  \n",
        "  return if_labelled if is_labelled else preprocess_input\n",
        "\n",
        "def create_dataset(df, batch_size = 32, is_labelled = False, repeat = False, shuffle = False, batch=False, cache=False):\n",
        "    decode_fn = build_decoder(is_labelled)\n",
        "    \n",
        "    # Create Dataset\n",
        "    if is_labelled:\n",
        "        dataset = tf.data.Dataset.from_tensor_slices((df['filenames'].values,df[\"labels\"].values))\n",
        "    else:\n",
        "        dataset = tf.data.Dataset.from_tensor_slices((df['filenames'].values))\n",
        "\n",
        "    dataset = dataset.map(partial(decode_fn,target_size=(64,64)), num_parallel_calls = AUTOTUNE)\n",
        "    dataset = dataset.cache(\"\") if cache else dataset\n",
        "    dataset = dataset.repeat() if repeat else dataset\n",
        "    dataset = dataset.shuffle(1024, reshuffle_each_iteration = True) if shuffle else dataset\n",
        "    dataset = dataset.batch(batch_size,drop_remainder=True) if batch else dataset\n",
        "    dataset = dataset.prefetch(AUTOTUNE)\n",
        "    return dataset\n",
        "\n",
        "def getX(X,Y):\n",
        "  return X\n",
        "def getY(X,Y):\n",
        "  return Y"
      ],
      "metadata": {
        "id": "S2PFSmRSnZ5z"
      },
      "execution_count": null,
      "outputs": []
    },
    {
      "cell_type": "markdown",
      "source": [
        "# Constrained Convolution Network"
      ],
      "metadata": {
        "id": "8zv8VCGRvnTY"
      }
    },
    {
      "cell_type": "code",
      "source": [
        "class ConvConst(tf.keras.models.Model):\n",
        "  def __init__(self,nc=15):\n",
        "    super(ConvConst,self).__init__()\n",
        "    self.nc = nc\n",
        "    self.block1 = L.Conv2D(12,(5,5),strides=1,input_shape=(None,64,64,1))\n",
        "    \n",
        "    self.block2 = tf.keras.models.Sequential([\n",
        "                                              L.Conv2D(96,(7,7),strides=2),\n",
        "                                              L.BatchNormalization(),\n",
        "                                              L.Activation('tanh'),\n",
        "                                              L.MaxPool2D(pool_size=(3,3),strides=2)\n",
        "    ])\n",
        "    self.block3 = tf.keras.models.Sequential([\n",
        "                                             L.Conv2D(64,(5,5),strides=1),\n",
        "                                             L.BatchNormalization()\n",
        "    ])\n",
        "    self.block4 = tf.keras.models.Sequential([\n",
        "                                             L.Conv2D(64,(5,5),strides=1),\n",
        "                                             L.BatchNormalization(),\n",
        "                                             L.Activation('tanh'),\n",
        "                                             L.AveragePooling2D(pool_size=(3,3),strides=2)\n",
        "    ])\n",
        "\n",
        "    self.fc1 = L.Dense(200)\n",
        "    self.fc2 = L.Dense(200)\n",
        "    self.fc3 = L.Dense(nc,activation=\"linear\")\n",
        "\n",
        "  def call(self,inputs,**kwargs):\n",
        "    out = self.block1(inputs)\n",
        "    out = self.block2(out)\n",
        "    out = self.block3(out)\n",
        "    out = self.block4(out)\n",
        "\n",
        "    out = L.Flatten()(out)\n",
        "\n",
        "    out = self.fc1(out)\n",
        "    out = self.fc2(out)\n",
        "    out = self.fc3(out)\n",
        "    return out"
      ],
      "metadata": {
        "id": "IIFaC0sSFrNe"
      },
      "execution_count": null,
      "outputs": []
    },
    {
      "cell_type": "code",
      "source": [
        "class ConstWeight(tf.keras.callbacks.Callback):\n",
        "  def on_batch_end(self,epoch,logs={}):\n",
        "    weights = self.model.layers[0].get_weights()\n",
        "    weights[0][2,2,0,:] = np.zeros((12,))\n",
        "    for i in range(weights[0].shape[-1]):\n",
        "      t = weights[0][:,:,0,i]\n",
        "      nom = -1*np.sum(t)\n",
        "      weights[0][:,:,:,i] = weights[0][:,:,:,i]/nom\n",
        "    weights[0][2,2,0,:] = np.ones((12,))  \n",
        "    self.model.layers[0].set_weights(weights)"
      ],
      "metadata": {
        "id": "YF8cc-iQF9-B"
      },
      "execution_count": null,
      "outputs": []
    },
    {
      "cell_type": "code",
      "source": [
        "train_set = create_dataset(trn, batch_size = 64, is_labelled = True, repeat = True, \n",
        "                          shuffle = True, batch=True,cache=True)\n",
        "val_set = create_dataset(val, batch_size = 64, is_labelled = True, repeat = False, \n",
        "                          shuffle = False, batch=True,cache=True)\n",
        "Y_val = val_set.map(getY)"
      ],
      "metadata": {
        "id": "TONkMpEKnifg"
      },
      "execution_count": null,
      "outputs": []
    },
    {
      "cell_type": "code",
      "source": [
        "K.clear_session()\n",
        "model = ConvConst(nc=15)\n",
        "model.build((None,64,64,1))\n",
        "model.compile(loss=tf.keras.losses.LogCosh(),optimizer=tf.keras.optimizers.Adam(learning_rate=1e-4))\n",
        "model.summary()"
      ],
      "metadata": {
        "colab": {
          "base_uri": "https://localhost:8080/"
        },
        "id": "bY67i16dGyp7",
        "outputId": "0f7ecd5a-45e1-4ad1-eff8-ec7ca96ae46f"
      },
      "execution_count": null,
      "outputs": [
        {
          "output_type": "stream",
          "name": "stdout",
          "text": [
            "Model: \"conv_const\"\n",
            "_________________________________________________________________\n",
            " Layer (type)                Output Shape              Param #   \n",
            "=================================================================\n",
            " conv2d (Conv2D)             multiple                  312       \n",
            "                                                                 \n",
            " sequential (Sequential)     (None, 13, 13, 96)        56928     \n",
            "                                                                 \n",
            " sequential_1 (Sequential)   (None, 9, 9, 64)          153920    \n",
            "                                                                 \n",
            " sequential_2 (Sequential)   (None, 2, 2, 64)          102720    \n",
            "                                                                 \n",
            " dense (Dense)               multiple                  51400     \n",
            "                                                                 \n",
            " dense_1 (Dense)             multiple                  40200     \n",
            "                                                                 \n",
            " dense_2 (Dense)             multiple                  3015      \n",
            "                                                                 \n",
            "=================================================================\n",
            "Total params: 408,495\n",
            "Trainable params: 408,047\n",
            "Non-trainable params: 448\n",
            "_________________________________________________________________\n"
          ]
        }
      ]
    },
    {
      "cell_type": "code",
      "source": [
        "ckpt = tf.keras.callbacks.ModelCheckpoint('model.hdf5', monitor = 'val_loss', mode='min',\n",
        "                                          save_best_only = True, save_weights_only = True)\n",
        "const = ConstWeight()\n",
        "es = tf.keras.callbacks.EarlyStopping(patience = 10, monitor = 'val_loss', mode='min',\n",
        "                                      restore_best_weights=True)\n",
        "\n",
        "model.fit(\n",
        "          train_set,\n",
        "          epochs = 100,\n",
        "          steps_per_epoch = (trn.shape[0]//64),\n",
        "          validation_data = val_set,\n",
        "          callbacks = [ckpt,const,es]\n",
        "          )\n",
        "\n",
        "pred = model.predict(val_set)"
      ],
      "metadata": {
        "colab": {
          "base_uri": "https://localhost:8080/"
        },
        "id": "HPIPaeYZIcRH",
        "outputId": "7f01dcdd-d868-4bb1-b886-c76a66a332ba"
      },
      "execution_count": null,
      "outputs": [
        {
          "output_type": "stream",
          "name": "stdout",
          "text": [
            "Epoch 1/100\n",
            "   5/3037 [..............................] - ETA: 2:01 - loss: 5.4973WARNING:tensorflow:Callback method `on_train_batch_end` is slow compared to the batch time (batch time: 0.0050s vs `on_train_batch_end` time: 0.0335s). Check your callbacks.\n",
            "3037/3037 [==============================] - 107s 35ms/step - loss: 2.4112 - val_loss: 2.1100\n",
            "Epoch 2/100\n",
            "3037/3037 [==============================] - 106s 35ms/step - loss: 1.9876 - val_loss: 3.3712\n",
            "Epoch 3/100\n",
            "3037/3037 [==============================] - 106s 35ms/step - loss: 1.8207 - val_loss: 1.9768\n",
            "Epoch 4/100\n",
            "3037/3037 [==============================] - 105s 35ms/step - loss: 1.7180 - val_loss: 2.2732\n",
            "Epoch 5/100\n",
            "3037/3037 [==============================] - 106s 35ms/step - loss: 1.6443 - val_loss: 1.7004\n",
            "Epoch 6/100\n",
            "3037/3037 [==============================] - 106s 35ms/step - loss: 1.6023 - val_loss: 2.3808\n",
            "Epoch 7/100\n",
            "3037/3037 [==============================] - 105s 35ms/step - loss: 1.5723 - val_loss: 1.9637\n",
            "Epoch 8/100\n",
            "3037/3037 [==============================] - 105s 34ms/step - loss: 1.5264 - val_loss: 1.6892\n",
            "Epoch 9/100\n",
            "3037/3037 [==============================] - 105s 34ms/step - loss: 1.4886 - val_loss: 1.4635\n",
            "Epoch 10/100\n",
            "3037/3037 [==============================] - 106s 35ms/step - loss: 1.4565 - val_loss: 1.6930\n",
            "Epoch 11/100\n",
            "3037/3037 [==============================] - 105s 35ms/step - loss: 1.4399 - val_loss: 1.7046\n",
            "Epoch 12/100\n",
            "3037/3037 [==============================] - 105s 35ms/step - loss: 1.4116 - val_loss: 1.7780\n",
            "Epoch 13/100\n",
            "3037/3037 [==============================] - 106s 35ms/step - loss: 1.3924 - val_loss: 1.7880\n",
            "Epoch 14/100\n",
            "3037/3037 [==============================] - 106s 35ms/step - loss: 1.3765 - val_loss: 2.3836\n",
            "Epoch 15/100\n",
            "3037/3037 [==============================] - 106s 35ms/step - loss: 1.3554 - val_loss: 1.4205\n",
            "Epoch 16/100\n",
            "3037/3037 [==============================] - 106s 35ms/step - loss: 1.3410 - val_loss: 1.3318\n",
            "Epoch 17/100\n",
            "3037/3037 [==============================] - 106s 35ms/step - loss: 1.3244 - val_loss: 1.3851\n",
            "Epoch 18/100\n",
            "3037/3037 [==============================] - 106s 35ms/step - loss: 1.2952 - val_loss: 1.4917\n",
            "Epoch 19/100\n",
            "3037/3037 [==============================] - 106s 35ms/step - loss: 1.2832 - val_loss: 1.4278\n",
            "Epoch 20/100\n",
            "3037/3037 [==============================] - 105s 35ms/step - loss: 1.2683 - val_loss: 1.3503\n",
            "Epoch 21/100\n",
            "3037/3037 [==============================] - 106s 35ms/step - loss: 1.2523 - val_loss: 1.5524\n",
            "Epoch 22/100\n",
            "3037/3037 [==============================] - 106s 35ms/step - loss: 1.2362 - val_loss: 1.2282\n",
            "Epoch 23/100\n",
            "3037/3037 [==============================] - 106s 35ms/step - loss: 1.2224 - val_loss: 1.4189\n",
            "Epoch 24/100\n",
            "3037/3037 [==============================] - 106s 35ms/step - loss: 1.2029 - val_loss: 2.1471\n",
            "Epoch 25/100\n",
            "3037/3037 [==============================] - 105s 35ms/step - loss: 1.1964 - val_loss: 1.2290\n",
            "Epoch 26/100\n",
            "3037/3037 [==============================] - 105s 35ms/step - loss: 1.1846 - val_loss: 1.2454\n",
            "Epoch 27/100\n",
            "3037/3037 [==============================] - 106s 35ms/step - loss: 1.1699 - val_loss: 1.3060\n",
            "Epoch 28/100\n",
            "3037/3037 [==============================] - 105s 34ms/step - loss: 1.1557 - val_loss: 1.1580\n",
            "Epoch 29/100\n",
            "3037/3037 [==============================] - 105s 34ms/step - loss: 1.1458 - val_loss: 1.1417\n",
            "Epoch 30/100\n",
            "3037/3037 [==============================] - 106s 35ms/step - loss: 1.1399 - val_loss: 1.3611\n",
            "Epoch 31/100\n",
            "3037/3037 [==============================] - 106s 35ms/step - loss: 1.1252 - val_loss: 2.1067\n",
            "Epoch 32/100\n",
            "3037/3037 [==============================] - 106s 35ms/step - loss: 1.1190 - val_loss: 1.2769\n",
            "Epoch 33/100\n",
            "3037/3037 [==============================] - 105s 35ms/step - loss: 1.1096 - val_loss: 1.3080\n",
            "Epoch 34/100\n",
            "3037/3037 [==============================] - 105s 35ms/step - loss: 1.1002 - val_loss: 1.3213\n",
            "Epoch 35/100\n",
            "3037/3037 [==============================] - 105s 35ms/step - loss: 1.0931 - val_loss: 1.1922\n",
            "Epoch 36/100\n",
            "3037/3037 [==============================] - 106s 35ms/step - loss: 1.0840 - val_loss: 1.7281\n",
            "Epoch 37/100\n",
            "3037/3037 [==============================] - 105s 35ms/step - loss: 1.0807 - val_loss: 1.2098\n",
            "Epoch 38/100\n",
            "3037/3037 [==============================] - 106s 35ms/step - loss: 1.0657 - val_loss: 1.1744\n",
            "Epoch 39/100\n",
            "3037/3037 [==============================] - 105s 34ms/step - loss: 1.0597 - val_loss: 1.1617\n"
          ]
        }
      ]
    },
    {
      "cell_type": "code",
      "source": [
        "y = np.array(list(Y_val.unbatch().as_numpy_iterator()))\n",
        "y.shape"
      ],
      "metadata": {
        "colab": {
          "base_uri": "https://localhost:8080/"
        },
        "id": "XrddfMnMKnmL",
        "outputId": "a62e52e4-1b33-4fc7-b694-cc046688e68d"
      },
      "execution_count": null,
      "outputs": [
        {
          "output_type": "execute_result",
          "data": {
            "text/plain": [
              "(21568, 15)"
            ]
          },
          "metadata": {},
          "execution_count": 14
        }
      ]
    },
    {
      "cell_type": "code",
      "source": [
        "print(\"Accuracy = {:.4f}\".format(np.count_nonzero(np.round(pred)==y)/(15*y.shape[0])))\n",
        "print(\"RMSE = {:.4f}\".format(np.sum(np.square(y - pred)) / (y.shape[0]*15)))"
      ],
      "metadata": {
        "id": "wKPPb23MoK-R",
        "colab": {
          "base_uri": "https://localhost:8080/"
        },
        "outputId": "80eee393-7f9d-440d-8d69-df69d3cf8c16"
      },
      "execution_count": null,
      "outputs": [
        {
          "output_type": "stream",
          "name": "stdout",
          "text": [
            "Accuracy = 0.2303\n",
            "RMSE = 5.1007\n"
          ]
        }
      ]
    },
    {
      "cell_type": "code",
      "source": [
        "!python predict.py --model \"/content/model.hdf5\" --test_csv \"/content/Data/test.csv\" --rslt_dir \"/content/results/\" --max_q_coeffs 15"
      ],
      "metadata": {
        "colab": {
          "base_uri": "https://localhost:8080/"
        },
        "id": "q88sutgiTDwz",
        "outputId": "3f59827a-904f-4fb1-9037-d85bf65f20d3"
      },
      "execution_count": null,
      "outputs": [
        {
          "output_type": "stream",
          "name": "stdout",
          "text": [
            "2021-12-11 07:51:49.432806: W tensorflow/core/common_runtime/gpu/gpu_bfc_allocator.cc:39] Overriding allow_growth setting because the TF_FORCE_GPU_ALLOW_GROWTH environment variable is set. Original config value was 0.\n",
            "Found 6000 images and 6000 labels in /content/Data/test.csv with filter (60, 90)\n",
            "Estimating Quantization Matrix: 100% 6000/6000 [05:27<00:00, 18.35it/s]\n",
            "--------------------------------------------------------------------------------\n",
            "QF1 = 60 QF2 = 90\n",
            "--------------------------------------------------------------------------------\n",
            "Test average MSE: 7.7639\n",
            "Test average normalised MSE: 0.0513\n",
            "Test accuracy: 0.1214\n",
            "--------------------------------------------------------------------------------\n",
            "\n",
            "\n",
            "Found 6000 images and 6000 labels in /content/Data/test.csv with filter (65, 90)\n",
            "Estimating Quantization Matrix: 100% 6000/6000 [05:30<00:00, 18.17it/s]\n",
            "--------------------------------------------------------------------------------\n",
            "QF1 = 65 QF2 = 90\n",
            "--------------------------------------------------------------------------------\n",
            "Test average MSE: 4.1258\n",
            "Test average normalised MSE: 0.0348\n",
            "Test accuracy: 0.2332\n",
            "--------------------------------------------------------------------------------\n",
            "\n",
            "\n",
            "Found 6000 images and 6000 labels in /content/Data/test.csv with filter (70, 90)\n",
            "Estimating Quantization Matrix: 100% 6000/6000 [05:25<00:00, 18.46it/s]\n",
            "--------------------------------------------------------------------------------\n",
            "QF1 = 70 QF2 = 90\n",
            "--------------------------------------------------------------------------------\n",
            "Test average MSE: 2.7962\n",
            "Test average normalised MSE: 0.0327\n",
            "Test accuracy: 0.2589\n",
            "--------------------------------------------------------------------------------\n",
            "\n",
            "\n",
            "Found 6000 images and 6000 labels in /content/Data/test.csv with filter (75, 90)\n",
            "Estimating Quantization Matrix: 100% 6000/6000 [05:23<00:00, 18.57it/s]\n",
            "--------------------------------------------------------------------------------\n",
            "QF1 = 75 QF2 = 90\n",
            "--------------------------------------------------------------------------------\n",
            "Test average MSE: 2.7806\n",
            "Test average normalised MSE: 0.0449\n",
            "Test accuracy: 0.2711\n",
            "--------------------------------------------------------------------------------\n",
            "\n",
            "\n",
            "Found 6000 images and 6000 labels in /content/Data/test.csv with filter (80, 90)\n",
            "Estimating Quantization Matrix: 100% 6000/6000 [05:27<00:00, 18.35it/s]\n",
            "--------------------------------------------------------------------------------\n",
            "QF1 = 80 QF2 = 90\n",
            "--------------------------------------------------------------------------------\n",
            "Test average MSE: 3.7885\n",
            "Test average normalised MSE: 0.1019\n",
            "Test accuracy: 0.1970\n",
            "--------------------------------------------------------------------------------\n",
            "\n",
            "\n",
            "Found 6000 images and 6000 labels in /content/Data/test.csv with filter (85, 90)\n",
            "Estimating Quantization Matrix: 100% 6000/6000 [05:24<00:00, 18.49it/s]\n",
            "--------------------------------------------------------------------------------\n",
            "QF1 = 85 QF2 = 90\n",
            "--------------------------------------------------------------------------------\n",
            "Test average MSE: 4.3490\n",
            "Test average normalised MSE: 0.2044\n",
            "Test accuracy: 0.2062\n",
            "--------------------------------------------------------------------------------\n",
            "\n",
            "\n",
            "Found 6000 images and 6000 labels in /content/Data/test.csv with filter (90, 90)\n",
            "Estimating Quantization Matrix: 100% 6000/6000 [05:25<00:00, 18.46it/s]\n",
            "--------------------------------------------------------------------------------\n",
            "QF1 = 90 QF2 = 90\n",
            "--------------------------------------------------------------------------------\n",
            "Test average MSE: 4.8030\n",
            "Test average normalised MSE: 0.5441\n",
            "Test accuracy: 0.2124\n",
            "--------------------------------------------------------------------------------\n",
            "\n",
            "\n",
            "Found 6000 images and 6000 labels in /content/Data/test.csv with filter (95, 90)\n",
            "Estimating Quantization Matrix: 100% 6000/6000 [05:28<00:00, 18.24it/s]\n",
            "--------------------------------------------------------------------------------\n",
            "QF1 = 95 QF2 = 90\n",
            "--------------------------------------------------------------------------------\n",
            "Test average MSE: 5.2516\n",
            "Test average normalised MSE: 2.8805\n",
            "Test accuracy: 0.3393\n",
            "--------------------------------------------------------------------------------\n",
            "\n",
            "\n",
            "Found 6000 images and 6000 labels in /content/Data/test.csv with filter (98, 90)\n",
            "Estimating Quantization Matrix: 100% 6000/6000 [05:28<00:00, 18.27it/s]\n",
            "--------------------------------------------------------------------------------\n",
            "QF1 = 98 QF2 = 90\n",
            "--------------------------------------------------------------------------------\n",
            "Test average MSE: 5.7349\n",
            "Test average normalised MSE: 5.7349\n",
            "Test accuracy: 0.3515\n",
            "--------------------------------------------------------------------------------\n",
            "\n",
            "\n"
          ]
        }
      ]
    },
    {
      "cell_type": "code",
      "source": [
        "pd.read_csv(\"/content/results/final_results.csv\")"
      ],
      "metadata": {
        "colab": {
          "base_uri": "https://localhost:8080/",
          "height": 331
        },
        "id": "2Ce1A_XjT12C",
        "outputId": "dacfa835-cfef-4d84-fe86-cf01343d916a"
      },
      "execution_count": null,
      "outputs": [
        {
          "output_type": "execute_result",
          "data": {
            "text/html": [
              "<div>\n",
              "<style scoped>\n",
              "    .dataframe tbody tr th:only-of-type {\n",
              "        vertical-align: middle;\n",
              "    }\n",
              "\n",
              "    .dataframe tbody tr th {\n",
              "        vertical-align: top;\n",
              "    }\n",
              "\n",
              "    .dataframe thead th {\n",
              "        text-align: right;\n",
              "    }\n",
              "</style>\n",
              "<table border=\"1\" class=\"dataframe\">\n",
              "  <thead>\n",
              "    <tr style=\"text-align: right;\">\n",
              "      <th></th>\n",
              "      <th>QFs</th>\n",
              "      <th>nmse</th>\n",
              "      <th>mse</th>\n",
              "      <th>accuracy</th>\n",
              "    </tr>\n",
              "  </thead>\n",
              "  <tbody>\n",
              "    <tr>\n",
              "      <th>0</th>\n",
              "      <td>60,90</td>\n",
              "      <td>0.051268</td>\n",
              "      <td>7.763879</td>\n",
              "      <td>0.121411</td>\n",
              "    </tr>\n",
              "    <tr>\n",
              "      <th>1</th>\n",
              "      <td>65,90</td>\n",
              "      <td>0.034760</td>\n",
              "      <td>4.125769</td>\n",
              "      <td>0.233178</td>\n",
              "    </tr>\n",
              "    <tr>\n",
              "      <th>2</th>\n",
              "      <td>70,90</td>\n",
              "      <td>0.032717</td>\n",
              "      <td>2.796231</td>\n",
              "      <td>0.258944</td>\n",
              "    </tr>\n",
              "    <tr>\n",
              "      <th>3</th>\n",
              "      <td>75,90</td>\n",
              "      <td>0.044915</td>\n",
              "      <td>2.780631</td>\n",
              "      <td>0.271056</td>\n",
              "    </tr>\n",
              "    <tr>\n",
              "      <th>4</th>\n",
              "      <td>80,90</td>\n",
              "      <td>0.101915</td>\n",
              "      <td>3.788544</td>\n",
              "      <td>0.197022</td>\n",
              "    </tr>\n",
              "    <tr>\n",
              "      <th>5</th>\n",
              "      <td>85,90</td>\n",
              "      <td>0.204398</td>\n",
              "      <td>4.348971</td>\n",
              "      <td>0.206156</td>\n",
              "    </tr>\n",
              "    <tr>\n",
              "      <th>6</th>\n",
              "      <td>90,90</td>\n",
              "      <td>0.544114</td>\n",
              "      <td>4.802990</td>\n",
              "      <td>0.212378</td>\n",
              "    </tr>\n",
              "    <tr>\n",
              "      <th>7</th>\n",
              "      <td>95,90</td>\n",
              "      <td>2.880537</td>\n",
              "      <td>5.251622</td>\n",
              "      <td>0.339289</td>\n",
              "    </tr>\n",
              "    <tr>\n",
              "      <th>8</th>\n",
              "      <td>98,90</td>\n",
              "      <td>5.734883</td>\n",
              "      <td>5.734883</td>\n",
              "      <td>0.351489</td>\n",
              "    </tr>\n",
              "  </tbody>\n",
              "</table>\n",
              "</div>"
            ],
            "text/plain": [
              "     QFs      nmse       mse  accuracy\n",
              "0  60,90  0.051268  7.763879  0.121411\n",
              "1  65,90  0.034760  4.125769  0.233178\n",
              "2  70,90  0.032717  2.796231  0.258944\n",
              "3  75,90  0.044915  2.780631  0.271056\n",
              "4  80,90  0.101915  3.788544  0.197022\n",
              "5  85,90  0.204398  4.348971  0.206156\n",
              "6  90,90  0.544114  4.802990  0.212378\n",
              "7  95,90  2.880537  5.251622  0.339289\n",
              "8  98,90  5.734883  5.734883  0.351489"
            ]
          },
          "metadata": {},
          "execution_count": 24
        }
      ]
    },
    {
      "cell_type": "code",
      "source": [
        "import matplotlib.pyplot as plt\n",
        "import pandas as pd\n",
        "rslt = pd.read_csv(\"/content/results/final_results.csv\")\n",
        "plt.plot(rslt['QFs'].values,rslt['accuracy'].values)\n",
        "plt.title(\"Accuracy vs QF pair\")"
      ],
      "metadata": {
        "colab": {
          "base_uri": "https://localhost:8080/",
          "height": 298
        },
        "id": "cRPkj4DisxMl",
        "outputId": "092fcf68-3c3b-4e47-9fab-54d34dcf279f"
      },
      "execution_count": null,
      "outputs": [
        {
          "output_type": "execute_result",
          "data": {
            "text/plain": [
              "Text(0.5, 1.0, 'Accuracy vs QF pair')"
            ]
          },
          "metadata": {},
          "execution_count": 25
        },
        {
          "output_type": "display_data",
          "data": {
            "image/png": "[encoded data removed]",
            "text/plain": [
              "<Figure size 432x288 with 1 Axes>"
            ]
          },
          "metadata": {
            "needs_background": "light"
          }
        }
      ]
    },
    {
      "cell_type": "code",
      "source": [
        "plt.plot(rslt['QFs'].values,rslt['mse'].values)\n",
        "plt.title(\"Accuracy vs QF pair\")"
      ],
      "metadata": {
        "colab": {
          "base_uri": "https://localhost:8080/",
          "height": 298
        },
        "id": "-ALj1XWjttp5",
        "outputId": "7b48dea5-bd51-45a7-b9fe-6edd46a224c4"
      },
      "execution_count": null,
      "outputs": [
        {
          "output_type": "execute_result",
          "data": {
            "text/plain": [
              "Text(0.5, 1.0, 'Accuracy vs QF pair')"
            ]
          },
          "metadata": {},
          "execution_count": 26
        },
        {
          "output_type": "display_data",
          "data": {
            "image/png": "[encoded data removed]",
            "text/plain": [
              "<Figure size 432x288 with 1 Axes>"
            ]
          },
          "metadata": {
            "needs_background": "light"
          }
        }
      ]
    },
    {
      "cell_type": "markdown",
      "source": [
        "# Simple Convolution Network"
      ],
      "metadata": {
        "id": "YFnonPwWvuhn"
      }
    },
    {
      "cell_type": "code",
      "source": [
        "class ConvConst(tf.keras.models.Model):\n",
        "  def __init__(self,nc=15):\n",
        "    super(ConvConst,self).__init__()\n",
        "    self.nc = nc\n",
        "    \n",
        "    self.block1 = tf.keras.models.Sequential([\n",
        "                                              L.Conv2D(96,(7,7),strides=2),\n",
        "                                              L.BatchNormalization(),\n",
        "                                              L.Activation('relu'),\n",
        "                                              L.MaxPool2D(pool_size=(3,3),strides=2)\n",
        "    ])\n",
        "    self.block2 = tf.keras.models.Sequential([\n",
        "                                             L.Conv2D(64,(5,5),strides=1),\n",
        "                                             L.BatchNormalization()\n",
        "    ])\n",
        "    self.block3 = tf.keras.models.Sequential([\n",
        "                                             L.Conv2D(64,(5,5),strides=1),\n",
        "                                             L.BatchNormalization(),\n",
        "                                             L.Activation('relu'),\n",
        "                                             L.AveragePooling2D(pool_size=(3,3),strides=2)\n",
        "    ])\n",
        "\n",
        "    self.fc1 = L.Dense(200)\n",
        "    self.fc2 = L.Dense(200)\n",
        "    self.fc3 = L.Dense(nc,activation=\"linear\")\n",
        "\n",
        "  def call(self,inputs,**kwargs):\n",
        "    out = self.block1(inputs)\n",
        "    out = self.block2(out)\n",
        "    out = self.block3(out)\n",
        "    out = L.Flatten()(out)\n",
        "\n",
        "    out = self.fc1(out)\n",
        "    out = self.fc2(out)\n",
        "    out = self.fc3(out)\n",
        "    return out"
      ],
      "metadata": {
        "id": "_fyDhu9NtuL8"
      },
      "execution_count": null,
      "outputs": []
    },
    {
      "cell_type": "code",
      "source": [
        "train_set = create_dataset(trn, batch_size = 64, is_labelled = True, repeat = True, \n",
        "                          shuffle = True, batch=True,cache=True)\n",
        "val_set = create_dataset(val, batch_size = 64, is_labelled = True, repeat = False, \n",
        "                          shuffle = False, batch=True,cache=True)\n",
        "Y_val = val_set.map(getY)"
      ],
      "metadata": {
        "id": "U-bBRerVwOiK"
      },
      "execution_count": null,
      "outputs": []
    },
    {
      "cell_type": "code",
      "source": [
        "K.clear_session()\n",
        "model = ConvConst(nc=15)\n",
        "model.build((None,64,64,1))\n",
        "model.compile(loss=tf.keras.losses.LogCosh(),optimizer=tf.keras.optimizers.Adam(learning_rate=1e-4))\n",
        "model.summary()"
      ],
      "metadata": {
        "colab": {
          "base_uri": "https://localhost:8080/"
        },
        "id": "rl0vCZ48gzZN",
        "outputId": "646402b2-3004-4292-cdd3-e04bf1de9dc0"
      },
      "execution_count": null,
      "outputs": [
        {
          "output_type": "stream",
          "name": "stdout",
          "text": [
            "Model: \"conv_const\"\n",
            "_________________________________________________________________\n",
            " Layer (type)                Output Shape              Param #   \n",
            "=================================================================\n",
            " sequential (Sequential)     (None, 14, 14, 96)        5184      \n",
            "                                                                 \n",
            " sequential_1 (Sequential)   (None, 10, 10, 64)        153920    \n",
            "                                                                 \n",
            " sequential_2 (Sequential)   (None, 2, 2, 64)          102720    \n",
            "                                                                 \n",
            " dense (Dense)               multiple                  51400     \n",
            "                                                                 \n",
            " dense_1 (Dense)             multiple                  40200     \n",
            "                                                                 \n",
            " dense_2 (Dense)             multiple                  3015      \n",
            "                                                                 \n",
            "=================================================================\n",
            "Total params: 356,439\n",
            "Trainable params: 355,991\n",
            "Non-trainable params: 448\n",
            "_________________________________________________________________\n"
          ]
        }
      ]
    },
    {
      "cell_type": "code",
      "source": [
        "ckpt = tf.keras.callbacks.ModelCheckpoint('model.hdf5', monitor = 'val_loss', mode='min',\n",
        "                                          save_best_only = True, save_weights_only = True)\n",
        "es = tf.keras.callbacks.EarlyStopping(patience = 10, monitor = 'val_loss', mode='min',\n",
        "                                      restore_best_weights=True)\n",
        "\n",
        "model.fit(\n",
        "          train_set,\n",
        "          epochs = 100,\n",
        "          steps_per_epoch = (trn.shape[0]//64),\n",
        "          validation_data = val_set,\n",
        "          callbacks = [ckpt,es]\n",
        "          )\n",
        "\n",
        "pred = model.predict(val_set)"
      ],
      "metadata": {
        "colab": {
          "base_uri": "https://localhost:8080/"
        },
        "id": "FbH3Qgx3wA6G",
        "outputId": "9329611b-9fed-4b3d-f360-8560adbc741a"
      },
      "execution_count": null,
      "outputs": [
        {
          "output_type": "stream",
          "name": "stdout",
          "text": [
            "Epoch 1/100\n",
            "3037/3037 [==============================] - 143s 43ms/step - loss: 2.6657 - val_loss: 2.7398\n",
            "Epoch 2/100\n",
            "3037/3037 [==============================] - 50s 17ms/step - loss: 2.5409 - val_loss: 3.9379\n",
            "Epoch 3/100\n",
            "3037/3037 [==============================] - 50s 16ms/step - loss: 2.4812 - val_loss: 2.6512\n",
            "Epoch 4/100\n",
            "3037/3037 [==============================] - 50s 16ms/step - loss: 2.4374 - val_loss: 2.7201\n",
            "Epoch 5/100\n",
            "3037/3037 [==============================] - 49s 16ms/step - loss: 2.4111 - val_loss: 3.5026\n",
            "Epoch 6/100\n",
            "3037/3037 [==============================] - 50s 16ms/step - loss: 2.3679 - val_loss: 3.1510\n",
            "Epoch 7/100\n",
            "3037/3037 [==============================] - 52s 17ms/step - loss: 2.3362 - val_loss: 3.9017\n",
            "Epoch 8/100\n",
            "3037/3037 [==============================] - 50s 16ms/step - loss: 2.3143 - val_loss: 21.9314\n",
            "Epoch 9/100\n",
            "3037/3037 [==============================] - 52s 17ms/step - loss: 2.2879 - val_loss: 6.6134\n",
            "Epoch 10/100\n",
            "3037/3037 [==============================] - 49s 16ms/step - loss: 2.2674 - val_loss: 3.4956\n",
            "Epoch 11/100\n",
            "3037/3037 [==============================] - 50s 16ms/step - loss: 2.2503 - val_loss: 3.2393\n",
            "Epoch 12/100\n",
            "3037/3037 [==============================] - 50s 16ms/step - loss: 2.2300 - val_loss: 4.0222\n",
            "Epoch 13/100\n",
            "3037/3037 [==============================] - 52s 17ms/step - loss: 2.2084 - val_loss: 4.8644\n"
          ]
        }
      ]
    },
    {
      "cell_type": "code",
      "source": [
        "y = np.array(list(Y_val.unbatch().as_numpy_iterator()))\n",
        "y.shape"
      ],
      "metadata": {
        "colab": {
          "base_uri": "https://localhost:8080/"
        },
        "id": "tWBkjAmZwKVR",
        "outputId": "3605a10f-e6e2-4b0a-98fd-2ed5292686d3"
      },
      "execution_count": null,
      "outputs": [
        {
          "output_type": "execute_result",
          "data": {
            "text/plain": [
              "(21568, 15)"
            ]
          },
          "metadata": {},
          "execution_count": 11
        }
      ]
    },
    {
      "cell_type": "code",
      "source": [
        "print(\"Accuracy = {:.4f}\".format(np.count_nonzero(np.round(pred)==y)/(15*y.shape[0])))\n",
        "print(\"RMSE = {:.4f}\".format(np.sum(np.square(y - pred)) / (y.shape[0]*15)))"
      ],
      "metadata": {
        "colab": {
          "base_uri": "https://localhost:8080/"
        },
        "id": "xTHxR3rOwUsR",
        "outputId": "641bac8a-87c5-4dae-889b-b8a1ff77bfd8"
      },
      "execution_count": null,
      "outputs": [
        {
          "output_type": "stream",
          "name": "stdout",
          "text": [
            "Accuracy = 0.0816\n",
            "RMSE = 16.4782\n"
          ]
        }
      ]
    },
    {
      "cell_type": "code",
      "source": [
        "!python predict.py --const 0 --model \"/content/model.hdf5\" --test_csv \"/content/Data/test.csv\" --rslt_dir \"/content/results/\" --max_q_coeffs 15"
      ],
      "metadata": {
        "colab": {
          "base_uri": "https://localhost:8080/"
        },
        "id": "TbHtpwQBy4Rj",
        "outputId": "b1cf0518-7807-434c-b26c-5be48836dc52"
      },
      "execution_count": null,
      "outputs": [
        {
          "output_type": "stream",
          "name": "stdout",
          "text": [
            "2021-12-11 14:28:00.512219: W tensorflow/core/common_runtime/gpu/gpu_bfc_allocator.cc:39] Overriding allow_growth setting because the TF_FORCE_GPU_ALLOW_GROWTH environment variable is set. Original config value was 0.\n",
            "Found 6000 images and 6000 labels in /content/Data/test.csv with filter (60, 90)\n",
            "Estimating Quantization Matrix: 100% 6000/6000 [05:27<00:00, 18.30it/s]\n",
            "--------------------------------------------------------------------------------\n",
            "QF1 = 60 QF2 = 90\n",
            "--------------------------------------------------------------------------------\n",
            "Test average MSE: 100.9731\n",
            "Test average normalised MSE: 0.6587\n",
            "Test accuracy: 0.0000\n",
            "--------------------------------------------------------------------------------\n",
            "\n",
            "\n",
            "Found 6000 images and 6000 labels in /content/Data/test.csv with filter (65, 90)\n",
            "Estimating Quantization Matrix: 100% 6000/6000 [05:33<00:00, 17.99it/s]\n",
            "--------------------------------------------------------------------------------\n",
            "QF1 = 65 QF2 = 90\n",
            "--------------------------------------------------------------------------------\n",
            "Test average MSE: 74.7491\n",
            "Test average normalised MSE: 0.6348\n",
            "Test accuracy: 0.0000\n",
            "--------------------------------------------------------------------------------\n",
            "\n",
            "\n",
            "Found 6000 images and 6000 labels in /content/Data/test.csv with filter (70, 90)\n",
            "Estimating Quantization Matrix: 100% 6000/6000 [05:34<00:00, 17.95it/s]\n",
            "--------------------------------------------------------------------------------\n",
            "QF1 = 70 QF2 = 90\n",
            "--------------------------------------------------------------------------------\n",
            "Test average MSE: 52.3292\n",
            "Test average normalised MSE: 0.6114\n",
            "Test accuracy: 0.0000\n",
            "--------------------------------------------------------------------------------\n",
            "\n",
            "\n",
            "Found 6000 images and 6000 labels in /content/Data/test.csv with filter (75, 90)\n",
            "Estimating Quantization Matrix: 100% 6000/6000 [05:28<00:00, 18.24it/s]\n",
            "--------------------------------------------------------------------------------\n",
            "QF1 = 75 QF2 = 90\n",
            "--------------------------------------------------------------------------------\n",
            "Test average MSE: 37.2250\n",
            "Test average normalised MSE: 0.5989\n",
            "Test accuracy: 0.0000\n",
            "--------------------------------------------------------------------------------\n",
            "\n",
            "\n",
            "Found 6000 images and 6000 labels in /content/Data/test.csv with filter (80, 90)\n",
            "Estimating Quantization Matrix: 100% 6000/6000 [05:32<00:00, 18.02it/s]\n",
            "--------------------------------------------------------------------------------\n",
            "QF1 = 80 QF2 = 90\n",
            "--------------------------------------------------------------------------------\n",
            "Test average MSE: 24.6142\n",
            "Test average normalised MSE: 0.6284\n",
            "Test accuracy: 0.0025\n",
            "--------------------------------------------------------------------------------\n",
            "\n",
            "\n",
            "Found 6000 images and 6000 labels in /content/Data/test.csv with filter (85, 90)\n",
            "Estimating Quantization Matrix: 100% 6000/6000 [05:32<00:00, 18.04it/s]\n",
            "--------------------------------------------------------------------------------\n",
            "QF1 = 85 QF2 = 90\n",
            "--------------------------------------------------------------------------------\n",
            "Test average MSE: 16.2406\n",
            "Test average normalised MSE: 0.7527\n",
            "Test accuracy: 0.1925\n",
            "--------------------------------------------------------------------------------\n",
            "\n",
            "\n",
            "Found 6000 images and 6000 labels in /content/Data/test.csv with filter (90, 90)\n",
            "Estimating Quantization Matrix: 100% 6000/6000 [05:34<00:00, 17.96it/s]\n",
            "--------------------------------------------------------------------------------\n",
            "QF1 = 90 QF2 = 90\n",
            "--------------------------------------------------------------------------------\n",
            "Test average MSE: 12.3062\n",
            "Test average normalised MSE: 1.3200\n",
            "Test accuracy: 0.2527\n",
            "--------------------------------------------------------------------------------\n",
            "\n",
            "\n",
            "Found 6000 images and 6000 labels in /content/Data/test.csv with filter (95, 90)\n",
            "Estimating Quantization Matrix: 100% 6000/6000 [05:33<00:00, 18.01it/s]\n",
            "--------------------------------------------------------------------------------\n",
            "QF1 = 95 QF2 = 90\n",
            "--------------------------------------------------------------------------------\n",
            "Test average MSE: 10.1828\n",
            "Test average normalised MSE: 5.1811\n",
            "Test accuracy: 0.1001\n",
            "--------------------------------------------------------------------------------\n",
            "\n",
            "\n",
            "Found 6000 images and 6000 labels in /content/Data/test.csv with filter (98, 90)\n",
            "Estimating Quantization Matrix: 100% 6000/6000 [05:28<00:00, 18.28it/s]\n",
            "--------------------------------------------------------------------------------\n",
            "QF1 = 98 QF2 = 90\n",
            "--------------------------------------------------------------------------------\n",
            "Test average MSE: 9.0733\n",
            "Test average normalised MSE: 9.0733\n",
            "Test accuracy: 0.0845\n",
            "--------------------------------------------------------------------------------\n",
            "\n",
            "\n"
          ]
        }
      ]
    },
    {
      "cell_type": "code",
      "source": [
        ""
      ],
      "metadata": {
        "id": "DfP_FSRX4Wkj"
      },
      "execution_count": null,
      "outputs": []
    }
  ]
}