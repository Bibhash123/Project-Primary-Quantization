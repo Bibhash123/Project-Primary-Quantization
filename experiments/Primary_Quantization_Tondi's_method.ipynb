{
  "nbformat": 4,
  "nbformat_minor": 0,
  "metadata": {
    "colab": {
      "name": "Primary-Quantization: Tondi's method.ipynb",
      "provenance": [],
      "collapsed_sections": [],
      "authorship_tag": "ABX9TyMBgtT88tcWGZfJ7UOIWdn7",
      "include_colab_link": true
    },
    "kernelspec": {
      "name": "python3",
      "display_name": "Python 3"
    },
    "language_info": {
      "name": "python"
    }
  },
  "cells": [
    {
      "cell_type": "markdown",
      "metadata": {
        "id": "view-in-github",
        "colab_type": "text"
      },
      "source": [
        "<a href=\"https://colab.research.google.com/github/Bibhash123/Project-Primary-Quantization/blob/main/experiments/Primary_Quantization_Tondi's_method.ipynb\" target=\"_parent\"><img src=\"https://colab.research.google.com/assets/colab-badge.svg\" alt=\"Open In Colab\"/></a>"
      ]
    },
    {
      "cell_type": "code",
      "metadata": {
        "colab": {
          "base_uri": "https://localhost:8080/"
        },
        "id": "ybb3vj_lyMN7",
        "outputId": "6918d09c-aab6-4232-ad0f-47368e1535a5"
      },
      "source": [
        "!git clone https://github.com/andreacos/CnnJpegPrimaryQuantizationEstimation.git"
      ],
      "execution_count": null,
      "outputs": [
        {
          "output_type": "stream",
          "name": "stdout",
          "text": [
            "Cloning into 'CnnJpegPrimaryQuantizationEstimation'...\n",
            "remote: Enumerating objects: 459, done.\u001b[K\n",
            "remote: Counting objects: 100% (459/459), done.\u001b[K\n",
            "remote: Compressing objects: 100% (412/412), done.\u001b[K\n",
            "remote: Total 459 (delta 40), reused 430 (delta 26), pack-reused 0\u001b[K\n",
            "Receiving objects: 100% (459/459), 11.67 MiB | 16.99 MiB/s, done.\n",
            "Resolving deltas: 100% (40/40), done.\n"
          ]
        }
      ]
    },
    {
      "cell_type": "code",
      "metadata": {
        "colab": {
          "resources": {
            "http://localhost:8080/nbextensions/google.colab/files.js": {
              "data": "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",
              "ok": true,
              "headers": [
                [
                  "content-type",
                  "application/javascript"
                ]
              ],
              "status": 200,
              "status_text": ""
            }
          },
          "base_uri": "https://localhost:8080/",
          "height": 125
        },
        "id": "-2LGcHaO1BOK",
        "outputId": "5cb9c4b1-1f4d-401e-f828-93997745676a"
      },
      "source": [
        "from google.colab import files\n",
        "_ = files.upload()\n",
        "!mkdir ~/.kaggle/\n",
        "!cp kaggle.json ~/.kaggle/kaggle.json\n",
        "!chmod 600 ~/.kaggle/kaggle.json\n",
        "!pip install -q kaggle\n",
        "# !kaggle datasets download -d \"bibhash123/firstquantest\"\n",
        "# !unzip -q firstquantest.zip -d \"/content/Data/\"\n",
        "# !rm -r firstquantest.zip\n",
        "!kaggle datasets download -d \"bibhash123/tondidataset\"\n",
        "!unzip -q tondidataset.zip -d \"/content/Data/\"\n",
        "!rm -r tondidataset.zip"
      ],
      "execution_count": null,
      "outputs": [
        {
          "output_type": "display_data",
          "data": {
            "text/html": [
              "\n",
              "     <input type=\"file\" id=\"files-70cc98aa-613d-49ce-a27b-03e421f29559\" name=\"files[]\" multiple disabled\n",
              "        style=\"border:none\" />\n",
              "     <output id=\"result-70cc98aa-613d-49ce-a27b-03e421f29559\">\n",
              "      Upload widget is only available when the cell has been executed in the\n",
              "      current browser session. Please rerun this cell to enable.\n",
              "      </output>\n",
              "      <script src=\"/nbextensions/google.colab/files.js\"></script> "
            ],
            "text/plain": [
              "<IPython.core.display.HTML object>"
            ]
          },
          "metadata": {}
        },
        {
          "output_type": "stream",
          "name": "stdout",
          "text": [
            "Saving kaggle.json to kaggle.json\n",
            "Downloading tondidataset.zip to /content\n",
            " 99% 575M/581M [00:06<00:00, 126MB/s]\n",
            "100% 581M/581M [00:06<00:00, 93.8MB/s]\n"
          ]
        }
      ]
    },
    {
      "cell_type": "code",
      "metadata": {
        "id": "aSp7tY8Nic52"
      },
      "source": [
        "import os\n",
        "import gc\n",
        "import cv2\n",
        "import numpy as np\n",
        "import pandas as pd\n",
        "import seaborn as sns\n",
        "import tensorflow as tf\n",
        "from functools import partial\n",
        "import matplotlib.pyplot as plt\n",
        "from keras.models import load_model\n",
        "sns.set_style('darkgrid')"
      ],
      "execution_count": null,
      "outputs": []
    },
    {
      "cell_type": "code",
      "metadata": {
        "id": "SH-TJRP1g107"
      },
      "source": [
        "def preprocess_input(im_file, target_size, scale=255.):\n",
        "    \"\"\" \n",
        "        Read image and (eventually) scale data\n",
        "        Arguments:\n",
        "            im_file     : input image file\n",
        "            target_size : output size of the image (height, width)\n",
        "            scale       : pixel scaling value\n",
        "        Returns: The image\n",
        "    \"\"\"\n",
        "    file_bytes = tf.io.read_file(im_file)\n",
        "    img = tf.image.decode_png(file_bytes, channels = 0)\n",
        "    # Normalize and Resize\n",
        "    if img.shape != target_size:\n",
        "        img = tf.image.resize(img, target_size)\n",
        "    img = tf.cast(img/255.0, tf.float32)\n",
        "    return img"
      ],
      "execution_count": null,
      "outputs": []
    },
    {
      "cell_type": "code",
      "metadata": {
        "id": "mHBE0y-eiN6M"
      },
      "source": [
        "def string2Q(s, size=(8, 8), flatten=True):\n",
        "    \"\"\" Converts a comma separated string to a matrix.\n",
        "        Keyword arguments:\n",
        "        sq : input string\n",
        "        size : output matrix size\n",
        "    \"\"\"\n",
        "    if flatten:\n",
        "        return tf.strings.to_number(tf.strings.split(s,','),out_type=tf.int32)\n",
        "    else:\n",
        "        return tf.reshape(tf.strings.to_number(tf.strings.split(s,','),out_type=tf.int32),size)"
      ],
      "execution_count": null,
      "outputs": []
    },
    {
      "cell_type": "code",
      "metadata": {
        "id": "xujiOwgSxoCy"
      },
      "source": [
        "def get_label(im_label):\n",
        "    return string2Q(im_label)[:15]"
      ],
      "execution_count": null,
      "outputs": []
    },
    {
      "cell_type": "code",
      "metadata": {
        "colab": {
          "base_uri": "https://localhost:8080/",
          "height": 206
        },
        "id": "1eLGwt4e3YLC",
        "outputId": "6b18248d-8f0e-496d-fae8-b6a2f8f25c83"
      },
      "source": [
        "files = pd.read_csv(\"/content/Data/test.csv\",sep=\";\",header=None,\n",
        "                         names=['idx', 'filenames', 'quality1', 'quality2', 'software', 'labels',\n",
        "                                'shift_r', 'shift_c']\n",
        "                         )\n",
        "\n",
        "files.head()"
      ],
      "execution_count": null,
      "outputs": [
        {
          "output_type": "execute_result",
          "data": {
            "text/html": [
              "<div>\n",
              "<style scoped>\n",
              "    .dataframe tbody tr th:only-of-type {\n",
              "        vertical-align: middle;\n",
              "    }\n",
              "\n",
              "    .dataframe tbody tr th {\n",
              "        vertical-align: top;\n",
              "    }\n",
              "\n",
              "    .dataframe thead th {\n",
              "        text-align: right;\n",
              "    }\n",
              "</style>\n",
              "<table border=\"1\" class=\"dataframe\">\n",
              "  <thead>\n",
              "    <tr style=\"text-align: right;\">\n",
              "      <th></th>\n",
              "      <th>idx</th>\n",
              "      <th>filenames</th>\n",
              "      <th>quality1</th>\n",
              "      <th>quality2</th>\n",
              "      <th>software</th>\n",
              "      <th>labels</th>\n",
              "      <th>shift_r</th>\n",
              "      <th>shift_c</th>\n",
              "    </tr>\n",
              "  </thead>\n",
              "  <tbody>\n",
              "    <tr>\n",
              "      <th>0</th>\n",
              "      <td>0</td>\n",
              "      <td>/content/Data/Test/95-90/00000000_r12c5f70bt.T...</td>\n",
              "      <td>95</td>\n",
              "      <td>90</td>\n",
              "      <td>python-opencv</td>\n",
              "      <td>2,1,1,1,1,1,2,1,1,1,2,2,2,2,2,4,3,2,2,2,2,5,4,...</td>\n",
              "      <td>5</td>\n",
              "      <td>4</td>\n",
              "    </tr>\n",
              "    <tr>\n",
              "      <th>1</th>\n",
              "      <td>1</td>\n",
              "      <td>/content/Data/Test/95-90/00000001_r12c5f70bt.T...</td>\n",
              "      <td>95</td>\n",
              "      <td>90</td>\n",
              "      <td>python-opencv</td>\n",
              "      <td>2,1,1,1,1,1,2,1,1,1,2,2,2,2,2,4,3,2,2,2,2,5,4,...</td>\n",
              "      <td>5</td>\n",
              "      <td>4</td>\n",
              "    </tr>\n",
              "    <tr>\n",
              "      <th>2</th>\n",
              "      <td>2</td>\n",
              "      <td>/content/Data/Test/95-90/00000002_r12c5f70bt.T...</td>\n",
              "      <td>95</td>\n",
              "      <td>90</td>\n",
              "      <td>python-opencv</td>\n",
              "      <td>2,1,1,1,1,1,2,1,1,1,2,2,2,2,2,4,3,2,2,2,2,5,4,...</td>\n",
              "      <td>5</td>\n",
              "      <td>4</td>\n",
              "    </tr>\n",
              "    <tr>\n",
              "      <th>3</th>\n",
              "      <td>3</td>\n",
              "      <td>/content/Data/Test/95-90/00000003_r12c5f70bt.T...</td>\n",
              "      <td>95</td>\n",
              "      <td>90</td>\n",
              "      <td>python-opencv</td>\n",
              "      <td>2,1,1,1,1,1,2,1,1,1,2,2,2,2,2,4,3,2,2,2,2,5,4,...</td>\n",
              "      <td>5</td>\n",
              "      <td>4</td>\n",
              "    </tr>\n",
              "    <tr>\n",
              "      <th>4</th>\n",
              "      <td>4</td>\n",
              "      <td>/content/Data/Test/95-90/00000004_r12c5f70bt.T...</td>\n",
              "      <td>95</td>\n",
              "      <td>90</td>\n",
              "      <td>python-opencv</td>\n",
              "      <td>2,1,1,1,1,1,2,1,1,1,2,2,2,2,2,4,3,2,2,2,2,5,4,...</td>\n",
              "      <td>5</td>\n",
              "      <td>4</td>\n",
              "    </tr>\n",
              "  </tbody>\n",
              "</table>\n",
              "</div>"
            ],
            "text/plain": [
              "   idx                                          filenames  ...  shift_r  shift_c\n",
              "0    0  /content/Data/Test/95-90/00000000_r12c5f70bt.T...  ...        5        4\n",
              "1    1  /content/Data/Test/95-90/00000001_r12c5f70bt.T...  ...        5        4\n",
              "2    2  /content/Data/Test/95-90/00000002_r12c5f70bt.T...  ...        5        4\n",
              "3    3  /content/Data/Test/95-90/00000003_r12c5f70bt.T...  ...        5        4\n",
              "4    4  /content/Data/Test/95-90/00000004_r12c5f70bt.T...  ...        5        4\n",
              "\n",
              "[5 rows x 8 columns]"
            ]
          },
          "metadata": {},
          "execution_count": 14
        }
      ]
    },
    {
      "cell_type": "code",
      "metadata": {
        "colab": {
          "base_uri": "https://localhost:8080/"
        },
        "id": "m5r6y4992H2r",
        "outputId": "17f5eced-a898-46c0-e870-55f329fc6738"
      },
      "source": [
        "files['quality1'].unique()"
      ],
      "execution_count": null,
      "outputs": [
        {
          "output_type": "execute_result",
          "data": {
            "text/plain": [
              "array([95, 90, 75, 60, 70, 80, 85, 98, 65])"
            ]
          },
          "metadata": {},
          "execution_count": 15
        }
      ]
    },
    {
      "cell_type": "code",
      "metadata": {
        "id": "Xq6yMqfo4lRT"
      },
      "source": [
        "AUTOTUNE = tf.data.experimental.AUTOTUNE\n",
        "\n",
        "def build_decoder(is_labelled):\n",
        "  def if_labelled(path,label,target_size):\n",
        "    image = preprocess_input(path,target_size)\n",
        "    label = get_label(label)\n",
        "    return image,label\n",
        "  \n",
        "  return if_labelled if is_labelled else preprocess_input\n",
        "\n",
        "def create_dataset(df, batch_size = 32, is_labelled = False, repeat = False, shuffle = False, batch=False, cache=False):\n",
        "    decode_fn = build_decoder(is_labelled)\n",
        "    \n",
        "    # Create Dataset\n",
        "    if is_labelled:\n",
        "        dataset = tf.data.Dataset.from_tensor_slices((df['filenames'].values,df[\"labels\"].values))\n",
        "    else:\n",
        "        dataset = tf.data.Dataset.from_tensor_slices((df['filenames'].values))\n",
        "\n",
        "    dataset = dataset.map(partial(decode_fn,target_size=(64,64)), num_parallel_calls = AUTOTUNE)\n",
        "    dataset = dataset.cache(\"\") if cache else dataset\n",
        "    dataset = dataset.repeat() if repeat else dataset\n",
        "    dataset = dataset.shuffle(1024, reshuffle_each_iteration = True) if shuffle else dataset\n",
        "    dataset = dataset.batch(batch_size,drop_remainder=True) if batch else dataset\n",
        "    dataset = dataset.prefetch(AUTOTUNE)\n",
        "    return dataset"
      ],
      "execution_count": null,
      "outputs": []
    },
    {
      "cell_type": "code",
      "metadata": {
        "id": "XdlNO-JBXgYI"
      },
      "source": [
        "def getX(X,Y):\n",
        "  return X\n",
        "def getY(X,Y):\n",
        "  return Y"
      ],
      "execution_count": null,
      "outputs": []
    },
    {
      "cell_type": "code",
      "metadata": {
        "colab": {
          "base_uri": "https://localhost:8080/"
        },
        "id": "f1Yy2R2gi2Kp",
        "outputId": "da5c1c83-bd10-457e-d59f-77dc02b5c26c"
      },
      "source": [
        "test_set = create_dataset(files, \n",
        "                          batch_size = 32, is_labelled = True, repeat = False, shuffle = False, batch=True,cache=False)\n",
        "Y = test_set.map(getY)\n",
        "model = load_model('/content/CnnJpegPrimaryQuantizationEstimation/models/pre_trained/DNN90_60LOG.h5')\n",
        "model.compile(loss='mse',optimizer='adam')"
      ],
      "execution_count": null,
      "outputs": [
        {
          "output_type": "stream",
          "name": "stdout",
          "text": [
            "WARNING:tensorflow:No training configuration found in the save file, so the model was *not* compiled. Compile it manually.\n"
          ]
        }
      ]
    },
    {
      "cell_type": "code",
      "metadata": {
        "id": "vv_XoD7Al3t8",
        "colab": {
          "base_uri": "https://localhost:8080/"
        },
        "outputId": "c81e4e92-5977-4dc2-b7c9-31792d2fc5e5"
      },
      "source": [
        "pred = model.predict(test_set)\n",
        "pred.shape"
      ],
      "execution_count": null,
      "outputs": [
        {
          "output_type": "execute_result",
          "data": {
            "text/plain": [
              "(53984, 15)"
            ]
          },
          "metadata": {},
          "execution_count": 19
        }
      ]
    },
    {
      "cell_type": "code",
      "metadata": {
        "id": "zZcCskaCthVa",
        "colab": {
          "base_uri": "https://localhost:8080/"
        },
        "outputId": "7e458817-a7ed-4991-bb97-b7530ee76b05"
      },
      "source": [
        "y = np.array(list(Y.unbatch().as_numpy_iterator()))\n",
        "y.shape"
      ],
      "execution_count": null,
      "outputs": [
        {
          "output_type": "execute_result",
          "data": {
            "text/plain": [
              "(53984, 15)"
            ]
          },
          "metadata": {},
          "execution_count": 20
        }
      ]
    },
    {
      "cell_type": "code",
      "metadata": {
        "colab": {
          "base_uri": "https://localhost:8080/"
        },
        "id": "Rj9I9vYI2Wy7",
        "outputId": "ae546665-2b8f-43bb-f30d-a881e6a226ef"
      },
      "source": [
        "print(\"Accuracy = {:.4f}\".format(np.count_nonzero(np.round(pred)==y)/(15*y.shape[0])))\n",
        "print(\"RMSE = {:.4f}\".format(np.sum(np.square(y - pred)) / (y.shape[0]*15)))"
      ],
      "execution_count": null,
      "outputs": [
        {
          "output_type": "stream",
          "name": "stdout",
          "text": [
            "Accuracy = 0.7036\n",
            "RMSE = 0.7278\n"
          ]
        }
      ]
    },
    {
      "cell_type": "code",
      "metadata": {
        "colab": {
          "base_uri": "https://localhost:8080/",
          "height": 1000
        },
        "id": "DkEUxhLFw9GZ",
        "outputId": "33076e93-69d1-481b-b2c3-06c6eac6fbae"
      },
      "source": [
        "mses = []\n",
        "accs = []\n",
        "QF1 = [60, 65, 70, 75, 80, 85, 90, 95, 98]\n",
        "for qf1 in QF1:\n",
        "  test_sample = files[(files[\"quality2\"]==90)&(files[\"quality1\"]==qf1)]\n",
        "  test_set = create_dataset(test_sample, \n",
        "                            batch_size = 32, is_labelled = True, repeat = False, shuffle = False, batch=True,cache=False)\n",
        "  Y = test_set.map(getY)\n",
        "  model = load_model('/content/CnnJpegPrimaryQuantizationEstimation/models/pre_trained/DNN90_60LOG.h5')\n",
        "  model.compile(loss='mse',optimizer='adam')\n",
        "\n",
        "  pred = model.predict(test_set)\n",
        "  y = np.array(list(Y.unbatch().as_numpy_iterator()))\n",
        "\n",
        "  mse = np.sum(np.square(y - pred)) / (y.shape[0]*15)\n",
        "  acc = np.count_nonzero(np.round(pred)==y)/(15*y.shape[0])\n",
        "  mses.append(mse)\n",
        "  accs.append(acc)\n",
        "\n",
        "  print(\"-\"*80)\n",
        "  print(\"Quality Factors QF1,QF2: {},{}\".format(qf1,90))\n",
        "  print(\"Accuracy: \",acc)\n",
        "  print(\"MSE: \",mse)\n",
        "  print(\"-\"*80)\n",
        "\n",
        "fig,ax = plt.subplots(1,2,figsize=(12,6))\n",
        "sns.lineplot(x=QF1,y=mses,ax = ax[0])\n",
        "ax[0].set_title('RMSE Score vs QF2');\n",
        "sns.lineplot(x=QF1,y=accs,ax = ax[1])\n",
        "ax[1].set_title('Acc Score vs QF2');"
      ],
      "execution_count": null,
      "outputs": [
        {
          "output_type": "stream",
          "name": "stdout",
          "text": [
            "WARNING:tensorflow:No training configuration found in the save file, so the model was *not* compiled. Compile it manually.\n",
            "--------------------------------------------------------------------------------\n",
            "Quality Factors QF1,QF2: 60,90\n",
            "Accuracy:  0.5585004456327985\n",
            "MSE:  1.5452328604808738\n",
            "--------------------------------------------------------------------------------\n",
            "WARNING:tensorflow:No training configuration found in the save file, so the model was *not* compiled. Compile it manually.\n",
            "--------------------------------------------------------------------------------\n",
            "Quality Factors QF1,QF2: 65,90\n",
            "Accuracy:  0.5547125668449198\n",
            "MSE:  1.1545590257111824\n",
            "--------------------------------------------------------------------------------\n",
            "WARNING:tensorflow:No training configuration found in the save file, so the model was *not* compiled. Compile it manually.\n",
            "--------------------------------------------------------------------------------\n",
            "Quality Factors QF1,QF2: 70,90\n",
            "Accuracy:  0.610204991087344\n",
            "MSE:  0.7084496817596582\n",
            "--------------------------------------------------------------------------------\n",
            "WARNING:tensorflow:No training configuration found in the save file, so the model was *not* compiled. Compile it manually.\n",
            "--------------------------------------------------------------------------------\n",
            "Quality Factors QF1,QF2: 75,90\n",
            "Accuracy:  0.7324420677361854\n",
            "MSE:  0.4360028186987518\n",
            "--------------------------------------------------------------------------------\n",
            "WARNING:tensorflow:No training configuration found in the save file, so the model was *not* compiled. Compile it manually.\n",
            "--------------------------------------------------------------------------------\n",
            "Quality Factors QF1,QF2: 80,90\n",
            "Accuracy:  0.7914995543672014\n",
            "MSE:  0.3927145533814294\n",
            "--------------------------------------------------------------------------------\n",
            "WARNING:tensorflow:No training configuration found in the save file, so the model was *not* compiled. Compile it manually.\n",
            "--------------------------------------------------------------------------------\n",
            "Quality Factors QF1,QF2: 85,90\n",
            "Accuracy:  0.8147504456327985\n",
            "MSE:  0.35314354786258606\n",
            "--------------------------------------------------------------------------------\n",
            "WARNING:tensorflow:No training configuration found in the save file, so the model was *not* compiled. Compile it manually.\n",
            "--------------------------------------------------------------------------------\n",
            "Quality Factors QF1,QF2: 90,90\n",
            "Accuracy:  0.7241310160427807\n",
            "MSE:  0.5806832864640562\n",
            "--------------------------------------------------------------------------------\n",
            "WARNING:tensorflow:No training configuration found in the save file, so the model was *not* compiled. Compile it manually.\n",
            "--------------------------------------------------------------------------------\n",
            "Quality Factors QF1,QF2: 95,90\n",
            "Accuracy:  0.747225935828877\n",
            "MSE:  0.6881222518537747\n",
            "--------------------------------------------------------------------------------\n",
            "WARNING:tensorflow:No training configuration found in the save file, so the model was *not* compiled. Compile it manually.\n",
            "--------------------------------------------------------------------------------\n",
            "Quality Factors QF1,QF2: 98,90\n",
            "Accuracy:  0.7959447415329768\n",
            "MSE:  0.7043381028478836\n",
            "--------------------------------------------------------------------------------\n"
          ]
        },
        {
          "output_type": "display_data",
          "data": {
            "image/png": "[encoded data removed]",
            "text/plain": [
              "<Figure size 864x432 with 2 Axes>"
            ]
          },
          "metadata": {}
        }
      ]
    },
    {
      "cell_type": "code",
      "metadata": {
        "colab": {
          "base_uri": "https://localhost:8080/",
          "height": 390
        },
        "id": "-z9Tf8ktw_LL",
        "outputId": "801c9cbd-1fcc-4e3a-d7f8-ccd45fb7751c"
      },
      "source": [
        "rmse = []\n",
        "acc = []\n",
        "for nc in range(1,15,1):\n",
        "  rmse.append(np.sum(np.square(y[:,:nc] - pred[:,:nc])) / (y.shape[0]*nc))\n",
        "  acc.append(np.count_nonzero(np.round(pred[:,:nc])==y[:,:nc])/(nc*y.shape[0]))\n",
        "fig,ax = plt.subplots(1,2,figsize=(12,6))\n",
        "sns.lineplot(x=range(1,15,1),y=rmse,ax = ax[0])\n",
        "ax[0].set_title('RMSE Score vs Nc');\n",
        "sns.lineplot(x=range(1,15,1),y=acc,ax = ax[1])\n",
        "ax[1].set_title('Acc Score vs Nc');"
      ],
      "execution_count": null,
      "outputs": [
        {
          "output_type": "display_data",
          "data": {
            "image/png": "[encoded data removed]",
            "text/plain": [
              "<Figure size 864x432 with 2 Axes>"
            ]
          },
          "metadata": {}
        }
      ]
    },
    {
      "cell_type": "code",
      "metadata": {
        "colab": {
          "base_uri": "https://localhost:8080/",
          "height": 331
        },
        "id": "R61SPd8fgn45",
        "outputId": "7b270b1c-eb9f-46e7-ef48-707cf9b9c0ed"
      },
      "source": [
        "pd.DataFrame.from_dict({'QF1':QF1,'RMSE':rmse,'Accuracy':acc})"
      ],
      "execution_count": null,
      "outputs": [
        {
          "output_type": "execute_result",
          "data": {
            "text/html": [
              "<div>\n",
              "<style scoped>\n",
              "    .dataframe tbody tr th:only-of-type {\n",
              "        vertical-align: middle;\n",
              "    }\n",
              "\n",
              "    .dataframe tbody tr th {\n",
              "        vertical-align: top;\n",
              "    }\n",
              "\n",
              "    .dataframe thead th {\n",
              "        text-align: right;\n",
              "    }\n",
              "</style>\n",
              "<table border=\"1\" class=\"dataframe\">\n",
              "  <thead>\n",
              "    <tr style=\"text-align: right;\">\n",
              "      <th></th>\n",
              "      <th>QF1</th>\n",
              "      <th>RMSE</th>\n",
              "      <th>Accuracy</th>\n",
              "    </tr>\n",
              "  </thead>\n",
              "  <tbody>\n",
              "    <tr>\n",
              "      <th>0</th>\n",
              "      <td>60</td>\n",
              "      <td>339.405214</td>\n",
              "      <td>0.153621</td>\n",
              "    </tr>\n",
              "    <tr>\n",
              "      <th>1</th>\n",
              "      <td>65</td>\n",
              "      <td>259.617519</td>\n",
              "      <td>0.132018</td>\n",
              "    </tr>\n",
              "    <tr>\n",
              "      <th>2</th>\n",
              "      <td>70</td>\n",
              "      <td>190.953436</td>\n",
              "      <td>0.135228</td>\n",
              "    </tr>\n",
              "    <tr>\n",
              "      <th>3</th>\n",
              "      <td>75</td>\n",
              "      <td>128.359831</td>\n",
              "      <td>0.126437</td>\n",
              "    </tr>\n",
              "    <tr>\n",
              "      <th>4</th>\n",
              "      <td>80</td>\n",
              "      <td>78.038996</td>\n",
              "      <td>0.242841</td>\n",
              "    </tr>\n",
              "    <tr>\n",
              "      <th>5</th>\n",
              "      <td>85</td>\n",
              "      <td>43.756362</td>\n",
              "      <td>0.243410</td>\n",
              "    </tr>\n",
              "    <tr>\n",
              "      <th>6</th>\n",
              "      <td>90</td>\n",
              "      <td>21.417436</td>\n",
              "      <td>0.233551</td>\n",
              "    </tr>\n",
              "    <tr>\n",
              "      <th>7</th>\n",
              "      <td>95</td>\n",
              "      <td>5.333797</td>\n",
              "      <td>0.351220</td>\n",
              "    </tr>\n",
              "    <tr>\n",
              "      <th>8</th>\n",
              "      <td>98</td>\n",
              "      <td>0.876562</td>\n",
              "      <td>0.607598</td>\n",
              "    </tr>\n",
              "  </tbody>\n",
              "</table>\n",
              "</div>"
            ],
            "text/plain": [
              "   QF1        RMSE  Accuracy\n",
              "0   60  339.405214  0.153621\n",
              "1   65  259.617519  0.132018\n",
              "2   70  190.953436  0.135228\n",
              "3   75  128.359831  0.126437\n",
              "4   80   78.038996  0.242841\n",
              "5   85   43.756362  0.243410\n",
              "6   90   21.417436  0.233551\n",
              "7   95    5.333797  0.351220\n",
              "8   98    0.876562  0.607598"
            ]
          },
          "metadata": {},
          "execution_count": 21
        }
      ]
    },
    {
      "cell_type": "code",
      "metadata": {
        "colab": {
          "base_uri": "https://localhost:8080/",
          "height": 513
        },
        "id": "CRZPssHA8_Fa",
        "outputId": "05079760-cef1-4e5d-9edf-5972a20d2686"
      },
      "source": [
        "rmse = []\n",
        "acc = []\n",
        "for qf2 in files[\"QF2\"].unique():\n",
        "  test_sample = files[files[\"QF2\"]==qf2]\n",
        "  test_set = create_dataset(test_sample, \n",
        "                            batch_size = 32, is_labelled = True, repeat = False, shuffle = False, batch=True,cache=False)\n",
        "  Y = test_set.map(getY)\n",
        "  model = load_model('/content/CnnJpegPrimaryQuantizationEstimation/models/pre_trained/DNN90_60LOG.h5')\n",
        "  model.compile(loss='mse',optimizer='adam')\n",
        "\n",
        "  pred = model.predict(test_set)\n",
        "  y = np.array(list(Y.unbatch().as_numpy_iterator()))\n",
        "\n",
        "  rmse.append(np.sum(np.square(y - pred)) / (y.shape[0]*15))\n",
        "  acc.append(np.count_nonzero(np.round(pred)==y)/(15*y.shape[0]))\n",
        "\n",
        "fig,ax = plt.subplots(1,2,figsize=(12,6))\n",
        "sns.lineplot(x=files[\"QF2\"].unique(),y=rmse,ax = ax[0])\n",
        "ax[0].set_title('RMSE Score vs QF2');\n",
        "sns.lineplot(x=files[\"QF2\"].unique(),y=acc,ax = ax[1])\n",
        "ax[1].set_title('Acc Score vs QF2');"
      ],
      "execution_count": null,
      "outputs": [
        {
          "output_type": "stream",
          "name": "stdout",
          "text": [
            "WARNING:tensorflow:No training configuration found in the save file, so the model was *not* compiled. Compile it manually.\n",
            "WARNING:tensorflow:No training configuration found in the save file, so the model was *not* compiled. Compile it manually.\n",
            "WARNING:tensorflow:No training configuration found in the save file, so the model was *not* compiled. Compile it manually.\n",
            "WARNING:tensorflow:No training configuration found in the save file, so the model was *not* compiled. Compile it manually.\n",
            "WARNING:tensorflow:No training configuration found in the save file, so the model was *not* compiled. Compile it manually.\n",
            "WARNING:tensorflow:No training configuration found in the save file, so the model was *not* compiled. Compile it manually.\n"
          ]
        },
        {
          "output_type": "display_data",
          "data": {
            "image/png": "[encoded data removed]",
            "text/plain": [
              "<Figure size 864x432 with 2 Axes>"
            ]
          },
          "metadata": {}
        }
      ]
    },
    {
      "cell_type": "code",
      "metadata": {
        "colab": {
          "base_uri": "https://localhost:8080/"
        },
        "id": "6i2Ex1ZUzzUT",
        "outputId": "4bf2d61a-2f3c-42ca-be0c-4ad2c8fc2d9e"
      },
      "source": [
        "np.round(pred)"
      ],
      "execution_count": null,
      "outputs": [
        {
          "output_type": "execute_result",
          "data": {
            "text/plain": [
              "array([[14., 10., 11., ..., 14., 17., 22.],\n",
              "       [14., 10., 11., ..., 14., 17., 23.],\n",
              "       [14., 10., 11., ..., 14., 17., 22.],\n",
              "       ...,\n",
              "       [ 2.,  1.,  1., ...,  2.,  2.,  2.],\n",
              "       [ 2.,  1.,  1., ...,  2.,  3.,  3.],\n",
              "       [ 3.,  2.,  2., ...,  3.,  4.,  4.]], dtype=float32)"
            ]
          },
          "metadata": {},
          "execution_count": 44
        }
      ]
    },
    {
      "cell_type": "code",
      "metadata": {
        "colab": {
          "base_uri": "https://localhost:8080/"
        },
        "id": "pWSn0CJK3eQ2",
        "outputId": "27ef3ab6-76f4-46a4-ad99-ded62a7463a8"
      },
      "source": [
        "y"
      ],
      "execution_count": null,
      "outputs": [
        {
          "output_type": "execute_result",
          "data": {
            "text/plain": [
              "array([[16, 11, 10, ..., 26, 58, 60],\n",
              "       [16, 11, 10, ..., 26, 58, 60],\n",
              "       [16, 11, 10, ..., 26, 58, 60],\n",
              "       ...,\n",
              "       [ 1,  1,  1, ...,  1,  1,  1],\n",
              "       [ 1,  1,  1, ...,  1,  1,  1],\n",
              "       [ 1,  1,  1, ...,  1,  1,  1]], dtype=int32)"
            ]
          },
          "metadata": {},
          "execution_count": 45
        }
      ]
    },
    {
      "cell_type": "code",
      "metadata": {
        "colab": {
          "base_uri": "https://localhost:8080/"
        },
        "id": "BGiT66CBUN8U",
        "outputId": "1630d487-eecf-4ef0-b690-2b8ec5e5d1af"
      },
      "source": [
        "!nvidia-smi"
      ],
      "execution_count": null,
      "outputs": [
        {
          "output_type": "stream",
          "name": "stdout",
          "text": [
            "Sun Dec  5 18:02:21 2021       \n",
            "+-----------------------------------------------------------------------------+\n",
            "| NVIDIA-SMI 495.44       Driver Version: 460.32.03    CUDA Version: 11.2     |\n",
            "|-------------------------------+----------------------+----------------------+\n",
            "| GPU  Name        Persistence-M| Bus-Id        Disp.A | Volatile Uncorr. ECC |\n",
            "| Fan  Temp  Perf  Pwr:Usage/Cap|         Memory-Usage | GPU-Util  Compute M. |\n",
            "|                               |                      |               MIG M. |\n",
            "|===============================+======================+======================|\n",
            "|   0  Tesla K80           Off  | 00000000:00:04.0 Off |                    0 |\n",
            "| N/A   66C    P0    74W / 149W |   2329MiB / 11441MiB |      0%      Default |\n",
            "|                               |                      |                  N/A |\n",
            "+-------------------------------+----------------------+----------------------+\n",
            "                                                                               \n",
            "+-----------------------------------------------------------------------------+\n",
            "| Processes:                                                                  |\n",
            "|  GPU   GI   CI        PID   Type   Process name                  GPU Memory |\n",
            "|        ID   ID                                                   Usage      |\n",
            "|=============================================================================|\n",
            "|  No running processes found                                                 |\n",
            "+-----------------------------------------------------------------------------+\n"
          ]
        }
      ]
    },
    {
      "cell_type": "code",
      "metadata": {
        "id": "GDPWFQ9MESJC"
      },
      "source": [
        "import pandas as pd\n",
        "import matplotlib.pyplot as plt\n",
        "data = pd.read_csv(\"/content/Benchmarking.csv\")"
      ],
      "execution_count": null,
      "outputs": []
    },
    {
      "cell_type": "code",
      "source": [
        "data['Proposed Method'] = data['Final Result']"
      ],
      "metadata": {
        "id": "M83lpXtWzMuC"
      },
      "execution_count": null,
      "outputs": []
    },
    {
      "cell_type": "code",
      "source": [
        "methods = ['CNN','C-CNN','Two Head Densenet','Cross Attn Net','Proposed Method']\n",
        "color = ['green','red','blue','magenta','orange']\n",
        "qfs = [60,65,70,75,80,85,90,95,98]\n",
        "plt.figure(figsize = (12,6))\n",
        "for idx,method in enumerate(methods):\n",
        "  plt.plot(qfs, data[method],c=color[idx],label=method)\n",
        "plt.legend()\n",
        "plt.savefig('benchmarking.pdf')\n",
        "plt.show()"
      ],
      "metadata": {
        "id": "myrM-JcgGh9q",
        "colab": {
          "base_uri": "https://localhost:8080/",
          "height": 374
        },
        "outputId": "10dc781a-54c1-47e2-e761-4af37df8b7d3"
      },
      "execution_count": null,
      "outputs": [
        {
          "output_type": "display_data",
          "data": {
            "text/plain": [
              "<Figure size 864x432 with 1 Axes>"
            ],
            "image/png": "[encoded data removed]"
          },
          "metadata": {
            "needs_background": "light"
          }
        }
      ]
    },
    {
      "cell_type": "code",
      "source": [
        "methods = ['Niu et al','C-CNN','Two Head Densenet','Cross Attn Net','Proposed Method']\n",
        "color = ['green','red','blue','magenta','orange']\n",
        "qfs = [60,65,70,75,80,85,90,95,98]\n",
        "plt.figure(figsize = (12,6))\n",
        "for idx,method in enumerate(methods):\n",
        "  plt.plot(qfs, data[method],c=color[idx],label=method)\n",
        "plt.legend()\n",
        "plt.savefig('benchmarking.pdf')\n",
        "plt.show()"
      ],
      "metadata": {
        "id": "VSkmLfcTzu_0"
      },
      "execution_count": null,
      "outputs": []
    },
    {
      "cell_type": "code",
      "source": [
        "p = pd.read_csv(\"performance.csv\")\n",
        "p"
      ],
      "metadata": {
        "colab": {
          "base_uri": "https://localhost:8080/",
          "height": 332
        },
        "id": "gAd5nKnOB-Vq",
        "outputId": "68b9e7a5-fb9c-46bb-9fd9-2e432633ce4d"
      },
      "execution_count": null,
      "outputs": [
        {
          "output_type": "execute_result",
          "data": {
            "text/plain": [
              "   Niu et al  Bianchi & Piva  Proposed\n",
              "0   0.558622           0.375  0.753389\n",
              "1   0.555100           0.395  0.567178\n",
              "2   0.610744           0.370  0.594356\n",
              "3   0.732622           0.295  0.578456\n",
              "4   0.791900           0.215  0.650567\n",
              "5   0.814822           0.115  0.634122\n",
              "6   0.724700           0.040  0.646156\n",
              "7   0.747667           0.090  0.616633\n",
              "8   0.796411           0.040  0.732378"
            ],
            "text/html": [
              "\n",
              "  <div id=\"df-030180d3-ea62-4277-ada6-bc7d00485648\">\n",
              "    <div class=\"colab-df-container\">\n",
              "      <div>\n",
              "<style scoped>\n",
              "    .dataframe tbody tr th:only-of-type {\n",
              "        vertical-align: middle;\n",
              "    }\n",
              "\n",
              "    .dataframe tbody tr th {\n",
              "        vertical-align: top;\n",
              "    }\n",
              "\n",
              "    .dataframe thead th {\n",
              "        text-align: right;\n",
              "    }\n",
              "</style>\n",
              "<table border=\"1\" class=\"dataframe\">\n",
              "  <thead>\n",
              "    <tr style=\"text-align: right;\">\n",
              "      <th></th>\n",
              "      <th>Niu et al</th>\n",
              "      <th>Bianchi &amp; Piva</th>\n",
              "      <th>Proposed</th>\n",
              "    </tr>\n",
              "  </thead>\n",
              "  <tbody>\n",
              "    <tr>\n",
              "      <th>0</th>\n",
              "      <td>0.558622</td>\n",
              "      <td>0.375</td>\n",
              "      <td>0.753389</td>\n",
              "    </tr>\n",
              "    <tr>\n",
              "      <th>1</th>\n",
              "      <td>0.555100</td>\n",
              "      <td>0.395</td>\n",
              "      <td>0.567178</td>\n",
              "    </tr>\n",
              "    <tr>\n",
              "      <th>2</th>\n",
              "      <td>0.610744</td>\n",
              "      <td>0.370</td>\n",
              "      <td>0.594356</td>\n",
              "    </tr>\n",
              "    <tr>\n",
              "      <th>3</th>\n",
              "      <td>0.732622</td>\n",
              "      <td>0.295</td>\n",
              "      <td>0.578456</td>\n",
              "    </tr>\n",
              "    <tr>\n",
              "      <th>4</th>\n",
              "      <td>0.791900</td>\n",
              "      <td>0.215</td>\n",
              "      <td>0.650567</td>\n",
              "    </tr>\n",
              "    <tr>\n",
              "      <th>5</th>\n",
              "      <td>0.814822</td>\n",
              "      <td>0.115</td>\n",
              "      <td>0.634122</td>\n",
              "    </tr>\n",
              "    <tr>\n",
              "      <th>6</th>\n",
              "      <td>0.724700</td>\n",
              "      <td>0.040</td>\n",
              "      <td>0.646156</td>\n",
              "    </tr>\n",
              "    <tr>\n",
              "      <th>7</th>\n",
              "      <td>0.747667</td>\n",
              "      <td>0.090</td>\n",
              "      <td>0.616633</td>\n",
              "    </tr>\n",
              "    <tr>\n",
              "      <th>8</th>\n",
              "      <td>0.796411</td>\n",
              "      <td>0.040</td>\n",
              "      <td>0.732378</td>\n",
              "    </tr>\n",
              "  </tbody>\n",
              "</table>\n",
              "</div>\n",
              "      <button class=\"colab-df-convert\" onclick=\"convertToInteractive('df-030180d3-ea62-4277-ada6-bc7d00485648')\"\n",
              "              title=\"Convert this dataframe to an interactive table.\"\n",
              "              style=\"display:none;\">\n",
              "        \n",
              "  <svg xmlns=\"http://www.w3.org/2000/svg\" height=\"24px\"viewBox=\"0 0 24 24\"\n",
              "       width=\"24px\">\n",
              "    <path d=\"M0 0h24v24H0V0z\" fill=\"none\"/>\n",
              "    <path d=\"M18.56 5.44l.94 2.06.94-2.06 2.06-.94-2.06-.94-.94-2.06-.94 2.06-2.06.94zm-11 1L8.5 8.5l.94-2.06 2.06-.94-2.06-.94L8.5 2.5l-.94 2.06-2.06.94zm10 10l.94 2.06.94-2.06 2.06-.94-2.06-.94-.94-2.06-.94 2.06-2.06.94z\"/><path d=\"M17.41 7.96l-1.37-1.37c-.4-.4-.92-.59-1.43-.59-.52 0-1.04.2-1.43.59L10.3 9.45l-7.72 7.72c-.78.78-.78 2.05 0 2.83L4 21.41c.39.39.9.59 1.41.59.51 0 1.02-.2 1.41-.59l7.78-7.78 2.81-2.81c.8-.78.8-2.07 0-2.86zM5.41 20L4 18.59l7.72-7.72 1.47 1.35L5.41 20z\"/>\n",
              "  </svg>\n",
              "      </button>\n",
              "      \n",
              "  <style>\n",
              "    .colab-df-container {\n",
              "      display:flex;\n",
              "      flex-wrap:wrap;\n",
              "      gap: 12px;\n",
              "    }\n",
              "\n",
              "    .colab-df-convert {\n",
              "      background-color: #E8F0FE;\n",
              "      border: none;\n",
              "      border-radius: 50%;\n",
              "      cursor: pointer;\n",
              "      display: none;\n",
              "      fill: #1967D2;\n",
              "      height: 32px;\n",
              "      padding: 0 0 0 0;\n",
              "      width: 32px;\n",
              "    }\n",
              "\n",
              "    .colab-df-convert:hover {\n",
              "      background-color: #E2EBFA;\n",
              "      box-shadow: 0px 1px 2px rgba(60, 64, 67, 0.3), 0px 1px 3px 1px rgba(60, 64, 67, 0.15);\n",
              "      fill: #174EA6;\n",
              "    }\n",
              "\n",
              "    [theme=dark] .colab-df-convert {\n",
              "      background-color: #3B4455;\n",
              "      fill: #D2E3FC;\n",
              "    }\n",
              "\n",
              "    [theme=dark] .colab-df-convert:hover {\n",
              "      background-color: #434B5C;\n",
              "      box-shadow: 0px 1px 3px 1px rgba(0, 0, 0, 0.15);\n",
              "      filter: drop-shadow(0px 1px 2px rgba(0, 0, 0, 0.3));\n",
              "      fill: #FFFFFF;\n",
              "    }\n",
              "  </style>\n",
              "\n",
              "      <script>\n",
              "        const buttonEl =\n",
              "          document.querySelector('#df-030180d3-ea62-4277-ada6-bc7d00485648 button.colab-df-convert');\n",
              "        buttonEl.style.display =\n",
              "          google.colab.kernel.accessAllowed ? 'block' : 'none';\n",
              "\n",
              "        async function convertToInteractive(key) {\n",
              "          const element = document.querySelector('#df-030180d3-ea62-4277-ada6-bc7d00485648');\n",
              "          const dataTable =\n",
              "            await google.colab.kernel.invokeFunction('convertToInteractive',\n",
              "                                                     [key], {});\n",
              "          if (!dataTable) return;\n",
              "\n",
              "          const docLinkHtml = 'Like what you see? Visit the ' +\n",
              "            '<a target=\"_blank\" href=https://colab.research.google.com/notebooks/data_table.ipynb>data table notebook</a>'\n",
              "            + ' to learn more about interactive tables.';\n",
              "          element.innerHTML = '';\n",
              "          dataTable['output_type'] = 'display_data';\n",
              "          await google.colab.output.renderOutput(dataTable, element);\n",
              "          const docLink = document.createElement('div');\n",
              "          docLink.innerHTML = docLinkHtml;\n",
              "          element.appendChild(docLink);\n",
              "        }\n",
              "      </script>\n",
              "    </div>\n",
              "  </div>\n",
              "  "
            ]
          },
          "metadata": {},
          "execution_count": 9
        }
      ]
    },
    {
      "cell_type": "code",
      "source": [
        "methods = ['Niu et al','Bianchi & Piva','Proposed']\n",
        "color = ['green','red','blue']\n",
        "qfs = [60,65,70,75,80,85,90,95,98]\n",
        "plt.figure(figsize = (12,6))\n",
        "for idx,method in enumerate(methods):\n",
        "  plt.plot(qfs, p[method],c=color[idx],label=method)\n",
        "plt.legend()\n",
        "plt.savefig('benchmarking.pdf')\n",
        "plt.show()"
      ],
      "metadata": {
        "colab": {
          "base_uri": "https://localhost:8080/",
          "height": 374
        },
        "id": "HsK2ZaewCBZ8",
        "outputId": "24a72452-afbb-48a3-f4e8-8ce1ccd6cc28"
      },
      "execution_count": null,
      "outputs": [
        {
          "output_type": "display_data",
          "data": {
            "text/plain": [
              "<Figure size 864x432 with 1 Axes>"
            ],
            "image/png": "[encoded data removed]"
          },
          "metadata": {
            "needs_background": "light"
          }
        }
      ]
    },
    {
      "cell_type": "code",
      "source": [
        ""
      ],
      "metadata": {
        "id": "eqjfezi5CQZq"
      },
      "execution_count": null,
      "outputs": []
    }
  ]
}