{
  "nbformat": 4,
  "nbformat_minor": 0,
  "metadata": {
    "colab": {
      "name": "Tondi's method Dataset.ipynb",
      "provenance": [],
      "authorship_tag": "ABX9TyMT6pOH+52rX5qrSVvnQUgc",
      "include_colab_link": true
    },
    "kernelspec": {
      "name": "python3",
      "display_name": "Python 3"
    },
    "language_info": {
      "name": "python"
    }
  },
  "cells": [
    {
      "cell_type": "markdown",
      "metadata": {
        "id": "view-in-github",
        "colab_type": "text"
      },
      "source": [
        "<a href=\"https://colab.research.google.com/github/Bibhash123/Project-Primary-Quantization/blob/main/Dataset/Tondi's_method_Dataset.ipynb\" target=\"_parent\"><img src=\"https://colab.research.google.com/assets/colab-badge.svg\" alt=\"Open In Colab\"/></a>"
      ]
    },
    {
      "cell_type": "code",
      "source": [
        "!git clone https://github.com/andreacos/CnnJpegPrimaryQuantizationEstimation.git"
      ],
      "metadata": {
        "colab": {
          "base_uri": "https://localhost:8080/"
        },
        "id": "6A85RtQbtW8V",
        "outputId": "a31400bc-b577-45ad-f14d-f4801b84dadf"
      },
      "execution_count": null,
      "outputs": [
        {
          "output_type": "stream",
          "name": "stdout",
          "text": [
            "Cloning into 'CnnJpegPrimaryQuantizationEstimation'...\n",
            "remote: Enumerating objects: 459, done.\u001b[K\n",
            "remote: Counting objects: 100% (459/459), done.\u001b[K\n",
            "remote: Compressing objects: 100% (412/412), done.\u001b[K\n",
            "remote: Total 459 (delta 40), reused 430 (delta 26), pack-reused 0\u001b[K\n",
            "Receiving objects: 100% (459/459), 11.67 MiB | 14.41 MiB/s, done.\n",
            "Resolving deltas: 100% (40/40), done.\n"
          ]
        }
      ]
    },
    {
      "cell_type": "code",
      "execution_count": null,
      "metadata": {
        "colab": {
          "resources": {
            "http://localhost:8080/nbextensions/google.colab/files.js": {
              "data": "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",
              "ok": true,
              "headers": [
                [
                  "content-type",
                  "application/javascript"
                ]
              ],
              "status": 200,
              "status_text": ""
            }
          },
          "base_uri": "https://localhost:8080/",
          "height": 125
        },
        "id": "99mnXMqYtMUR",
        "outputId": "511f90c8-bbe4-4752-8e6a-017c17e1b107"
      },
      "outputs": [
        {
          "output_type": "display_data",
          "data": {
            "text/html": [
              "\n",
              "     <input type=\"file\" id=\"files-bd2539b7-a5b1-4acd-b211-e72e1b55b03c\" name=\"files[]\" multiple disabled\n",
              "        style=\"border:none\" />\n",
              "     <output id=\"result-bd2539b7-a5b1-4acd-b211-e72e1b55b03c\">\n",
              "      Upload widget is only available when the cell has been executed in the\n",
              "      current browser session. Please rerun this cell to enable.\n",
              "      </output>\n",
              "      <script src=\"/nbextensions/google.colab/files.js\"></script> "
            ],
            "text/plain": [
              "<IPython.core.display.HTML object>"
            ]
          },
          "metadata": {}
        },
        {
          "output_type": "stream",
          "name": "stdout",
          "text": [
            "Saving kaggle.json to kaggle.json\n",
            "Downloading raisetiff-uncompressed-images-dataset-x300.zip to /content\n",
            "100% 6.34G/6.34G [02:15<00:00, 26.3MB/s]\n",
            "100% 6.34G/6.34G [02:15<00:00, 50.3MB/s]\n"
          ]
        }
      ],
      "source": [
        "from google.colab import files\n",
        "_ = files.upload()\n",
        "!mkdir ~/.kaggle/\n",
        "!cp kaggle.json ~/.kaggle/kaggle.json\n",
        "!chmod 600 ~/.kaggle/kaggle.json\n",
        "!pip install -q kaggle\n",
        "!kaggle datasets download -d \"mrutyunjaybiswal/raisetiff-uncompressed-images-dataset-x300\"\n",
        "!unzip -q /content/raisetiff-uncompressed-images-dataset-x300.zip -d \"/content/UncompressedData/\"\n",
        "!rm -r /content/raisetiff-uncompressed-images-dataset-x300.zip"
      ]
    },
    {
      "cell_type": "code",
      "source": [
        "!pip install virtualenv"
      ],
      "metadata": {
        "colab": {
          "base_uri": "https://localhost:8080/"
        },
        "id": "7oxbs_qnFKjq",
        "outputId": "d147edb3-b6da-4d50-81d6-95d1bfcf14b5"
      },
      "execution_count": null,
      "outputs": [
        {
          "output_type": "stream",
          "name": "stdout",
          "text": [
            "Collecting virtualenv\n",
            "  Downloading virtualenv-20.10.0-py2.py3-none-any.whl (5.6 MB)\n",
            "\u001b[K     |████████████████████████████████| 5.6 MB 5.1 MB/s \n",
            "\u001b[?25hCollecting backports.entry-points-selectable>=1.0.4\n",
            "  Downloading backports.entry_points_selectable-1.1.1-py2.py3-none-any.whl (6.2 kB)\n",
            "Requirement already satisfied: six<2,>=1.9.0 in /usr/local/lib/python3.7/dist-packages (from virtualenv) (1.15.0)\n",
            "Requirement already satisfied: filelock<4,>=3.2 in /usr/local/lib/python3.7/dist-packages (from virtualenv) (3.4.0)\n",
            "Requirement already satisfied: importlib-metadata>=0.12 in /usr/local/lib/python3.7/dist-packages (from virtualenv) (4.8.2)\n",
            "Collecting distlib<1,>=0.3.1\n",
            "  Downloading distlib-0.3.4-py2.py3-none-any.whl (461 kB)\n",
            "\u001b[K     |████████████████████████████████| 461 kB 38.8 MB/s \n",
            "\u001b[?25hCollecting platformdirs<3,>=2\n",
            "  Downloading platformdirs-2.4.0-py3-none-any.whl (14 kB)\n",
            "Requirement already satisfied: zipp>=0.5 in /usr/local/lib/python3.7/dist-packages (from importlib-metadata>=0.12->virtualenv) (3.6.0)\n",
            "Requirement already satisfied: typing-extensions>=3.6.4 in /usr/local/lib/python3.7/dist-packages (from importlib-metadata>=0.12->virtualenv) (3.10.0.2)\n",
            "Installing collected packages: platformdirs, distlib, backports.entry-points-selectable, virtualenv\n",
            "Successfully installed backports.entry-points-selectable-1.1.1 distlib-0.3.4 platformdirs-2.4.0 virtualenv-20.10.0\n"
          ]
        }
      ]
    },
    {
      "cell_type": "code",
      "source": [
        "!python -m virtualenv myvenv\n",
        "!source myvenv/bin/activate"
      ],
      "metadata": {
        "colab": {
          "base_uri": "https://localhost:8080/"
        },
        "id": "sidzosy8taZ-",
        "outputId": "7a7020d7-b412-4729-f160-fcc1ad20037b"
      },
      "execution_count": null,
      "outputs": [
        {
          "output_type": "stream",
          "name": "stdout",
          "text": [
            "created virtual environment CPython3.7.12.final.0-64 in 909ms\n",
            "  creator CPython3Posix(dest=/content/CnnJpegPrimaryQuantizationEstimation/myvenv, clear=False, no_vcs_ignore=False, global=False)\n",
            "  seeder FromAppData(download=False, pip=bundle, setuptools=bundle, wheel=bundle, via=copy, app_data_dir=/root/.local/share/virtualenv)\n",
            "    added seed packages: pip==21.3.1, setuptools==58.3.0, wheel==0.37.0\n",
            "  activators BashActivator,CShellActivator,FishActivator,NushellActivator,PowerShellActivator,PythonActivator\n"
          ]
        }
      ]
    },
    {
      "cell_type": "code",
      "source": [
        "import sys\n",
        "import glob\n",
        "import os\n",
        "sys.path.append(\"/content/CnnJpegPrimaryQuantizationEstimation/\")\n",
        "os.chdir(\"/content/CnnJpegPrimaryQuantizationEstimation/\")"
      ],
      "metadata": {
        "id": "2Gwcn2W_tesq"
      },
      "execution_count": null,
      "outputs": []
    },
    {
      "cell_type": "code",
      "source": [
        "!pip install -r \"resources/requirements.txt\""
      ],
      "metadata": {
        "id": "CQID_t5ktgOw"
      },
      "execution_count": null,
      "outputs": []
    },
    {
      "cell_type": "code",
      "source": [
        "!apt-get install libmagickwand-dev"
      ],
      "metadata": {
        "id": "Z0vmAt7dJUp-"
      },
      "execution_count": null,
      "outputs": []
    },
    {
      "cell_type": "code",
      "source": [
        "!mkdir \"/content/Data\"\n",
        "!mkdir \"/content/Data/Train/\"\n",
        "!mkdir \"/content/Data/Test/\""
      ],
      "metadata": {
        "id": "-kGmtS9Ftg0Y"
      },
      "execution_count": null,
      "outputs": []
    },
    {
      "cell_type": "code",
      "source": [
        "!cp -r \"/content/UncompressedData/val_tiff/.\" \"/content/UncompressedData/train_tiff/\"\n",
        "for f in glob.glob(os.path.join(\"/content/UncompressedData/test_tiff/\",\"*.TIF\"))[:40]:\n",
        "  !mv $f \"/content/UncompressedData/train_tiff/\"\n",
        "!rm -r \"/content/UncompressedData/val_tiff/\""
      ],
      "metadata": {
        "id": "PgSmVV0vXLhw"
      },
      "execution_count": null,
      "outputs": []
    },
    {
      "cell_type": "code",
      "source": [
        "with open(\"/content/Data/train.txt\",'a') as f:\n",
        "  for img in glob.glob(os.path.join(\"/content/UncompressedData/train_tiff/\",\"*.TIF\")):\n",
        "    f.write(img)\n",
        "    f.write(\"\\n\")\n",
        "\n",
        "with open(\"/content/Data/test.txt\",'a') as f:\n",
        "  for img in glob.glob(os.path.join(\"/content/UncompressedData/test_tiff/\",\"*.TIF\")):\n",
        "    f.write(img)\n",
        "    f.write(\"\\n\")"
      ],
      "metadata": {
        "id": "u6D0ssAqXWki"
      },
      "execution_count": null,
      "outputs": []
    },
    {
      "cell_type": "code",
      "source": [
        "!python /content/CnnJpegPrimaryQuantizationEstimation/datasets.py"
      ],
      "metadata": {
        "colab": {
          "base_uri": "https://localhost:8080/"
        },
        "id": "J7eKcjBNJE1c",
        "outputId": "a795f1c1-2171-47f7-d89b-0a3c9c26e4f7"
      },
      "execution_count": null,
      "outputs": [
        {
          "output_type": "stream",
          "name": "stdout",
          "text": [
            "Dataset JPEG qf1 = 60, qf2 = 90\n",
            "5000 blocks out of 400000.0 so far\n",
            "10000 blocks out of 400000.0 so far\n",
            "15000 blocks out of 400000.0 so far\n",
            "20000 blocks out of 400000.0 so far\n",
            "5000 blocks out of 40000.0 so far\n",
            "Dataset JPEG qf1 = 65, qf2 = 90\n",
            "5000 blocks out of 400000.0 so far\n",
            "10000 blocks out of 400000.0 so far\n",
            "15000 blocks out of 400000.0 so far\n",
            "20000 blocks out of 400000.0 so far\n",
            "5000 blocks out of 40000.0 so far\n",
            "Dataset JPEG qf1 = 70, qf2 = 90\n",
            "5000 blocks out of 400000.0 so far\n",
            "10000 blocks out of 400000.0 so far\n",
            "15000 blocks out of 400000.0 so far\n",
            "20000 blocks out of 400000.0 so far\n",
            "5000 blocks out of 40000.0 so far\n",
            "Dataset JPEG qf1 = 75, qf2 = 90\n",
            "5000 blocks out of 400000.0 so far\n",
            "10000 blocks out of 400000.0 so far\n",
            "15000 blocks out of 400000.0 so far\n",
            "20000 blocks out of 400000.0 so far\n",
            "5000 blocks out of 40000.0 so far\n",
            "Dataset JPEG qf1 = 80, qf2 = 90\n",
            "5000 blocks out of 400000.0 so far\n",
            "10000 blocks out of 400000.0 so far\n",
            "15000 blocks out of 400000.0 so far\n",
            "20000 blocks out of 400000.0 so far\n",
            "5000 blocks out of 40000.0 so far\n",
            "Dataset JPEG qf1 = 85, qf2 = 90\n",
            "5000 blocks out of 400000.0 so far\n",
            "10000 blocks out of 400000.0 so far\n",
            "15000 blocks out of 400000.0 so far\n",
            "20000 blocks out of 400000.0 so far\n",
            "5000 blocks out of 40000.0 so far\n",
            "Dataset JPEG qf1 = 90, qf2 = 90\n",
            "5000 blocks out of 400000.0 so far\n",
            "10000 blocks out of 400000.0 so far\n",
            "15000 blocks out of 400000.0 so far\n",
            "20000 blocks out of 400000.0 so far\n",
            "5000 blocks out of 40000.0 so far\n",
            "Dataset JPEG qf1 = 95, qf2 = 90\n",
            "5000 blocks out of 400000.0 so far\n",
            "10000 blocks out of 400000.0 so far\n",
            "15000 blocks out of 400000.0 so far\n",
            "20000 blocks out of 400000.0 so far\n",
            "5000 blocks out of 40000.0 so far\n",
            "Dataset JPEG qf1 = 98, qf2 = 90\n",
            "5000 blocks out of 400000.0 so far\n",
            "10000 blocks out of 400000.0 so far\n",
            "15000 blocks out of 400000.0 so far\n",
            "20000 blocks out of 400000.0 so far\n",
            "5000 blocks out of 40000.0 so far\n",
            "95-90\n",
            "90-90\n",
            "75-90\n",
            "60-90\n",
            "70-90\n",
            "80-90\n",
            "85-90\n",
            "98-90\n",
            "65-90\n",
            "Saving data frame (216000, 7) to /content/Data/train.csv\n",
            "95-90\n",
            "90-90\n",
            "75-90\n",
            "60-90\n",
            "70-90\n",
            "80-90\n",
            "85-90\n",
            "98-90\n",
            "65-90\n",
            "Saving data frame (54000, 7) to /content/Data/test_files.csv\n"
          ]
        }
      ]
    },
    {
      "cell_type": "code",
      "source": [
        "import pandas as pd\n",
        "train = pd.read_csv(\"/content/Data/train.csv\",sep=\";\",header=None)\n",
        "test = pd.read_csv('/content/Data/test_files.csv',sep = \";\",header=None)"
      ],
      "metadata": {
        "id": "k9iMJq9IJK-S"
      },
      "execution_count": null,
      "outputs": []
    },
    {
      "cell_type": "code",
      "source": [
        "train.shape"
      ],
      "metadata": {
        "colab": {
          "base_uri": "https://localhost:8080/"
        },
        "id": "R8uCPnhmT6lP",
        "outputId": "6b37fd6a-c928-4bad-e2e1-a1496d53b97e"
      },
      "execution_count": null,
      "outputs": [
        {
          "output_type": "execute_result",
          "data": {
            "text/plain": [
              "(216000, 8)"
            ]
          },
          "metadata": {},
          "execution_count": 40
        }
      ]
    },
    {
      "cell_type": "code",
      "source": [
        "test.shape"
      ],
      "metadata": {
        "colab": {
          "base_uri": "https://localhost:8080/"
        },
        "id": "Xo7TZgCzUEXm",
        "outputId": "fd5685ae-40a0-4ab4-affe-1d369ee0a5ee"
      },
      "execution_count": null,
      "outputs": [
        {
          "output_type": "execute_result",
          "data": {
            "text/plain": [
              "(54000, 8)"
            ]
          },
          "metadata": {},
          "execution_count": 41
        }
      ]
    },
    {
      "cell_type": "code",
      "source": [
        "train"
      ],
      "metadata": {
        "colab": {
          "base_uri": "https://localhost:8080/",
          "height": 597
        },
        "id": "b5_uL-6OUFgW",
        "outputId": "6ca73909-96b2-4397-ca4d-8d6d25fddca2"
      },
      "execution_count": null,
      "outputs": [
        {
          "output_type": "execute_result",
          "data": {
            "text/html": [
              "<div>\n",
              "<style scoped>\n",
              "    .dataframe tbody tr th:only-of-type {\n",
              "        vertical-align: middle;\n",
              "    }\n",
              "\n",
              "    .dataframe tbody tr th {\n",
              "        vertical-align: top;\n",
              "    }\n",
              "\n",
              "    .dataframe thead th {\n",
              "        text-align: right;\n",
              "    }\n",
              "</style>\n",
              "<table border=\"1\" class=\"dataframe\">\n",
              "  <thead>\n",
              "    <tr style=\"text-align: right;\">\n",
              "      <th></th>\n",
              "      <th>0</th>\n",
              "      <th>1</th>\n",
              "      <th>2</th>\n",
              "      <th>3</th>\n",
              "      <th>4</th>\n",
              "      <th>5</th>\n",
              "      <th>6</th>\n",
              "      <th>7</th>\n",
              "    </tr>\n",
              "  </thead>\n",
              "  <tbody>\n",
              "    <tr>\n",
              "      <th>0</th>\n",
              "      <td>0</td>\n",
              "      <td>/content/Data/Train/95-90/00000000_rcb192c6at....</td>\n",
              "      <td>95</td>\n",
              "      <td>90</td>\n",
              "      <td>python-opencv</td>\n",
              "      <td>2,1,1,1,1,1,2,1,1,1,2,2,2,2,2,4,3,2,2,2,2,5,4,...</td>\n",
              "      <td>3</td>\n",
              "      <td>2</td>\n",
              "    </tr>\n",
              "    <tr>\n",
              "      <th>1</th>\n",
              "      <td>1</td>\n",
              "      <td>/content/Data/Train/95-90/00000001_rcb192c6at....</td>\n",
              "      <td>95</td>\n",
              "      <td>90</td>\n",
              "      <td>python-opencv</td>\n",
              "      <td>2,1,1,1,1,1,2,1,1,1,2,2,2,2,2,4,3,2,2,2,2,5,4,...</td>\n",
              "      <td>3</td>\n",
              "      <td>2</td>\n",
              "    </tr>\n",
              "    <tr>\n",
              "      <th>2</th>\n",
              "      <td>2</td>\n",
              "      <td>/content/Data/Train/95-90/00000002_rcb192c6at....</td>\n",
              "      <td>95</td>\n",
              "      <td>90</td>\n",
              "      <td>python-opencv</td>\n",
              "      <td>2,1,1,1,1,1,2,1,1,1,2,2,2,2,2,4,3,2,2,2,2,5,4,...</td>\n",
              "      <td>3</td>\n",
              "      <td>2</td>\n",
              "    </tr>\n",
              "    <tr>\n",
              "      <th>3</th>\n",
              "      <td>3</td>\n",
              "      <td>/content/Data/Train/95-90/00000003_rcb192c6at....</td>\n",
              "      <td>95</td>\n",
              "      <td>90</td>\n",
              "      <td>python-opencv</td>\n",
              "      <td>2,1,1,1,1,1,2,1,1,1,2,2,2,2,2,4,3,2,2,2,2,5,4,...</td>\n",
              "      <td>3</td>\n",
              "      <td>2</td>\n",
              "    </tr>\n",
              "    <tr>\n",
              "      <th>4</th>\n",
              "      <td>4</td>\n",
              "      <td>/content/Data/Train/95-90/00000004_rcb192c6at....</td>\n",
              "      <td>95</td>\n",
              "      <td>90</td>\n",
              "      <td>python-opencv</td>\n",
              "      <td>2,1,1,1,1,1,2,1,1,1,2,2,2,2,2,4,3,2,2,2,2,5,4,...</td>\n",
              "      <td>3</td>\n",
              "      <td>2</td>\n",
              "    </tr>\n",
              "    <tr>\n",
              "      <th>...</th>\n",
              "      <td>...</td>\n",
              "      <td>...</td>\n",
              "      <td>...</td>\n",
              "      <td>...</td>\n",
              "      <td>...</td>\n",
              "      <td>...</td>\n",
              "      <td>...</td>\n",
              "      <td>...</td>\n",
              "    </tr>\n",
              "    <tr>\n",
              "      <th>215995</th>\n",
              "      <td>23995</td>\n",
              "      <td>/content/Data/Train/65-90/00023995_r712dd497t....</td>\n",
              "      <td>65</td>\n",
              "      <td>90</td>\n",
              "      <td>python-opencv</td>\n",
              "      <td>11,8,8,10,8,7,11,10,9,10,13,12,11,13,17,28,18,...</td>\n",
              "      <td>0</td>\n",
              "      <td>1</td>\n",
              "    </tr>\n",
              "    <tr>\n",
              "      <th>215996</th>\n",
              "      <td>23996</td>\n",
              "      <td>/content/Data/Train/65-90/00023996_r712dd497t....</td>\n",
              "      <td>65</td>\n",
              "      <td>90</td>\n",
              "      <td>python-opencv</td>\n",
              "      <td>11,8,8,10,8,7,11,10,9,10,13,12,11,13,17,28,18,...</td>\n",
              "      <td>0</td>\n",
              "      <td>1</td>\n",
              "    </tr>\n",
              "    <tr>\n",
              "      <th>215997</th>\n",
              "      <td>23997</td>\n",
              "      <td>/content/Data/Train/65-90/00023997_r712dd497t....</td>\n",
              "      <td>65</td>\n",
              "      <td>90</td>\n",
              "      <td>python-opencv</td>\n",
              "      <td>11,8,8,10,8,7,11,10,9,10,13,12,11,13,17,28,18,...</td>\n",
              "      <td>0</td>\n",
              "      <td>1</td>\n",
              "    </tr>\n",
              "    <tr>\n",
              "      <th>215998</th>\n",
              "      <td>23998</td>\n",
              "      <td>/content/Data/Train/65-90/00023998_r712dd497t....</td>\n",
              "      <td>65</td>\n",
              "      <td>90</td>\n",
              "      <td>python-opencv</td>\n",
              "      <td>11,8,8,10,8,7,11,10,9,10,13,12,11,13,17,28,18,...</td>\n",
              "      <td>0</td>\n",
              "      <td>1</td>\n",
              "    </tr>\n",
              "    <tr>\n",
              "      <th>215999</th>\n",
              "      <td>23999</td>\n",
              "      <td>/content/Data/Train/65-90/00023999_r712dd497t....</td>\n",
              "      <td>65</td>\n",
              "      <td>90</td>\n",
              "      <td>python-opencv</td>\n",
              "      <td>11,8,8,10,8,7,11,10,9,10,13,12,11,13,17,28,18,...</td>\n",
              "      <td>0</td>\n",
              "      <td>1</td>\n",
              "    </tr>\n",
              "  </tbody>\n",
              "</table>\n",
              "<p>216000 rows × 8 columns</p>\n",
              "</div>"
            ],
            "text/plain": [
              "            0                                                  1  ...  6  7\n",
              "0           0  /content/Data/Train/95-90/00000000_rcb192c6at....  ...  3  2\n",
              "1           1  /content/Data/Train/95-90/00000001_rcb192c6at....  ...  3  2\n",
              "2           2  /content/Data/Train/95-90/00000002_rcb192c6at....  ...  3  2\n",
              "3           3  /content/Data/Train/95-90/00000003_rcb192c6at....  ...  3  2\n",
              "4           4  /content/Data/Train/95-90/00000004_rcb192c6at....  ...  3  2\n",
              "...       ...                                                ...  ... .. ..\n",
              "215995  23995  /content/Data/Train/65-90/00023995_r712dd497t....  ...  0  1\n",
              "215996  23996  /content/Data/Train/65-90/00023996_r712dd497t....  ...  0  1\n",
              "215997  23997  /content/Data/Train/65-90/00023997_r712dd497t....  ...  0  1\n",
              "215998  23998  /content/Data/Train/65-90/00023998_r712dd497t....  ...  0  1\n",
              "215999  23999  /content/Data/Train/65-90/00023999_r712dd497t....  ...  0  1\n",
              "\n",
              "[216000 rows x 8 columns]"
            ]
          },
          "metadata": {},
          "execution_count": 42
        }
      ]
    },
    {
      "cell_type": "code",
      "source": [
        "test"
      ],
      "metadata": {
        "colab": {
          "base_uri": "https://localhost:8080/",
          "height": 597
        },
        "id": "UTmITXodUMGI",
        "outputId": "91ecd605-20ec-4d48-c997-c86729915ea1"
      },
      "execution_count": null,
      "outputs": [
        {
          "output_type": "execute_result",
          "data": {
            "text/html": [
              "<div>\n",
              "<style scoped>\n",
              "    .dataframe tbody tr th:only-of-type {\n",
              "        vertical-align: middle;\n",
              "    }\n",
              "\n",
              "    .dataframe tbody tr th {\n",
              "        vertical-align: top;\n",
              "    }\n",
              "\n",
              "    .dataframe thead th {\n",
              "        text-align: right;\n",
              "    }\n",
              "</style>\n",
              "<table border=\"1\" class=\"dataframe\">\n",
              "  <thead>\n",
              "    <tr style=\"text-align: right;\">\n",
              "      <th></th>\n",
              "      <th>0</th>\n",
              "      <th>1</th>\n",
              "      <th>2</th>\n",
              "      <th>3</th>\n",
              "      <th>4</th>\n",
              "      <th>5</th>\n",
              "      <th>6</th>\n",
              "      <th>7</th>\n",
              "    </tr>\n",
              "  </thead>\n",
              "  <tbody>\n",
              "    <tr>\n",
              "      <th>0</th>\n",
              "      <td>0</td>\n",
              "      <td>/content/Data/Test/95-90/00000000_r12c5f70bt.T...</td>\n",
              "      <td>95</td>\n",
              "      <td>90</td>\n",
              "      <td>python-opencv</td>\n",
              "      <td>2,1,1,1,1,1,2,1,1,1,2,2,2,2,2,4,3,2,2,2,2,5,4,...</td>\n",
              "      <td>5</td>\n",
              "      <td>4</td>\n",
              "    </tr>\n",
              "    <tr>\n",
              "      <th>1</th>\n",
              "      <td>1</td>\n",
              "      <td>/content/Data/Test/95-90/00000001_r12c5f70bt.T...</td>\n",
              "      <td>95</td>\n",
              "      <td>90</td>\n",
              "      <td>python-opencv</td>\n",
              "      <td>2,1,1,1,1,1,2,1,1,1,2,2,2,2,2,4,3,2,2,2,2,5,4,...</td>\n",
              "      <td>5</td>\n",
              "      <td>4</td>\n",
              "    </tr>\n",
              "    <tr>\n",
              "      <th>2</th>\n",
              "      <td>2</td>\n",
              "      <td>/content/Data/Test/95-90/00000002_r12c5f70bt.T...</td>\n",
              "      <td>95</td>\n",
              "      <td>90</td>\n",
              "      <td>python-opencv</td>\n",
              "      <td>2,1,1,1,1,1,2,1,1,1,2,2,2,2,2,4,3,2,2,2,2,5,4,...</td>\n",
              "      <td>5</td>\n",
              "      <td>4</td>\n",
              "    </tr>\n",
              "    <tr>\n",
              "      <th>3</th>\n",
              "      <td>3</td>\n",
              "      <td>/content/Data/Test/95-90/00000003_r12c5f70bt.T...</td>\n",
              "      <td>95</td>\n",
              "      <td>90</td>\n",
              "      <td>python-opencv</td>\n",
              "      <td>2,1,1,1,1,1,2,1,1,1,2,2,2,2,2,4,3,2,2,2,2,5,4,...</td>\n",
              "      <td>5</td>\n",
              "      <td>4</td>\n",
              "    </tr>\n",
              "    <tr>\n",
              "      <th>4</th>\n",
              "      <td>4</td>\n",
              "      <td>/content/Data/Test/95-90/00000004_r12c5f70bt.T...</td>\n",
              "      <td>95</td>\n",
              "      <td>90</td>\n",
              "      <td>python-opencv</td>\n",
              "      <td>2,1,1,1,1,1,2,1,1,1,2,2,2,2,2,4,3,2,2,2,2,5,4,...</td>\n",
              "      <td>5</td>\n",
              "      <td>4</td>\n",
              "    </tr>\n",
              "    <tr>\n",
              "      <th>...</th>\n",
              "      <td>...</td>\n",
              "      <td>...</td>\n",
              "      <td>...</td>\n",
              "      <td>...</td>\n",
              "      <td>...</td>\n",
              "      <td>...</td>\n",
              "      <td>...</td>\n",
              "      <td>...</td>\n",
              "    </tr>\n",
              "    <tr>\n",
              "      <th>53995</th>\n",
              "      <td>5995</td>\n",
              "      <td>/content/Data/Test/65-90/00005995_r5ed2b0ect.T...</td>\n",
              "      <td>65</td>\n",
              "      <td>90</td>\n",
              "      <td>python-opencv</td>\n",
              "      <td>11,8,8,10,8,7,11,10,9,10,13,12,11,13,17,28,18,...</td>\n",
              "      <td>2</td>\n",
              "      <td>0</td>\n",
              "    </tr>\n",
              "    <tr>\n",
              "      <th>53996</th>\n",
              "      <td>5996</td>\n",
              "      <td>/content/Data/Test/65-90/00005996_r5ed2b0ect.T...</td>\n",
              "      <td>65</td>\n",
              "      <td>90</td>\n",
              "      <td>python-opencv</td>\n",
              "      <td>11,8,8,10,8,7,11,10,9,10,13,12,11,13,17,28,18,...</td>\n",
              "      <td>2</td>\n",
              "      <td>0</td>\n",
              "    </tr>\n",
              "    <tr>\n",
              "      <th>53997</th>\n",
              "      <td>5997</td>\n",
              "      <td>/content/Data/Test/65-90/00005997_r5ed2b0ect.T...</td>\n",
              "      <td>65</td>\n",
              "      <td>90</td>\n",
              "      <td>python-opencv</td>\n",
              "      <td>11,8,8,10,8,7,11,10,9,10,13,12,11,13,17,28,18,...</td>\n",
              "      <td>2</td>\n",
              "      <td>0</td>\n",
              "    </tr>\n",
              "    <tr>\n",
              "      <th>53998</th>\n",
              "      <td>5998</td>\n",
              "      <td>/content/Data/Test/65-90/00005998_r5ed2b0ect.T...</td>\n",
              "      <td>65</td>\n",
              "      <td>90</td>\n",
              "      <td>python-opencv</td>\n",
              "      <td>11,8,8,10,8,7,11,10,9,10,13,12,11,13,17,28,18,...</td>\n",
              "      <td>2</td>\n",
              "      <td>0</td>\n",
              "    </tr>\n",
              "    <tr>\n",
              "      <th>53999</th>\n",
              "      <td>5999</td>\n",
              "      <td>/content/Data/Test/65-90/00005999_r5ed2b0ect.T...</td>\n",
              "      <td>65</td>\n",
              "      <td>90</td>\n",
              "      <td>python-opencv</td>\n",
              "      <td>11,8,8,10,8,7,11,10,9,10,13,12,11,13,17,28,18,...</td>\n",
              "      <td>2</td>\n",
              "      <td>0</td>\n",
              "    </tr>\n",
              "  </tbody>\n",
              "</table>\n",
              "<p>54000 rows × 8 columns</p>\n",
              "</div>"
            ],
            "text/plain": [
              "          0                                                  1  ...  6  7\n",
              "0         0  /content/Data/Test/95-90/00000000_r12c5f70bt.T...  ...  5  4\n",
              "1         1  /content/Data/Test/95-90/00000001_r12c5f70bt.T...  ...  5  4\n",
              "2         2  /content/Data/Test/95-90/00000002_r12c5f70bt.T...  ...  5  4\n",
              "3         3  /content/Data/Test/95-90/00000003_r12c5f70bt.T...  ...  5  4\n",
              "4         4  /content/Data/Test/95-90/00000004_r12c5f70bt.T...  ...  5  4\n",
              "...     ...                                                ...  ... .. ..\n",
              "53995  5995  /content/Data/Test/65-90/00005995_r5ed2b0ect.T...  ...  2  0\n",
              "53996  5996  /content/Data/Test/65-90/00005996_r5ed2b0ect.T...  ...  2  0\n",
              "53997  5997  /content/Data/Test/65-90/00005997_r5ed2b0ect.T...  ...  2  0\n",
              "53998  5998  /content/Data/Test/65-90/00005998_r5ed2b0ect.T...  ...  2  0\n",
              "53999  5999  /content/Data/Test/65-90/00005999_r5ed2b0ect.T...  ...  2  0\n",
              "\n",
              "[54000 rows x 8 columns]"
            ]
          },
          "metadata": {},
          "execution_count": 43
        }
      ]
    },
    {
      "cell_type": "code",
      "source": [
        "!kaggle datasets init -p \"/content/Data\""
      ],
      "metadata": {
        "colab": {
          "base_uri": "https://localhost:8080/"
        },
        "id": "LDAVqdQYUkNv",
        "outputId": "a79609a9-934c-444a-d794-c6e3783466c2"
      },
      "execution_count": null,
      "outputs": [
        {
          "output_type": "stream",
          "name": "stdout",
          "text": [
            "Data package template written to: /content/Data/dataset-metadata.json\n"
          ]
        }
      ]
    },
    {
      "cell_type": "code",
      "source": [
        "!kaggle datasets create -p \"/content/Data\" --dir-mode tar"
      ],
      "metadata": {
        "colab": {
          "base_uri": "https://localhost:8080/"
        },
        "id": "aWnQhJ3Yo-gJ",
        "outputId": "60455849-af98-4267-c03c-92ce8f475408"
      },
      "execution_count": null,
      "outputs": [
        {
          "output_type": "stream",
          "name": "stdout",
          "text": [
            "Starting upload for file Test.tar\n",
            "Warning: Looks like you're using an outdated API Version, please consider updating (server 1.5.12 / client 1.5.4)\n",
            "100% 276M/276M [00:02<00:00, 103MB/s]\n",
            "Upload successful: Test.tar (276MB)\n",
            "Starting upload for file test.txt\n",
            "100% 2.99k/2.99k [00:00<00:00, 11.6kB/s]\n",
            "Upload successful: test.txt (3KB)\n",
            "Starting upload for file test.csv\n",
            "100% 12.9M/12.9M [00:00<00:00, 37.1MB/s]\n",
            "Upload successful: test.csv (13MB)\n",
            "Starting upload for file Train.tar\n",
            "100% 1.08G/1.08G [00:11<00:00, 100MB/s]\n",
            "Upload successful: Train.tar (1GB)\n",
            "Starting upload for file train.csv\n",
            "100% 52.1M/52.1M [00:00<00:00, 82.1MB/s]\n",
            "Upload successful: train.csv (52MB)\n",
            "Starting upload for file train.txt\n",
            "100% 12.2k/12.2k [00:00<00:00, 57.8kB/s]\n",
            "Upload successful: train.txt (12KB)\n",
            "Starting upload for file .ipynb_checkpoints.tar\n",
            "100% 10.0k/10.0k [00:00<00:00, 47.8kB/s]\n",
            "Upload successful: .ipynb_checkpoints.tar (10KB)\n",
            "Your private Dataset is being created. Please check progress at https://www.kaggle.com/bibhash123/tondidataset\n"
          ]
        }
      ]
    },
    {
      "cell_type": "code",
      "source": [
        ""
      ],
      "metadata": {
        "id": "pnZ9rte6pLme"
      },
      "execution_count": null,
      "outputs": []
    }
  ]
}